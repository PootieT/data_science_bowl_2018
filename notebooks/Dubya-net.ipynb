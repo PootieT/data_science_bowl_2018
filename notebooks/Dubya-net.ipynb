{
 "metadata": {
  "name": "",
  "signature": "sha256:b8f57a5dac5e35a97367fc55c07af71a5e06feab912d2408358fca93b0fe84eb"
 },
 "nbformat": 3,
 "nbformat_minor": 0,
 "worksheets": [
  {
   "cells": [
    {
     "cell_type": "code",
     "collapsed": false,
     "input": [
      "import os\n",
      "import sys\n",
      "import random\n",
      "import warnings\n",
      "\n",
      "import numpy as np\n",
      "import pandas as pd\n",
      "\n",
      "import matplotlib.pyplot as plt\n",
      "\n",
      "from tqdm import tqdm\n",
      "from itertools import chain\n",
      "from skimage.io import imread, imshow, imread_collection, concatenate_images\n",
      "from skimage.transform import resize\n",
      "from skimage.morphology import label\n",
      "\n",
      "from keras.models import Model, load_model\n",
      "from keras.layers import Input\n",
      "from keras.layers.core import Dropout, Lambda\n",
      "from keras.layers.convolutional import Conv2D, Conv2DTranspose\n",
      "from keras.layers.pooling import MaxPooling2D\n",
      "from keras.layers.merge import concatenate\n",
      "from keras.callbacks import EarlyStopping, ModelCheckpoint\n",
      "from keras import backend as K\n",
      "\n",
      "import tensorflow as tf\n",
      "\n",
      "# Set some parameters\n",
      "IMG_WIDTH = 256\n",
      "IMG_HEIGHT = 256\n",
      "IMG_CHANNELS = 3\n",
      "TRAIN_PATH = '../data/stage1_train/'\n",
      "TEST_PATH = '../data/stage1_test/'\n",
      "\n",
      "warnings.filterwarnings('ignore', category=UserWarning, module='skimage')\n",
      "seed = 42\n",
      "random.seed = seed\n",
      "np.random.seed = seed\n",
      "%matplotlib inline\n"
     ],
     "language": "python",
     "metadata": {},
     "outputs": [
      {
       "output_type": "stream",
       "stream": "stderr",
       "text": [
        "/home/peter/.local/lib/python2.7/site-packages/h5py/__init__.py:36: FutureWarning: Conversion of the second argument of issubdtype from `float` to `np.floating` is deprecated. In future, it will be treated as `np.float64 == np.dtype(float).type`.\n",
        "  from ._conv import register_converters as _register_converters\n",
        "Using TensorFlow backend.\n"
       ]
      }
     ],
     "prompt_number": 1
    },
    {
     "cell_type": "code",
     "collapsed": false,
     "input": [
      "train_ids = next(os.walk(TRAIN_PATH))[1]\n",
      "test_ids = next(os.walk(TEST_PATH))[1]"
     ],
     "language": "python",
     "metadata": {},
     "outputs": [],
     "prompt_number": 2
    },
    {
     "cell_type": "code",
     "collapsed": false,
     "input": [
      "# Get and resize train images and masks\n",
      "X_train = np.zeros((len(train_ids), IMG_HEIGHT, IMG_WIDTH, IMG_CHANNELS), dtype=np.uint8)\n",
      "Y_train = np.zeros((len(train_ids), IMG_HEIGHT, IMG_WIDTH, 1), dtype=np.bool)\n",
      "print('Getting and resizing train images and masks ... ')\n",
      "sys.stdout.flush()\n",
      "for n, id_ in tqdm(enumerate(train_ids), total=len(train_ids)):\n",
      "    path = TRAIN_PATH + id_\n",
      "    img = imread(path + '/images/' + id_ + '.png')[:,:,:IMG_CHANNELS]\n",
      "    img = resize(img, (IMG_HEIGHT, IMG_WIDTH), mode='constant', preserve_range=True)\n",
      "    X_train[n] = img\n",
      "    mask = np.zeros((IMG_HEIGHT, IMG_WIDTH, 1), dtype=np.bool)\n",
      "    for mask_file in next(os.walk(path + '/masks/'))[2]:\n",
      "        mask_ = imread(path + '/masks/' + mask_file)\n",
      "        mask_ = np.expand_dims(resize(mask_, (IMG_HEIGHT, IMG_WIDTH), mode='constant', \n",
      "                                      preserve_range=True), axis=-1)\n",
      "        mask = np.maximum(mask, mask_)\n",
      "    Y_train[n] = mask\n",
      "\n",
      "# Get and resize test images\n",
      "X_test = np.zeros((len(test_ids), IMG_HEIGHT, IMG_WIDTH, IMG_CHANNELS), dtype=np.uint8)\n",
      "sizes_test = []\n",
      "print('Getting and resizing test images ... ')\n",
      "sys.stdout.flush()\n",
      "for n, id_ in tqdm(enumerate(test_ids), total=len(test_ids)):\n",
      "    path = TEST_PATH + id_\n",
      "    img = imread(path + '/images/' + id_ + '.png')[:,:,:IMG_CHANNELS]\n",
      "    sizes_test.append([img.shape[0], img.shape[1]])\n",
      "    img = resize(img, (IMG_HEIGHT, IMG_WIDTH), mode='constant', preserve_range=True)\n",
      "    X_test[n] = img\n",
      "\n",
      "print('Done!')"
     ],
     "language": "python",
     "metadata": {},
     "outputs": [
      {
       "output_type": "stream",
       "stream": "stdout",
       "text": [
        "Getting and resizing train images and masks ... \n"
       ]
      },
      {
       "output_type": "stream",
       "stream": "stderr",
       "text": [
        "\r",
        "  0%|          | 0/670 [00:00<?, ?it/s]"
       ]
      },
      {
       "output_type": "stream",
       "stream": "stderr",
       "text": [
        "\r",
        "  0%|          | 1/670 [00:00<01:56,  5.76it/s]"
       ]
      },
      {
       "output_type": "stream",
       "stream": "stderr",
       "text": [
        "\r",
        "  0%|          | 2/670 [00:00<01:59,  5.58it/s]"
       ]
      },
      {
       "output_type": "stream",
       "stream": "stderr",
       "text": [
        "\r",
        "  0%|          | 3/670 [00:00<02:40,  4.16it/s]"
       ]
      },
      {
       "output_type": "stream",
       "stream": "stderr",
       "text": [
        "\r",
        "  1%|          | 4/670 [00:01<03:14,  3.42it/s]"
       ]
      },
      {
       "output_type": "stream",
       "stream": "stderr",
       "text": [
        "\r",
        "  1%|          | 6/670 [00:01<02:25,  4.55it/s]"
       ]
      },
      {
       "output_type": "stream",
       "stream": "stderr",
       "text": [
        "\r",
        "  1%|          | 7/670 [00:01<02:48,  3.94it/s]"
       ]
      },
      {
       "output_type": "stream",
       "stream": "stderr",
       "text": [
        "\r",
        "  1%|          | 8/670 [00:01<02:42,  4.08it/s]"
       ]
      },
      {
       "output_type": "stream",
       "stream": "stderr",
       "text": [
        "\r",
        "  1%|\u258f         | 9/670 [00:02<02:33,  4.30it/s]"
       ]
      },
      {
       "output_type": "stream",
       "stream": "stderr",
       "text": [
        "\r",
        "  1%|\u258f         | 10/670 [00:02<02:25,  4.53it/s]"
       ]
      },
      {
       "output_type": "stream",
       "stream": "stderr",
       "text": [
        "\r",
        "  2%|\u258f         | 11/670 [00:02<02:50,  3.86it/s]"
       ]
      },
      {
       "output_type": "stream",
       "stream": "stderr",
       "text": [
        "\r",
        "  2%|\u258f         | 12/670 [00:03<02:58,  3.68it/s]"
       ]
      },
      {
       "output_type": "stream",
       "stream": "stderr",
       "text": [
        "\r",
        "  2%|\u258f         | 13/670 [00:03<02:51,  3.82it/s]"
       ]
      },
      {
       "output_type": "stream",
       "stream": "stderr",
       "text": [
        "\r",
        "  2%|\u258f         | 14/670 [00:03<02:46,  3.94it/s]"
       ]
      },
      {
       "output_type": "stream",
       "stream": "stderr",
       "text": [
        "\r",
        "  2%|\u258f         | 15/670 [00:03<02:41,  4.05it/s]"
       ]
      },
      {
       "output_type": "stream",
       "stream": "stderr",
       "text": [
        "\r",
        "  2%|\u258f         | 16/670 [00:03<02:35,  4.19it/s]"
       ]
      },
      {
       "output_type": "stream",
       "stream": "stderr",
       "text": [
        "\r",
        "  3%|\u258e         | 17/670 [00:04<02:33,  4.25it/s]"
       ]
      },
      {
       "output_type": "stream",
       "stream": "stderr",
       "text": [
        "\r",
        "  3%|\u258e         | 19/670 [00:04<02:20,  4.63it/s]"
       ]
      },
      {
       "output_type": "stream",
       "stream": "stderr",
       "text": [
        "\r",
        "  3%|\u258e         | 21/670 [00:06<03:17,  3.29it/s]"
       ]
      },
      {
       "output_type": "stream",
       "stream": "stderr",
       "text": [
        "\r",
        "  3%|\u258e         | 22/670 [00:07<03:44,  2.89it/s]"
       ]
      },
      {
       "output_type": "stream",
       "stream": "stderr",
       "text": [
        "\r",
        "  4%|\u258e         | 24/670 [00:08<03:42,  2.90it/s]"
       ]
      },
      {
       "output_type": "stream",
       "stream": "stderr",
       "text": [
        "\r",
        "  4%|\u258e         | 25/670 [00:08<03:41,  2.91it/s]"
       ]
      },
      {
       "output_type": "stream",
       "stream": "stderr",
       "text": [
        "\r",
        "  4%|\u258d         | 26/670 [00:08<03:36,  2.98it/s]"
       ]
      },
      {
       "output_type": "stream",
       "stream": "stderr",
       "text": [
        "\r",
        "  4%|\u258d         | 28/670 [00:08<03:22,  3.17it/s]"
       ]
      },
      {
       "output_type": "stream",
       "stream": "stderr",
       "text": [
        "\r",
        "  4%|\u258d         | 29/670 [00:09<03:21,  3.18it/s]"
       ]
      },
      {
       "output_type": "stream",
       "stream": "stderr",
       "text": [
        "\r",
        "  4%|\u258d         | 30/670 [00:09<03:17,  3.23it/s]"
       ]
      },
      {
       "output_type": "stream",
       "stream": "stderr",
       "text": [
        "\r",
        "  5%|\u258d         | 31/670 [00:09<03:17,  3.24it/s]"
       ]
      },
      {
       "output_type": "stream",
       "stream": "stderr",
       "text": [
        "\r",
        "  5%|\u258d         | 32/670 [00:09<03:18,  3.22it/s]"
       ]
      },
      {
       "output_type": "stream",
       "stream": "stderr",
       "text": [
        "\r",
        "  5%|\u258d         | 33/670 [00:10<03:14,  3.27it/s]"
       ]
      },
      {
       "output_type": "stream",
       "stream": "stderr",
       "text": [
        "\r",
        "  5%|\u258c         | 34/670 [00:10<03:10,  3.33it/s]"
       ]
      },
      {
       "output_type": "stream",
       "stream": "stderr",
       "text": [
        "\r",
        "  5%|\u258c         | 35/670 [00:10<03:07,  3.39it/s]"
       ]
      },
      {
       "output_type": "stream",
       "stream": "stderr",
       "text": [
        "\r",
        "  5%|\u258c         | 36/670 [00:10<03:04,  3.43it/s]"
       ]
      },
      {
       "output_type": "stream",
       "stream": "stderr",
       "text": [
        "\r",
        "  6%|\u258c         | 37/670 [00:10<03:05,  3.41it/s]"
       ]
      },
      {
       "output_type": "stream",
       "stream": "stderr",
       "text": [
        "\r",
        "  6%|\u258c         | 38/670 [00:10<03:02,  3.46it/s]"
       ]
      },
      {
       "output_type": "stream",
       "stream": "stderr",
       "text": [
        "\r",
        "  6%|\u258c         | 39/670 [00:13<03:39,  2.88it/s]"
       ]
      },
      {
       "output_type": "stream",
       "stream": "stderr",
       "text": [
        "\r",
        "  6%|\u258c         | 40/670 [00:13<03:36,  2.92it/s]"
       ]
      },
      {
       "output_type": "stream",
       "stream": "stderr",
       "text": [
        "\r",
        "  6%|\u258c         | 41/670 [00:13<03:32,  2.96it/s]"
       ]
      },
      {
       "output_type": "stream",
       "stream": "stderr",
       "text": [
        "\r",
        "  6%|\u258b         | 42/670 [00:14<03:34,  2.92it/s]"
       ]
      },
      {
       "output_type": "stream",
       "stream": "stderr",
       "text": [
        "\r",
        "  7%|\u258b         | 44/670 [00:15<03:38,  2.86it/s]"
       ]
      },
      {
       "output_type": "stream",
       "stream": "stderr",
       "text": [
        "\r",
        "  7%|\u258b         | 45/670 [00:15<03:38,  2.86it/s]"
       ]
      },
      {
       "output_type": "stream",
       "stream": "stderr",
       "text": [
        "\r",
        "  7%|\u258b         | 46/670 [00:15<03:35,  2.90it/s]"
       ]
      },
      {
       "output_type": "stream",
       "stream": "stderr",
       "text": [
        "\r",
        "  7%|\u258b         | 48/670 [00:16<03:27,  3.00it/s]"
       ]
      },
      {
       "output_type": "stream",
       "stream": "stderr",
       "text": [
        "\r",
        "  7%|\u258b         | 49/670 [00:16<03:24,  3.03it/s]"
       ]
      },
      {
       "output_type": "stream",
       "stream": "stderr",
       "text": [
        "\r",
        "  7%|\u258b         | 50/670 [00:16<03:22,  3.06it/s]"
       ]
      },
      {
       "output_type": "stream",
       "stream": "stderr",
       "text": [
        "\r",
        "  8%|\u258a         | 52/670 [00:17<03:29,  2.95it/s]"
       ]
      },
      {
       "output_type": "stream",
       "stream": "stderr",
       "text": [
        "\r",
        "  8%|\u258a         | 54/670 [00:17<03:22,  3.04it/s]"
       ]
      },
      {
       "output_type": "stream",
       "stream": "stderr",
       "text": [
        "\r",
        "  8%|\u258a         | 55/670 [00:17<03:20,  3.07it/s]"
       ]
      },
      {
       "output_type": "stream",
       "stream": "stderr",
       "text": [
        "\r",
        "  8%|\u258a         | 56/670 [00:18<03:17,  3.11it/s]"
       ]
      },
      {
       "output_type": "stream",
       "stream": "stderr",
       "text": [
        "\r",
        "  9%|\u258a         | 57/670 [00:18<03:16,  3.13it/s]"
       ]
      },
      {
       "output_type": "stream",
       "stream": "stderr",
       "text": [
        "\r",
        "  9%|\u258a         | 58/670 [00:18<03:13,  3.16it/s]"
       ]
      },
      {
       "output_type": "stream",
       "stream": "stderr",
       "text": [
        "\r",
        "  9%|\u2589         | 59/670 [00:18<03:12,  3.18it/s]"
       ]
      },
      {
       "output_type": "stream",
       "stream": "stderr",
       "text": [
        "\r",
        "  9%|\u2589         | 60/670 [00:20<03:25,  2.97it/s]"
       ]
      },
      {
       "output_type": "stream",
       "stream": "stderr",
       "text": [
        "\r",
        "  9%|\u2589         | 61/670 [00:20<03:22,  3.00it/s]"
       ]
      },
      {
       "output_type": "stream",
       "stream": "stderr",
       "text": [
        "\r",
        "  9%|\u2589         | 62/670 [00:20<03:20,  3.03it/s]"
       ]
      },
      {
       "output_type": "stream",
       "stream": "stderr",
       "text": [
        "\r",
        " 10%|\u2589         | 64/670 [00:21<03:27,  2.93it/s]"
       ]
      },
      {
       "output_type": "stream",
       "stream": "stderr",
       "text": [
        "\r",
        " 10%|\u2589         | 66/670 [00:22<03:30,  2.87it/s]"
       ]
      },
      {
       "output_type": "stream",
       "stream": "stderr",
       "text": [
        "\r",
        " 10%|\u2588         | 67/670 [00:23<03:30,  2.87it/s]"
       ]
      },
      {
       "output_type": "stream",
       "stream": "stderr",
       "text": [
        "\r",
        " 10%|\u2588         | 68/670 [00:23<03:32,  2.83it/s]"
       ]
      },
      {
       "output_type": "stream",
       "stream": "stderr",
       "text": [
        "\r",
        " 10%|\u2588         | 69/670 [00:24<03:30,  2.86it/s]"
       ]
      },
      {
       "output_type": "stream",
       "stream": "stderr",
       "text": [
        "\r",
        " 11%|\u2588         | 71/670 [00:24<03:24,  2.93it/s]"
       ]
      },
      {
       "output_type": "stream",
       "stream": "stderr",
       "text": [
        "\r",
        " 11%|\u2588         | 72/670 [00:24<03:26,  2.90it/s]"
       ]
      },
      {
       "output_type": "stream",
       "stream": "stderr",
       "text": [
        "\r",
        " 11%|\u2588         | 73/670 [00:25<03:24,  2.91it/s]"
       ]
      },
      {
       "output_type": "stream",
       "stream": "stderr",
       "text": [
        "\r",
        " 11%|\u2588         | 74/670 [00:25<03:22,  2.94it/s]"
       ]
      },
      {
       "output_type": "stream",
       "stream": "stderr",
       "text": [
        "\r",
        " 11%|\u2588\u258f        | 76/670 [00:25<03:19,  2.97it/s]"
       ]
      },
      {
       "output_type": "stream",
       "stream": "stderr",
       "text": [
        "\r",
        " 11%|\u2588\u258f        | 77/670 [00:26<03:24,  2.90it/s]"
       ]
      },
      {
       "output_type": "stream",
       "stream": "stderr",
       "text": [
        "\r",
        " 12%|\u2588\u258f        | 78/670 [00:26<03:22,  2.92it/s]"
       ]
      },
      {
       "output_type": "stream",
       "stream": "stderr",
       "text": [
        "\r",
        " 12%|\u2588\u258f        | 79/670 [00:26<03:20,  2.94it/s]"
       ]
      },
      {
       "output_type": "stream",
       "stream": "stderr",
       "text": [
        "\r",
        " 12%|\u2588\u258f        | 81/670 [00:26<03:16,  3.00it/s]"
       ]
      },
      {
       "output_type": "stream",
       "stream": "stderr",
       "text": [
        "\r",
        " 12%|\u2588\u258f        | 83/670 [00:27<03:11,  3.06it/s]"
       ]
      },
      {
       "output_type": "stream",
       "stream": "stderr",
       "text": [
        "\r",
        " 13%|\u2588\u258e        | 85/670 [00:27<03:07,  3.11it/s]"
       ]
      },
      {
       "output_type": "stream",
       "stream": "stderr",
       "text": [
        "\r",
        " 13%|\u2588\u258e        | 87/670 [00:28<03:11,  3.05it/s]"
       ]
      },
      {
       "output_type": "stream",
       "stream": "stderr",
       "text": [
        "\r",
        " 13%|\u2588\u258e        | 88/670 [00:29<03:12,  3.03it/s]"
       ]
      },
      {
       "output_type": "stream",
       "stream": "stderr",
       "text": [
        "\r",
        " 13%|\u2588\u258e        | 89/670 [00:29<03:10,  3.05it/s]"
       ]
      },
      {
       "output_type": "stream",
       "stream": "stderr",
       "text": [
        "\r",
        " 13%|\u2588\u258e        | 90/670 [00:29<03:10,  3.05it/s]"
       ]
      },
      {
       "output_type": "stream",
       "stream": "stderr",
       "text": [
        "\r",
        " 14%|\u2588\u258e        | 91/670 [00:29<03:10,  3.05it/s]"
       ]
      },
      {
       "output_type": "stream",
       "stream": "stderr",
       "text": [
        "\r",
        " 14%|\u2588\u258e        | 92/670 [00:30<03:12,  3.00it/s]"
       ]
      },
      {
       "output_type": "stream",
       "stream": "stderr",
       "text": [
        "\r",
        " 14%|\u2588\u258d        | 95/670 [00:31<03:08,  3.06it/s]"
       ]
      },
      {
       "output_type": "stream",
       "stream": "stderr",
       "text": [
        "\r",
        " 14%|\u2588\u258d        | 96/670 [00:31<03:09,  3.03it/s]"
       ]
      },
      {
       "output_type": "stream",
       "stream": "stderr",
       "text": [
        "\r",
        " 15%|\u2588\u258d        | 98/670 [00:31<03:05,  3.08it/s]"
       ]
      },
      {
       "output_type": "stream",
       "stream": "stderr",
       "text": [
        "\r",
        " 15%|\u2588\u258d        | 99/670 [00:32<03:04,  3.09it/s]"
       ]
      },
      {
       "output_type": "stream",
       "stream": "stderr",
       "text": [
        "\r",
        " 15%|\u2588\u258d        | 100/670 [00:32<03:04,  3.09it/s]"
       ]
      },
      {
       "output_type": "stream",
       "stream": "stderr",
       "text": [
        "\r",
        " 15%|\u2588\u258c        | 101/670 [00:32<03:04,  3.09it/s]"
       ]
      },
      {
       "output_type": "stream",
       "stream": "stderr",
       "text": [
        "\r",
        " 15%|\u2588\u258c        | 102/670 [00:32<03:03,  3.10it/s]"
       ]
      },
      {
       "output_type": "stream",
       "stream": "stderr",
       "text": [
        "\r",
        " 15%|\u2588\u258c        | 103/670 [00:33<03:02,  3.11it/s]"
       ]
      },
      {
       "output_type": "stream",
       "stream": "stderr",
       "text": [
        "\r",
        " 16%|\u2588\u258c        | 105/670 [00:33<02:59,  3.15it/s]"
       ]
      },
      {
       "output_type": "stream",
       "stream": "stderr",
       "text": [
        "\r",
        " 16%|\u2588\u258c        | 106/670 [00:33<02:58,  3.16it/s]"
       ]
      },
      {
       "output_type": "stream",
       "stream": "stderr",
       "text": [
        "\r",
        " 16%|\u2588\u258c        | 107/670 [00:33<02:57,  3.17it/s]"
       ]
      },
      {
       "output_type": "stream",
       "stream": "stderr",
       "text": [
        "\r",
        " 16%|\u2588\u258c        | 108/670 [00:33<02:56,  3.18it/s]"
       ]
      },
      {
       "output_type": "stream",
       "stream": "stderr",
       "text": [
        "\r",
        " 16%|\u2588\u258b        | 109/670 [00:34<02:55,  3.20it/s]"
       ]
      },
      {
       "output_type": "stream",
       "stream": "stderr",
       "text": [
        "\r",
        " 16%|\u2588\u258b        | 110/670 [00:34<02:57,  3.15it/s]"
       ]
      },
      {
       "output_type": "stream",
       "stream": "stderr",
       "text": [
        "\r",
        " 17%|\u2588\u258b        | 111/670 [00:35<02:56,  3.17it/s]"
       ]
      },
      {
       "output_type": "stream",
       "stream": "stderr",
       "text": [
        "\r",
        " 17%|\u2588\u258b        | 112/670 [00:35<02:55,  3.17it/s]"
       ]
      },
      {
       "output_type": "stream",
       "stream": "stderr",
       "text": [
        "\r",
        " 17%|\u2588\u258b        | 113/670 [00:35<02:54,  3.19it/s]"
       ]
      },
      {
       "output_type": "stream",
       "stream": "stderr",
       "text": [
        "\r",
        " 17%|\u2588\u258b        | 115/670 [00:35<02:51,  3.23it/s]"
       ]
      },
      {
       "output_type": "stream",
       "stream": "stderr",
       "text": [
        "\r",
        " 17%|\u2588\u258b        | 116/670 [00:35<02:50,  3.25it/s]"
       ]
      },
      {
       "output_type": "stream",
       "stream": "stderr",
       "text": [
        "\r",
        " 17%|\u2588\u258b        | 117/670 [00:35<02:49,  3.26it/s]"
       ]
      },
      {
       "output_type": "stream",
       "stream": "stderr",
       "text": [
        "\r",
        " 18%|\u2588\u258a        | 118/670 [00:36<02:48,  3.27it/s]"
       ]
      },
      {
       "output_type": "stream",
       "stream": "stderr",
       "text": [
        "\r",
        " 18%|\u2588\u258a        | 119/670 [00:36<02:50,  3.23it/s]"
       ]
      },
      {
       "output_type": "stream",
       "stream": "stderr",
       "text": [
        "\r",
        " 18%|\u2588\u258a        | 121/670 [00:37<02:47,  3.27it/s]"
       ]
      },
      {
       "output_type": "stream",
       "stream": "stderr",
       "text": [
        "\r",
        " 18%|\u2588\u258a        | 122/670 [00:37<02:48,  3.25it/s]"
       ]
      },
      {
       "output_type": "stream",
       "stream": "stderr",
       "text": [
        "\r",
        " 19%|\u2588\u258a        | 124/670 [00:37<02:46,  3.27it/s]"
       ]
      },
      {
       "output_type": "stream",
       "stream": "stderr",
       "text": [
        "\r",
        " 19%|\u2588\u258a        | 125/670 [00:38<02:46,  3.28it/s]"
       ]
      },
      {
       "output_type": "stream",
       "stream": "stderr",
       "text": [
        "\r",
        " 19%|\u2588\u2589        | 126/670 [00:38<02:45,  3.29it/s]"
       ]
      },
      {
       "output_type": "stream",
       "stream": "stderr",
       "text": [
        "\r",
        " 19%|\u2588\u2589        | 127/670 [00:38<02:44,  3.29it/s]"
       ]
      },
      {
       "output_type": "stream",
       "stream": "stderr",
       "text": [
        "\r",
        " 19%|\u2588\u2589        | 129/670 [00:38<02:43,  3.31it/s]"
       ]
      },
      {
       "output_type": "stream",
       "stream": "stderr",
       "text": [
        "\r",
        " 20%|\u2588\u2589        | 131/670 [00:39<02:40,  3.35it/s]"
       ]
      },
      {
       "output_type": "stream",
       "stream": "stderr",
       "text": [
        "\r",
        " 20%|\u2588\u2589        | 132/670 [00:39<02:40,  3.36it/s]"
       ]
      },
      {
       "output_type": "stream",
       "stream": "stderr",
       "text": [
        "\r",
        " 20%|\u2588\u2589        | 133/670 [00:39<02:39,  3.37it/s]"
       ]
      },
      {
       "output_type": "stream",
       "stream": "stderr",
       "text": [
        "\r",
        " 20%|\u2588\u2588        | 134/670 [00:39<02:38,  3.38it/s]"
       ]
      },
      {
       "output_type": "stream",
       "stream": "stderr",
       "text": [
        "\r",
        " 20%|\u2588\u2588        | 135/670 [00:39<02:37,  3.40it/s]"
       ]
      },
      {
       "output_type": "stream",
       "stream": "stderr",
       "text": [
        "\r",
        " 20%|\u2588\u2588        | 137/670 [00:39<02:35,  3.43it/s]"
       ]
      },
      {
       "output_type": "stream",
       "stream": "stderr",
       "text": [
        "\r",
        " 21%|\u2588\u2588        | 138/670 [00:40<02:34,  3.43it/s]"
       ]
      },
      {
       "output_type": "stream",
       "stream": "stderr",
       "text": [
        "\r",
        " 21%|\u2588\u2588        | 140/670 [00:41<02:35,  3.41it/s]"
       ]
      },
      {
       "output_type": "stream",
       "stream": "stderr",
       "text": [
        "\r",
        " 21%|\u2588\u2588        | 141/670 [00:41<02:34,  3.41it/s]"
       ]
      },
      {
       "output_type": "stream",
       "stream": "stderr",
       "text": [
        "\r",
        " 21%|\u2588\u2588        | 142/670 [00:41<02:34,  3.42it/s]"
       ]
      },
      {
       "output_type": "stream",
       "stream": "stderr",
       "text": [
        "\r",
        " 21%|\u2588\u2588\u258f       | 143/670 [00:41<02:34,  3.42it/s]"
       ]
      },
      {
       "output_type": "stream",
       "stream": "stderr",
       "text": [
        "\r",
        " 21%|\u2588\u2588\u258f       | 144/670 [00:42<02:35,  3.39it/s]"
       ]
      },
      {
       "output_type": "stream",
       "stream": "stderr",
       "text": [
        "\r",
        " 22%|\u2588\u2588\u258f       | 145/670 [00:42<02:34,  3.39it/s]"
       ]
      },
      {
       "output_type": "stream",
       "stream": "stderr",
       "text": [
        "\r",
        " 22%|\u2588\u2588\u258f       | 147/670 [00:43<02:33,  3.41it/s]"
       ]
      },
      {
       "output_type": "stream",
       "stream": "stderr",
       "text": [
        "\r",
        " 22%|\u2588\u2588\u258f       | 148/670 [00:43<02:32,  3.42it/s]"
       ]
      },
      {
       "output_type": "stream",
       "stream": "stderr",
       "text": [
        "\r",
        " 22%|\u2588\u2588\u258f       | 150/670 [00:43<02:31,  3.43it/s]"
       ]
      },
      {
       "output_type": "stream",
       "stream": "stderr",
       "text": [
        "\r",
        " 23%|\u2588\u2588\u258e       | 151/670 [00:43<02:30,  3.44it/s]"
       ]
      },
      {
       "output_type": "stream",
       "stream": "stderr",
       "text": [
        "\r",
        " 23%|\u2588\u2588\u258e       | 152/670 [00:44<02:30,  3.44it/s]"
       ]
      },
      {
       "output_type": "stream",
       "stream": "stderr",
       "text": [
        "\r",
        " 23%|\u2588\u2588\u258e       | 153/670 [00:44<02:29,  3.45it/s]"
       ]
      },
      {
       "output_type": "stream",
       "stream": "stderr",
       "text": [
        "\r",
        " 23%|\u2588\u2588\u258e       | 154/670 [00:44<02:28,  3.47it/s]"
       ]
      },
      {
       "output_type": "stream",
       "stream": "stderr",
       "text": [
        "\r",
        " 23%|\u2588\u2588\u258e       | 155/670 [00:44<02:28,  3.47it/s]"
       ]
      },
      {
       "output_type": "stream",
       "stream": "stderr",
       "text": [
        "\r",
        " 23%|\u2588\u2588\u258e       | 157/670 [00:44<02:26,  3.50it/s]"
       ]
      },
      {
       "output_type": "stream",
       "stream": "stderr",
       "text": [
        "\r",
        " 24%|\u2588\u2588\u258e       | 158/670 [00:45<02:26,  3.50it/s]"
       ]
      },
      {
       "output_type": "stream",
       "stream": "stderr",
       "text": [
        "\r",
        " 24%|\u2588\u2588\u258e       | 159/670 [00:45<02:26,  3.49it/s]"
       ]
      },
      {
       "output_type": "stream",
       "stream": "stderr",
       "text": [
        "\r",
        " 24%|\u2588\u2588\u258d       | 160/670 [00:45<02:25,  3.50it/s]"
       ]
      },
      {
       "output_type": "stream",
       "stream": "stderr",
       "text": [
        "\r",
        " 24%|\u2588\u2588\u258d       | 161/670 [00:45<02:24,  3.52it/s]"
       ]
      },
      {
       "output_type": "stream",
       "stream": "stderr",
       "text": [
        "\r",
        " 24%|\u2588\u2588\u258d       | 162/670 [00:46<02:26,  3.46it/s]"
       ]
      },
      {
       "output_type": "stream",
       "stream": "stderr",
       "text": [
        "\r",
        " 24%|\u2588\u2588\u258d       | 163/670 [00:47<02:29,  3.40it/s]"
       ]
      },
      {
       "output_type": "stream",
       "stream": "stderr",
       "text": [
        "\r",
        " 25%|\u2588\u2588\u258d       | 165/670 [00:48<02:27,  3.42it/s]"
       ]
      },
      {
       "output_type": "stream",
       "stream": "stderr",
       "text": [
        "\r",
        " 25%|\u2588\u2588\u258d       | 167/670 [00:48<02:26,  3.44it/s]"
       ]
      },
      {
       "output_type": "stream",
       "stream": "stderr",
       "text": [
        "\r",
        " 25%|\u2588\u2588\u258c       | 169/670 [00:48<02:24,  3.46it/s]"
       ]
      },
      {
       "output_type": "stream",
       "stream": "stderr",
       "text": [
        "\r",
        " 25%|\u2588\u2588\u258c       | 170/670 [00:50<02:28,  3.36it/s]"
       ]
      },
      {
       "output_type": "stream",
       "stream": "stderr",
       "text": [
        "\r",
        " 26%|\u2588\u2588\u258c       | 171/670 [00:50<02:27,  3.37it/s]"
       ]
      },
      {
       "output_type": "stream",
       "stream": "stderr",
       "text": [
        "\r",
        " 26%|\u2588\u2588\u258c       | 172/670 [00:50<02:27,  3.38it/s]"
       ]
      },
      {
       "output_type": "stream",
       "stream": "stderr",
       "text": [
        "\r",
        " 26%|\u2588\u2588\u258c       | 174/670 [00:51<02:26,  3.38it/s]"
       ]
      },
      {
       "output_type": "stream",
       "stream": "stderr",
       "text": [
        "\r",
        " 26%|\u2588\u2588\u258c       | 175/670 [00:51<02:26,  3.38it/s]"
       ]
      },
      {
       "output_type": "stream",
       "stream": "stderr",
       "text": [
        "\r",
        " 26%|\u2588\u2588\u258b       | 176/670 [00:51<02:25,  3.39it/s]"
       ]
      },
      {
       "output_type": "stream",
       "stream": "stderr",
       "text": [
        "\r",
        " 26%|\u2588\u2588\u258b       | 177/670 [00:52<02:25,  3.40it/s]"
       ]
      },
      {
       "output_type": "stream",
       "stream": "stderr",
       "text": [
        "\r",
        " 27%|\u2588\u2588\u258b       | 178/670 [00:52<02:25,  3.39it/s]"
       ]
      },
      {
       "output_type": "stream",
       "stream": "stderr",
       "text": [
        "\r",
        " 27%|\u2588\u2588\u258b       | 179/670 [00:53<02:26,  3.35it/s]"
       ]
      },
      {
       "output_type": "stream",
       "stream": "stderr",
       "text": [
        "\r",
        " 27%|\u2588\u2588\u258b       | 181/670 [00:53<02:24,  3.37it/s]"
       ]
      },
      {
       "output_type": "stream",
       "stream": "stderr",
       "text": [
        "\r",
        " 27%|\u2588\u2588\u258b       | 182/670 [00:53<02:24,  3.38it/s]"
       ]
      },
      {
       "output_type": "stream",
       "stream": "stderr",
       "text": [
        "\r",
        " 27%|\u2588\u2588\u258b       | 183/670 [00:53<02:23,  3.39it/s]"
       ]
      },
      {
       "output_type": "stream",
       "stream": "stderr",
       "text": [
        "\r",
        " 27%|\u2588\u2588\u258b       | 184/670 [00:54<02:23,  3.39it/s]"
       ]
      },
      {
       "output_type": "stream",
       "stream": "stderr",
       "text": [
        "\r",
        " 28%|\u2588\u2588\u258a       | 185/670 [00:54<02:22,  3.40it/s]"
       ]
      },
      {
       "output_type": "stream",
       "stream": "stderr",
       "text": [
        "\r",
        " 28%|\u2588\u2588\u258a       | 186/670 [00:54<02:22,  3.41it/s]"
       ]
      },
      {
       "output_type": "stream",
       "stream": "stderr",
       "text": [
        "\r",
        " 28%|\u2588\u2588\u258a       | 188/670 [00:54<02:20,  3.44it/s]"
       ]
      },
      {
       "output_type": "stream",
       "stream": "stderr",
       "text": [
        "\r",
        " 28%|\u2588\u2588\u258a       | 190/670 [00:54<02:18,  3.46it/s]"
       ]
      },
      {
       "output_type": "stream",
       "stream": "stderr",
       "text": [
        "\r",
        " 29%|\u2588\u2588\u258a       | 192/670 [00:55<02:17,  3.49it/s]"
       ]
      },
      {
       "output_type": "stream",
       "stream": "stderr",
       "text": [
        "\r",
        " 29%|\u2588\u2588\u2589       | 194/670 [00:55<02:17,  3.47it/s]"
       ]
      },
      {
       "output_type": "stream",
       "stream": "stderr",
       "text": [
        "\r",
        " 29%|\u2588\u2588\u2589       | 195/670 [00:56<02:16,  3.48it/s]"
       ]
      },
      {
       "output_type": "stream",
       "stream": "stderr",
       "text": [
        "\r",
        " 29%|\u2588\u2588\u2589       | 197/670 [00:56<02:15,  3.50it/s]"
       ]
      },
      {
       "output_type": "stream",
       "stream": "stderr",
       "text": [
        "\r",
        " 30%|\u2588\u2588\u2589       | 198/670 [00:56<02:14,  3.50it/s]"
       ]
      },
      {
       "output_type": "stream",
       "stream": "stderr",
       "text": [
        "\r",
        " 30%|\u2588\u2588\u2589       | 199/670 [00:56<02:14,  3.50it/s]"
       ]
      },
      {
       "output_type": "stream",
       "stream": "stderr",
       "text": [
        "\r",
        " 30%|\u2588\u2588\u2588       | 201/670 [00:57<02:13,  3.51it/s]"
       ]
      },
      {
       "output_type": "stream",
       "stream": "stderr",
       "text": [
        "\r",
        " 30%|\u2588\u2588\u2588       | 202/670 [00:57<02:13,  3.50it/s]"
       ]
      },
      {
       "output_type": "stream",
       "stream": "stderr",
       "text": [
        "\r",
        " 30%|\u2588\u2588\u2588       | 203/670 [00:58<02:14,  3.47it/s]"
       ]
      },
      {
       "output_type": "stream",
       "stream": "stderr",
       "text": [
        "\r",
        " 30%|\u2588\u2588\u2588       | 204/670 [00:58<02:14,  3.47it/s]"
       ]
      },
      {
       "output_type": "stream",
       "stream": "stderr",
       "text": [
        "\r",
        " 31%|\u2588\u2588\u2588       | 205/670 [00:58<02:13,  3.48it/s]"
       ]
      },
      {
       "output_type": "stream",
       "stream": "stderr",
       "text": [
        "\r",
        " 31%|\u2588\u2588\u2588       | 206/670 [01:00<02:15,  3.42it/s]"
       ]
      },
      {
       "output_type": "stream",
       "stream": "stderr",
       "text": [
        "\r",
        " 31%|\u2588\u2588\u2588       | 207/670 [01:01<02:18,  3.35it/s]"
       ]
      },
      {
       "output_type": "stream",
       "stream": "stderr",
       "text": [
        "\r",
        " 31%|\u2588\u2588\u2588       | 208/670 [01:02<02:18,  3.35it/s]"
       ]
      },
      {
       "output_type": "stream",
       "stream": "stderr",
       "text": [
        "\r",
        " 31%|\u2588\u2588\u2588       | 209/670 [01:02<02:17,  3.36it/s]"
       ]
      },
      {
       "output_type": "stream",
       "stream": "stderr",
       "text": [
        "\r",
        " 31%|\u2588\u2588\u2588\u258f      | 210/670 [01:02<02:16,  3.36it/s]"
       ]
      },
      {
       "output_type": "stream",
       "stream": "stderr",
       "text": [
        "\r",
        " 31%|\u2588\u2588\u2588\u258f      | 211/670 [01:02<02:16,  3.35it/s]"
       ]
      },
      {
       "output_type": "stream",
       "stream": "stderr",
       "text": [
        "\r",
        " 32%|\u2588\u2588\u2588\u258f      | 213/670 [01:03<02:15,  3.38it/s]"
       ]
      },
      {
       "output_type": "stream",
       "stream": "stderr",
       "text": [
        "\r",
        " 32%|\u2588\u2588\u2588\u258f      | 214/670 [01:03<02:14,  3.39it/s]"
       ]
      },
      {
       "output_type": "stream",
       "stream": "stderr",
       "text": [
        "\r",
        " 32%|\u2588\u2588\u2588\u258f      | 216/670 [01:03<02:13,  3.41it/s]"
       ]
      },
      {
       "output_type": "stream",
       "stream": "stderr",
       "text": [
        "\r",
        " 32%|\u2588\u2588\u2588\u258f      | 217/670 [01:05<02:16,  3.32it/s]"
       ]
      },
      {
       "output_type": "stream",
       "stream": "stderr",
       "text": [
        "\r",
        " 33%|\u2588\u2588\u2588\u258e      | 218/670 [01:06<02:17,  3.29it/s]"
       ]
      },
      {
       "output_type": "stream",
       "stream": "stderr",
       "text": [
        "\r",
        " 33%|\u2588\u2588\u2588\u258e      | 220/670 [01:07<02:17,  3.27it/s]"
       ]
      },
      {
       "output_type": "stream",
       "stream": "stderr",
       "text": [
        "\r",
        " 33%|\u2588\u2588\u2588\u258e      | 221/670 [01:09<02:20,  3.20it/s]"
       ]
      },
      {
       "output_type": "stream",
       "stream": "stderr",
       "text": [
        "\r",
        " 33%|\u2588\u2588\u2588\u258e      | 222/670 [01:09<02:19,  3.20it/s]"
       ]
      },
      {
       "output_type": "stream",
       "stream": "stderr",
       "text": [
        "\r",
        " 33%|\u2588\u2588\u2588\u258e      | 223/670 [01:09<02:19,  3.21it/s]"
       ]
      },
      {
       "output_type": "stream",
       "stream": "stderr",
       "text": [
        "\r",
        " 33%|\u2588\u2588\u2588\u258e      | 224/670 [01:09<02:18,  3.22it/s]"
       ]
      },
      {
       "output_type": "stream",
       "stream": "stderr",
       "text": [
        "\r",
        " 34%|\u2588\u2588\u2588\u258e      | 225/670 [01:09<02:17,  3.23it/s]"
       ]
      },
      {
       "output_type": "stream",
       "stream": "stderr",
       "text": [
        "\r",
        " 34%|\u2588\u2588\u2588\u258e      | 226/670 [01:09<02:17,  3.23it/s]"
       ]
      },
      {
       "output_type": "stream",
       "stream": "stderr",
       "text": [
        "\r",
        " 34%|\u2588\u2588\u2588\u258d      | 227/670 [01:10<02:16,  3.24it/s]"
       ]
      },
      {
       "output_type": "stream",
       "stream": "stderr",
       "text": [
        "\r",
        " 34%|\u2588\u2588\u2588\u258d      | 228/670 [01:10<02:16,  3.24it/s]"
       ]
      },
      {
       "output_type": "stream",
       "stream": "stderr",
       "text": [
        "\r",
        " 34%|\u2588\u2588\u2588\u258d      | 230/670 [01:10<02:14,  3.26it/s]"
       ]
      },
      {
       "output_type": "stream",
       "stream": "stderr",
       "text": [
        "\r",
        " 35%|\u2588\u2588\u2588\u258d      | 232/670 [01:10<02:13,  3.28it/s]"
       ]
      },
      {
       "output_type": "stream",
       "stream": "stderr",
       "text": [
        "\r",
        " 35%|\u2588\u2588\u2588\u258c      | 235/670 [01:11<02:11,  3.31it/s]"
       ]
      },
      {
       "output_type": "stream",
       "stream": "stderr",
       "text": [
        "\r",
        " 35%|\u2588\u2588\u2588\u258c      | 236/670 [01:11<02:11,  3.31it/s]"
       ]
      },
      {
       "output_type": "stream",
       "stream": "stderr",
       "text": [
        "\r",
        " 35%|\u2588\u2588\u2588\u258c      | 237/670 [01:11<02:10,  3.32it/s]"
       ]
      },
      {
       "output_type": "stream",
       "stream": "stderr",
       "text": [
        "\r",
        " 36%|\u2588\u2588\u2588\u258c      | 238/670 [01:13<02:13,  3.24it/s]"
       ]
      },
      {
       "output_type": "stream",
       "stream": "stderr",
       "text": [
        "\r",
        " 36%|\u2588\u2588\u2588\u258c      | 239/670 [01:13<02:12,  3.25it/s]"
       ]
      },
      {
       "output_type": "stream",
       "stream": "stderr",
       "text": [
        "\r",
        " 36%|\u2588\u2588\u2588\u258c      | 241/670 [01:13<02:11,  3.27it/s]"
       ]
      },
      {
       "output_type": "stream",
       "stream": "stderr",
       "text": [
        "\r",
        " 36%|\u2588\u2588\u2588\u258c      | 242/670 [01:13<02:10,  3.27it/s]"
       ]
      },
      {
       "output_type": "stream",
       "stream": "stderr",
       "text": [
        "\r",
        " 36%|\u2588\u2588\u2588\u258b      | 243/670 [01:14<02:10,  3.28it/s]"
       ]
      },
      {
       "output_type": "stream",
       "stream": "stderr",
       "text": [
        "\r",
        " 36%|\u2588\u2588\u2588\u258b      | 244/670 [01:14<02:09,  3.28it/s]"
       ]
      },
      {
       "output_type": "stream",
       "stream": "stderr",
       "text": [
        "\r",
        " 37%|\u2588\u2588\u2588\u258b      | 245/670 [01:14<02:09,  3.29it/s]"
       ]
      },
      {
       "output_type": "stream",
       "stream": "stderr",
       "text": [
        "\r",
        " 37%|\u2588\u2588\u2588\u258b      | 246/670 [01:14<02:08,  3.29it/s]"
       ]
      },
      {
       "output_type": "stream",
       "stream": "stderr",
       "text": [
        "\r",
        " 37%|\u2588\u2588\u2588\u258b      | 248/670 [01:15<02:07,  3.30it/s]"
       ]
      },
      {
       "output_type": "stream",
       "stream": "stderr",
       "text": [
        "\r",
        " 37%|\u2588\u2588\u2588\u258b      | 249/670 [01:15<02:07,  3.30it/s]"
       ]
      },
      {
       "output_type": "stream",
       "stream": "stderr",
       "text": [
        "\r",
        " 37%|\u2588\u2588\u2588\u258b      | 250/670 [01:16<02:08,  3.27it/s]"
       ]
      },
      {
       "output_type": "stream",
       "stream": "stderr",
       "text": [
        "\r",
        " 37%|\u2588\u2588\u2588\u258b      | 251/670 [01:16<02:07,  3.28it/s]"
       ]
      },
      {
       "output_type": "stream",
       "stream": "stderr",
       "text": [
        "\r",
        " 38%|\u2588\u2588\u2588\u258a      | 252/670 [01:17<02:08,  3.25it/s]"
       ]
      },
      {
       "output_type": "stream",
       "stream": "stderr",
       "text": [
        "\r",
        " 38%|\u2588\u2588\u2588\u258a      | 253/670 [01:17<02:08,  3.25it/s]"
       ]
      },
      {
       "output_type": "stream",
       "stream": "stderr",
       "text": [
        "\r",
        " 38%|\u2588\u2588\u2588\u258a      | 254/670 [01:18<02:09,  3.22it/s]"
       ]
      },
      {
       "output_type": "stream",
       "stream": "stderr",
       "text": [
        "\r",
        " 38%|\u2588\u2588\u2588\u258a      | 255/670 [01:19<02:08,  3.22it/s]"
       ]
      },
      {
       "output_type": "stream",
       "stream": "stderr",
       "text": [
        "\r",
        " 38%|\u2588\u2588\u2588\u258a      | 256/670 [01:19<02:08,  3.23it/s]"
       ]
      },
      {
       "output_type": "stream",
       "stream": "stderr",
       "text": [
        "\r",
        " 39%|\u2588\u2588\u2588\u258a      | 258/670 [01:19<02:06,  3.25it/s]"
       ]
      },
      {
       "output_type": "stream",
       "stream": "stderr",
       "text": [
        "\r",
        " 39%|\u2588\u2588\u2588\u258a      | 259/670 [01:19<02:06,  3.25it/s]"
       ]
      },
      {
       "output_type": "stream",
       "stream": "stderr",
       "text": [
        "\r",
        " 39%|\u2588\u2588\u2588\u2589      | 260/670 [01:19<02:05,  3.26it/s]"
       ]
      },
      {
       "output_type": "stream",
       "stream": "stderr",
       "text": [
        "\r",
        " 39%|\u2588\u2588\u2588\u2589      | 261/670 [01:20<02:05,  3.26it/s]"
       ]
      },
      {
       "output_type": "stream",
       "stream": "stderr",
       "text": [
        "\r",
        " 39%|\u2588\u2588\u2588\u2589      | 262/670 [01:20<02:05,  3.24it/s]"
       ]
      },
      {
       "output_type": "stream",
       "stream": "stderr",
       "text": [
        "\r",
        " 39%|\u2588\u2588\u2588\u2589      | 263/670 [01:21<02:06,  3.23it/s]"
       ]
      },
      {
       "output_type": "stream",
       "stream": "stderr",
       "text": [
        "\r",
        " 39%|\u2588\u2588\u2588\u2589      | 264/670 [01:21<02:05,  3.23it/s]"
       ]
      },
      {
       "output_type": "stream",
       "stream": "stderr",
       "text": [
        "\r",
        " 40%|\u2588\u2588\u2588\u2589      | 266/670 [01:21<02:04,  3.25it/s]"
       ]
      },
      {
       "output_type": "stream",
       "stream": "stderr",
       "text": [
        "\r",
        " 40%|\u2588\u2588\u2588\u2589      | 267/670 [01:22<02:04,  3.24it/s]"
       ]
      },
      {
       "output_type": "stream",
       "stream": "stderr",
       "text": [
        "\r",
        " 40%|\u2588\u2588\u2588\u2588      | 268/670 [01:22<02:04,  3.24it/s]"
       ]
      },
      {
       "output_type": "stream",
       "stream": "stderr",
       "text": [
        "\r",
        " 40%|\u2588\u2588\u2588\u2588      | 270/670 [01:22<02:02,  3.25it/s]"
       ]
      },
      {
       "output_type": "stream",
       "stream": "stderr",
       "text": [
        "\r",
        " 41%|\u2588\u2588\u2588\u2588      | 272/670 [01:23<02:01,  3.27it/s]"
       ]
      },
      {
       "output_type": "stream",
       "stream": "stderr",
       "text": [
        "\r",
        " 41%|\u2588\u2588\u2588\u2588      | 273/670 [01:23<02:01,  3.28it/s]"
       ]
      },
      {
       "output_type": "stream",
       "stream": "stderr",
       "text": [
        "\r",
        " 41%|\u2588\u2588\u2588\u2588      | 274/670 [01:23<02:00,  3.28it/s]"
       ]
      },
      {
       "output_type": "stream",
       "stream": "stderr",
       "text": [
        "\r",
        " 41%|\u2588\u2588\u2588\u2588      | 275/670 [01:23<02:00,  3.29it/s]"
       ]
      },
      {
       "output_type": "stream",
       "stream": "stderr",
       "text": [
        "\r",
        " 41%|\u2588\u2588\u2588\u2588      | 276/670 [01:24<01:59,  3.28it/s]"
       ]
      },
      {
       "output_type": "stream",
       "stream": "stderr",
       "text": [
        "\r",
        " 41%|\u2588\u2588\u2588\u2588\u258f     | 277/670 [01:24<01:59,  3.29it/s]"
       ]
      },
      {
       "output_type": "stream",
       "stream": "stderr",
       "text": [
        "\r",
        " 42%|\u2588\u2588\u2588\u2588\u258f     | 279/670 [01:24<01:58,  3.31it/s]"
       ]
      },
      {
       "output_type": "stream",
       "stream": "stderr",
       "text": [
        "\r",
        " 42%|\u2588\u2588\u2588\u2588\u258f     | 281/670 [01:24<01:57,  3.32it/s]"
       ]
      },
      {
       "output_type": "stream",
       "stream": "stderr",
       "text": [
        "\r",
        " 42%|\u2588\u2588\u2588\u2588\u258f     | 282/670 [01:24<01:56,  3.32it/s]"
       ]
      },
      {
       "output_type": "stream",
       "stream": "stderr",
       "text": [
        "\r",
        " 42%|\u2588\u2588\u2588\u2588\u258f     | 284/670 [01:25<01:55,  3.34it/s]"
       ]
      },
      {
       "output_type": "stream",
       "stream": "stderr",
       "text": [
        "\r",
        " 43%|\u2588\u2588\u2588\u2588\u258e     | 285/670 [01:25<01:55,  3.34it/s]"
       ]
      },
      {
       "output_type": "stream",
       "stream": "stderr",
       "text": [
        "\r",
        " 43%|\u2588\u2588\u2588\u2588\u258e     | 286/670 [01:26<01:56,  3.31it/s]"
       ]
      },
      {
       "output_type": "stream",
       "stream": "stderr",
       "text": [
        "\r",
        " 43%|\u2588\u2588\u2588\u2588\u258e     | 287/670 [01:26<01:55,  3.30it/s]"
       ]
      },
      {
       "output_type": "stream",
       "stream": "stderr",
       "text": [
        "\r",
        " 43%|\u2588\u2588\u2588\u2588\u258e     | 288/670 [01:28<01:56,  3.27it/s]"
       ]
      },
      {
       "output_type": "stream",
       "stream": "stderr",
       "text": [
        "\r",
        " 43%|\u2588\u2588\u2588\u2588\u258e     | 289/670 [01:28<01:56,  3.27it/s]"
       ]
      },
      {
       "output_type": "stream",
       "stream": "stderr",
       "text": [
        "\r",
        " 43%|\u2588\u2588\u2588\u2588\u258e     | 290/670 [01:28<01:55,  3.28it/s]"
       ]
      },
      {
       "output_type": "stream",
       "stream": "stderr",
       "text": [
        "\r",
        " 43%|\u2588\u2588\u2588\u2588\u258e     | 291/670 [01:28<01:55,  3.28it/s]"
       ]
      },
      {
       "output_type": "stream",
       "stream": "stderr",
       "text": [
        "\r",
        " 44%|\u2588\u2588\u2588\u2588\u258e     | 292/670 [01:29<01:55,  3.27it/s]"
       ]
      },
      {
       "output_type": "stream",
       "stream": "stderr",
       "text": [
        "\r",
        " 44%|\u2588\u2588\u2588\u2588\u258d     | 294/670 [01:29<01:54,  3.29it/s]"
       ]
      },
      {
       "output_type": "stream",
       "stream": "stderr",
       "text": [
        "\r",
        " 44%|\u2588\u2588\u2588\u2588\u258d     | 295/670 [01:29<01:53,  3.29it/s]"
       ]
      },
      {
       "output_type": "stream",
       "stream": "stderr",
       "text": [
        "\r",
        " 44%|\u2588\u2588\u2588\u2588\u258d     | 297/670 [01:29<01:52,  3.31it/s]"
       ]
      },
      {
       "output_type": "stream",
       "stream": "stderr",
       "text": [
        "\r",
        " 44%|\u2588\u2588\u2588\u2588\u258d     | 298/670 [01:31<01:53,  3.27it/s]"
       ]
      },
      {
       "output_type": "stream",
       "stream": "stderr",
       "text": [
        "\r",
        " 45%|\u2588\u2588\u2588\u2588\u258d     | 299/670 [01:32<01:54,  3.24it/s]"
       ]
      },
      {
       "output_type": "stream",
       "stream": "stderr",
       "text": [
        "\r",
        " 45%|\u2588\u2588\u2588\u2588\u258d     | 300/670 [01:32<01:53,  3.25it/s]"
       ]
      },
      {
       "output_type": "stream",
       "stream": "stderr",
       "text": [
        "\r",
        " 45%|\u2588\u2588\u2588\u2588\u258d     | 301/670 [01:32<01:53,  3.24it/s]"
       ]
      },
      {
       "output_type": "stream",
       "stream": "stderr",
       "text": [
        "\r",
        " 45%|\u2588\u2588\u2588\u2588\u258c     | 302/670 [01:32<01:53,  3.25it/s]"
       ]
      },
      {
       "output_type": "stream",
       "stream": "stderr",
       "text": [
        "\r",
        " 45%|\u2588\u2588\u2588\u2588\u258c     | 303/670 [01:33<01:52,  3.25it/s]"
       ]
      },
      {
       "output_type": "stream",
       "stream": "stderr",
       "text": [
        "\r",
        " 46%|\u2588\u2588\u2588\u2588\u258c     | 305/670 [01:33<01:51,  3.26it/s]"
       ]
      },
      {
       "output_type": "stream",
       "stream": "stderr",
       "text": [
        "\r",
        " 46%|\u2588\u2588\u2588\u2588\u258c     | 306/670 [01:33<01:51,  3.27it/s]"
       ]
      },
      {
       "output_type": "stream",
       "stream": "stderr",
       "text": [
        "\r",
        " 46%|\u2588\u2588\u2588\u2588\u258c     | 307/670 [01:33<01:50,  3.28it/s]"
       ]
      },
      {
       "output_type": "stream",
       "stream": "stderr",
       "text": [
        "\r",
        " 46%|\u2588\u2588\u2588\u2588\u258c     | 308/670 [01:33<01:50,  3.28it/s]"
       ]
      },
      {
       "output_type": "stream",
       "stream": "stderr",
       "text": [
        "\r",
        " 46%|\u2588\u2588\u2588\u2588\u258c     | 309/670 [01:34<01:50,  3.26it/s]"
       ]
      },
      {
       "output_type": "stream",
       "stream": "stderr",
       "text": [
        "\r",
        " 46%|\u2588\u2588\u2588\u2588\u258b     | 310/670 [01:34<01:50,  3.27it/s]"
       ]
      },
      {
       "output_type": "stream",
       "stream": "stderr",
       "text": [
        "\r",
        " 46%|\u2588\u2588\u2588\u2588\u258b     | 311/670 [01:35<01:49,  3.27it/s]"
       ]
      },
      {
       "output_type": "stream",
       "stream": "stderr",
       "text": [
        "\r",
        " 47%|\u2588\u2588\u2588\u2588\u258b     | 312/670 [01:35<01:50,  3.25it/s]"
       ]
      },
      {
       "output_type": "stream",
       "stream": "stderr",
       "text": [
        "\r",
        " 47%|\u2588\u2588\u2588\u2588\u258b     | 313/670 [01:36<01:49,  3.25it/s]"
       ]
      },
      {
       "output_type": "stream",
       "stream": "stderr",
       "text": [
        "\r",
        " 47%|\u2588\u2588\u2588\u2588\u258b     | 314/670 [01:36<01:49,  3.26it/s]"
       ]
      },
      {
       "output_type": "stream",
       "stream": "stderr",
       "text": [
        "\r",
        " 47%|\u2588\u2588\u2588\u2588\u258b     | 315/670 [01:36<01:48,  3.26it/s]"
       ]
      },
      {
       "output_type": "stream",
       "stream": "stderr",
       "text": [
        "\r",
        " 47%|\u2588\u2588\u2588\u2588\u258b     | 316/670 [01:36<01:48,  3.27it/s]"
       ]
      },
      {
       "output_type": "stream",
       "stream": "stderr",
       "text": [
        "\r",
        " 47%|\u2588\u2588\u2588\u2588\u258b     | 317/670 [01:36<01:47,  3.28it/s]"
       ]
      },
      {
       "output_type": "stream",
       "stream": "stderr",
       "text": [
        "\r",
        " 47%|\u2588\u2588\u2588\u2588\u258b     | 318/670 [01:36<01:47,  3.28it/s]"
       ]
      },
      {
       "output_type": "stream",
       "stream": "stderr",
       "text": [
        "\r",
        " 48%|\u2588\u2588\u2588\u2588\u258a     | 320/670 [01:37<01:46,  3.29it/s]"
       ]
      },
      {
       "output_type": "stream",
       "stream": "stderr",
       "text": [
        "\r",
        " 48%|\u2588\u2588\u2588\u2588\u258a     | 321/670 [01:37<01:46,  3.29it/s]"
       ]
      },
      {
       "output_type": "stream",
       "stream": "stderr",
       "text": [
        "\r",
        " 48%|\u2588\u2588\u2588\u2588\u258a     | 324/670 [01:37<01:44,  3.31it/s]"
       ]
      },
      {
       "output_type": "stream",
       "stream": "stderr",
       "text": [
        "\r",
        " 49%|\u2588\u2588\u2588\u2588\u258a     | 326/670 [01:38<01:43,  3.32it/s]"
       ]
      },
      {
       "output_type": "stream",
       "stream": "stderr",
       "text": [
        "\r",
        " 49%|\u2588\u2588\u2588\u2588\u2589     | 328/670 [01:38<01:42,  3.33it/s]"
       ]
      },
      {
       "output_type": "stream",
       "stream": "stderr",
       "text": [
        "\r",
        " 49%|\u2588\u2588\u2588\u2588\u2589     | 329/670 [01:38<01:42,  3.34it/s]"
       ]
      },
      {
       "output_type": "stream",
       "stream": "stderr",
       "text": [
        "\r",
        " 49%|\u2588\u2588\u2588\u2588\u2589     | 330/670 [01:39<01:42,  3.32it/s]"
       ]
      },
      {
       "output_type": "stream",
       "stream": "stderr",
       "text": [
        "\r",
        " 49%|\u2588\u2588\u2588\u2588\u2589     | 331/670 [01:40<01:43,  3.29it/s]"
       ]
      },
      {
       "output_type": "stream",
       "stream": "stderr",
       "text": [
        "\r",
        " 50%|\u2588\u2588\u2588\u2588\u2589     | 333/670 [01:40<01:42,  3.30it/s]"
       ]
      },
      {
       "output_type": "stream",
       "stream": "stderr",
       "text": [
        "\r",
        " 50%|\u2588\u2588\u2588\u2588\u2589     | 334/670 [01:41<01:41,  3.30it/s]"
       ]
      },
      {
       "output_type": "stream",
       "stream": "stderr",
       "text": [
        "\r",
        " 50%|\u2588\u2588\u2588\u2588\u2588     | 335/670 [01:41<01:41,  3.30it/s]"
       ]
      },
      {
       "output_type": "stream",
       "stream": "stderr",
       "text": [
        "\r",
        " 50%|\u2588\u2588\u2588\u2588\u2588     | 337/670 [01:41<01:40,  3.31it/s]"
       ]
      },
      {
       "output_type": "stream",
       "stream": "stderr",
       "text": [
        "\r",
        " 51%|\u2588\u2588\u2588\u2588\u2588     | 339/670 [01:41<01:39,  3.33it/s]"
       ]
      },
      {
       "output_type": "stream",
       "stream": "stderr",
       "text": [
        "\r",
        " 51%|\u2588\u2588\u2588\u2588\u2588     | 340/670 [01:41<01:38,  3.33it/s]"
       ]
      },
      {
       "output_type": "stream",
       "stream": "stderr",
       "text": [
        "\r",
        " 51%|\u2588\u2588\u2588\u2588\u2588     | 342/670 [01:42<01:37,  3.35it/s]"
       ]
      },
      {
       "output_type": "stream",
       "stream": "stderr",
       "text": [
        "\r",
        " 51%|\u2588\u2588\u2588\u2588\u2588\u258f    | 344/670 [01:42<01:36,  3.36it/s]"
       ]
      },
      {
       "output_type": "stream",
       "stream": "stderr",
       "text": [
        "\r",
        " 52%|\u2588\u2588\u2588\u2588\u2588\u258f    | 346/670 [01:43<01:36,  3.35it/s]"
       ]
      },
      {
       "output_type": "stream",
       "stream": "stderr",
       "text": [
        "\r",
        " 52%|\u2588\u2588\u2588\u2588\u2588\u258f    | 348/670 [01:43<01:35,  3.36it/s]"
       ]
      },
      {
       "output_type": "stream",
       "stream": "stderr",
       "text": [
        "\r",
        " 52%|\u2588\u2588\u2588\u2588\u2588\u258f    | 349/670 [01:43<01:35,  3.37it/s]"
       ]
      },
      {
       "output_type": "stream",
       "stream": "stderr",
       "text": [
        "\r",
        " 52%|\u2588\u2588\u2588\u2588\u2588\u258f    | 351/670 [01:43<01:34,  3.38it/s]"
       ]
      },
      {
       "output_type": "stream",
       "stream": "stderr",
       "text": [
        "\r",
        " 53%|\u2588\u2588\u2588\u2588\u2588\u258e    | 353/670 [01:43<01:33,  3.40it/s]"
       ]
      },
      {
       "output_type": "stream",
       "stream": "stderr",
       "text": [
        "\r",
        " 53%|\u2588\u2588\u2588\u2588\u2588\u258e    | 355/670 [01:44<01:32,  3.41it/s]"
       ]
      },
      {
       "output_type": "stream",
       "stream": "stderr",
       "text": [
        "\r",
        " 53%|\u2588\u2588\u2588\u2588\u2588\u258e    | 357/670 [01:46<01:33,  3.36it/s]"
       ]
      },
      {
       "output_type": "stream",
       "stream": "stderr",
       "text": [
        "\r",
        " 53%|\u2588\u2588\u2588\u2588\u2588\u258e    | 358/670 [01:46<01:32,  3.36it/s]"
       ]
      },
      {
       "output_type": "stream",
       "stream": "stderr",
       "text": [
        "\r",
        " 54%|\u2588\u2588\u2588\u2588\u2588\u258e    | 360/670 [01:46<01:32,  3.37it/s]"
       ]
      },
      {
       "output_type": "stream",
       "stream": "stderr",
       "text": [
        "\r",
        " 54%|\u2588\u2588\u2588\u2588\u2588\u258d    | 361/670 [01:47<01:31,  3.37it/s]"
       ]
      },
      {
       "output_type": "stream",
       "stream": "stderr",
       "text": [
        "\r",
        " 54%|\u2588\u2588\u2588\u2588\u2588\u258d    | 362/670 [01:47<01:31,  3.37it/s]"
       ]
      },
      {
       "output_type": "stream",
       "stream": "stderr",
       "text": [
        "\r",
        " 54%|\u2588\u2588\u2588\u2588\u2588\u258d    | 363/670 [01:47<01:31,  3.37it/s]"
       ]
      },
      {
       "output_type": "stream",
       "stream": "stderr",
       "text": [
        "\r",
        " 54%|\u2588\u2588\u2588\u2588\u2588\u258d    | 364/670 [01:47<01:30,  3.37it/s]"
       ]
      },
      {
       "output_type": "stream",
       "stream": "stderr",
       "text": [
        "\r",
        " 54%|\u2588\u2588\u2588\u2588\u2588\u258d    | 365/670 [01:48<01:30,  3.38it/s]"
       ]
      },
      {
       "output_type": "stream",
       "stream": "stderr",
       "text": [
        "\r",
        " 55%|\u2588\u2588\u2588\u2588\u2588\u258d    | 366/670 [01:48<01:29,  3.38it/s]"
       ]
      },
      {
       "output_type": "stream",
       "stream": "stderr",
       "text": [
        "\r",
        " 55%|\u2588\u2588\u2588\u2588\u2588\u258d    | 368/670 [01:48<01:28,  3.40it/s]"
       ]
      },
      {
       "output_type": "stream",
       "stream": "stderr",
       "text": [
        "\r",
        " 55%|\u2588\u2588\u2588\u2588\u2588\u258c    | 370/670 [01:48<01:27,  3.41it/s]"
       ]
      },
      {
       "output_type": "stream",
       "stream": "stderr",
       "text": [
        "\r",
        " 56%|\u2588\u2588\u2588\u2588\u2588\u258c    | 372/670 [01:50<01:28,  3.37it/s]"
       ]
      },
      {
       "output_type": "stream",
       "stream": "stderr",
       "text": [
        "\r",
        " 56%|\u2588\u2588\u2588\u2588\u2588\u258c    | 374/670 [01:50<01:27,  3.38it/s]"
       ]
      },
      {
       "output_type": "stream",
       "stream": "stderr",
       "text": [
        "\r",
        " 56%|\u2588\u2588\u2588\u2588\u2588\u258c    | 375/670 [01:50<01:27,  3.38it/s]"
       ]
      },
      {
       "output_type": "stream",
       "stream": "stderr",
       "text": [
        "\r",
        " 56%|\u2588\u2588\u2588\u2588\u2588\u258c    | 376/670 [01:51<01:26,  3.38it/s]"
       ]
      },
      {
       "output_type": "stream",
       "stream": "stderr",
       "text": [
        "\r",
        " 56%|\u2588\u2588\u2588\u2588\u2588\u258b    | 378/670 [01:51<01:25,  3.40it/s]"
       ]
      },
      {
       "output_type": "stream",
       "stream": "stderr",
       "text": [
        "\r",
        " 57%|\u2588\u2588\u2588\u2588\u2588\u258b    | 379/670 [01:51<01:25,  3.40it/s]"
       ]
      },
      {
       "output_type": "stream",
       "stream": "stderr",
       "text": [
        "\r",
        " 57%|\u2588\u2588\u2588\u2588\u2588\u258b    | 382/670 [01:51<01:24,  3.42it/s]"
       ]
      },
      {
       "output_type": "stream",
       "stream": "stderr",
       "text": [
        "\r",
        " 57%|\u2588\u2588\u2588\u2588\u2588\u258b    | 383/670 [01:52<01:23,  3.42it/s]"
       ]
      },
      {
       "output_type": "stream",
       "stream": "stderr",
       "text": [
        "\r",
        " 57%|\u2588\u2588\u2588\u2588\u2588\u258b    | 385/670 [01:52<01:23,  3.42it/s]"
       ]
      },
      {
       "output_type": "stream",
       "stream": "stderr",
       "text": [
        "\r",
        " 58%|\u2588\u2588\u2588\u2588\u2588\u258a    | 387/670 [01:53<01:23,  3.41it/s]"
       ]
      },
      {
       "output_type": "stream",
       "stream": "stderr",
       "text": [
        "\r",
        " 58%|\u2588\u2588\u2588\u2588\u2588\u258a    | 388/670 [01:53<01:22,  3.40it/s]"
       ]
      },
      {
       "output_type": "stream",
       "stream": "stderr",
       "text": [
        "\r",
        " 58%|\u2588\u2588\u2588\u2588\u2588\u258a    | 389/670 [01:55<01:23,  3.38it/s]"
       ]
      },
      {
       "output_type": "stream",
       "stream": "stderr",
       "text": [
        "\r",
        " 58%|\u2588\u2588\u2588\u2588\u2588\u258a    | 390/670 [01:55<01:22,  3.39it/s]"
       ]
      },
      {
       "output_type": "stream",
       "stream": "stderr",
       "text": [
        "\r",
        " 59%|\u2588\u2588\u2588\u2588\u2588\u258a    | 392/670 [01:55<01:21,  3.40it/s]"
       ]
      },
      {
       "output_type": "stream",
       "stream": "stderr",
       "text": [
        "\r",
        " 59%|\u2588\u2588\u2588\u2588\u2588\u258a    | 393/670 [01:55<01:21,  3.40it/s]"
       ]
      },
      {
       "output_type": "stream",
       "stream": "stderr",
       "text": [
        "\r",
        " 59%|\u2588\u2588\u2588\u2588\u2588\u2589    | 395/670 [01:55<01:20,  3.42it/s]"
       ]
      },
      {
       "output_type": "stream",
       "stream": "stderr",
       "text": [
        "\r",
        " 59%|\u2588\u2588\u2588\u2588\u2588\u2589    | 396/670 [01:56<01:20,  3.40it/s]"
       ]
      },
      {
       "output_type": "stream",
       "stream": "stderr",
       "text": [
        "\r",
        " 59%|\u2588\u2588\u2588\u2588\u2588\u2589    | 397/670 [01:56<01:20,  3.40it/s]"
       ]
      },
      {
       "output_type": "stream",
       "stream": "stderr",
       "text": [
        "\r",
        " 59%|\u2588\u2588\u2588\u2588\u2588\u2589    | 398/670 [01:56<01:19,  3.41it/s]"
       ]
      },
      {
       "output_type": "stream",
       "stream": "stderr",
       "text": [
        "\r",
        " 60%|\u2588\u2588\u2588\u2588\u2588\u2589    | 400/670 [01:56<01:18,  3.42it/s]"
       ]
      },
      {
       "output_type": "stream",
       "stream": "stderr",
       "text": [
        "\r",
        " 60%|\u2588\u2588\u2588\u2588\u2588\u2588    | 402/670 [01:57<01:18,  3.43it/s]"
       ]
      },
      {
       "output_type": "stream",
       "stream": "stderr",
       "text": [
        "\r",
        " 60%|\u2588\u2588\u2588\u2588\u2588\u2588    | 403/670 [01:57<01:17,  3.43it/s]"
       ]
      },
      {
       "output_type": "stream",
       "stream": "stderr",
       "text": [
        "\r",
        " 60%|\u2588\u2588\u2588\u2588\u2588\u2588    | 404/670 [01:57<01:17,  3.44it/s]"
       ]
      },
      {
       "output_type": "stream",
       "stream": "stderr",
       "text": [
        "\r",
        " 60%|\u2588\u2588\u2588\u2588\u2588\u2588    | 405/670 [01:58<01:17,  3.43it/s]"
       ]
      },
      {
       "output_type": "stream",
       "stream": "stderr",
       "text": [
        "\r",
        " 61%|\u2588\u2588\u2588\u2588\u2588\u2588    | 406/670 [01:58<01:16,  3.43it/s]"
       ]
      },
      {
       "output_type": "stream",
       "stream": "stderr",
       "text": [
        "\r",
        " 61%|\u2588\u2588\u2588\u2588\u2588\u2588    | 407/670 [01:58<01:16,  3.43it/s]"
       ]
      },
      {
       "output_type": "stream",
       "stream": "stderr",
       "text": [
        "\r",
        " 61%|\u2588\u2588\u2588\u2588\u2588\u2588    | 408/670 [01:58<01:16,  3.43it/s]"
       ]
      },
      {
       "output_type": "stream",
       "stream": "stderr",
       "text": [
        "\r",
        " 61%|\u2588\u2588\u2588\u2588\u2588\u2588    | 409/670 [01:59<01:15,  3.43it/s]"
       ]
      },
      {
       "output_type": "stream",
       "stream": "stderr",
       "text": [
        "\r",
        " 61%|\u2588\u2588\u2588\u2588\u2588\u2588    | 410/670 [01:59<01:15,  3.44it/s]"
       ]
      },
      {
       "output_type": "stream",
       "stream": "stderr",
       "text": [
        "\r",
        " 61%|\u2588\u2588\u2588\u2588\u2588\u2588\u258f   | 412/670 [02:02<01:17,  3.35it/s]"
       ]
      },
      {
       "output_type": "stream",
       "stream": "stderr",
       "text": [
        "\r",
        " 62%|\u2588\u2588\u2588\u2588\u2588\u2588\u258f   | 413/670 [02:03<01:16,  3.35it/s]"
       ]
      },
      {
       "output_type": "stream",
       "stream": "stderr",
       "text": [
        "\r",
        " 62%|\u2588\u2588\u2588\u2588\u2588\u2588\u258f   | 415/670 [02:03<01:15,  3.36it/s]"
       ]
      },
      {
       "output_type": "stream",
       "stream": "stderr",
       "text": [
        "\r",
        " 62%|\u2588\u2588\u2588\u2588\u2588\u2588\u258f   | 416/670 [02:03<01:15,  3.37it/s]"
       ]
      },
      {
       "output_type": "stream",
       "stream": "stderr",
       "text": [
        "\r",
        " 62%|\u2588\u2588\u2588\u2588\u2588\u2588\u258f   | 417/670 [02:03<01:15,  3.36it/s]"
       ]
      },
      {
       "output_type": "stream",
       "stream": "stderr",
       "text": [
        "\r",
        " 63%|\u2588\u2588\u2588\u2588\u2588\u2588\u258e   | 419/670 [02:04<01:14,  3.38it/s]"
       ]
      },
      {
       "output_type": "stream",
       "stream": "stderr",
       "text": [
        "\r",
        " 63%|\u2588\u2588\u2588\u2588\u2588\u2588\u258e   | 420/670 [02:04<01:14,  3.38it/s]"
       ]
      },
      {
       "output_type": "stream",
       "stream": "stderr",
       "text": [
        "\r",
        " 63%|\u2588\u2588\u2588\u2588\u2588\u2588\u258e   | 422/670 [02:04<01:13,  3.38it/s]"
       ]
      },
      {
       "output_type": "stream",
       "stream": "stderr",
       "text": [
        "\r",
        " 63%|\u2588\u2588\u2588\u2588\u2588\u2588\u258e   | 423/670 [02:04<01:12,  3.39it/s]"
       ]
      },
      {
       "output_type": "stream",
       "stream": "stderr",
       "text": [
        "\r",
        " 63%|\u2588\u2588\u2588\u2588\u2588\u2588\u258e   | 425/670 [02:05<01:12,  3.40it/s]"
       ]
      },
      {
       "output_type": "stream",
       "stream": "stderr",
       "text": [
        "\r",
        " 64%|\u2588\u2588\u2588\u2588\u2588\u2588\u258e   | 427/670 [02:05<01:11,  3.39it/s]"
       ]
      },
      {
       "output_type": "stream",
       "stream": "stderr",
       "text": [
        "\r",
        " 64%|\u2588\u2588\u2588\u2588\u2588\u2588\u258d   | 428/670 [02:06<01:11,  3.39it/s]"
       ]
      },
      {
       "output_type": "stream",
       "stream": "stderr",
       "text": [
        "\r",
        " 64%|\u2588\u2588\u2588\u2588\u2588\u2588\u258d   | 429/670 [02:06<01:11,  3.39it/s]"
       ]
      },
      {
       "output_type": "stream",
       "stream": "stderr",
       "text": [
        "\r",
        " 64%|\u2588\u2588\u2588\u2588\u2588\u2588\u258d   | 431/670 [02:06<01:10,  3.40it/s]"
       ]
      },
      {
       "output_type": "stream",
       "stream": "stderr",
       "text": [
        "\r",
        " 64%|\u2588\u2588\u2588\u2588\u2588\u2588\u258d   | 432/670 [02:07<01:10,  3.38it/s]"
       ]
      },
      {
       "output_type": "stream",
       "stream": "stderr",
       "text": [
        "\r",
        " 65%|\u2588\u2588\u2588\u2588\u2588\u2588\u258d   | 433/670 [02:07<01:10,  3.38it/s]"
       ]
      },
      {
       "output_type": "stream",
       "stream": "stderr",
       "text": [
        "\r",
        " 65%|\u2588\u2588\u2588\u2588\u2588\u2588\u258d   | 434/670 [02:08<01:10,  3.36it/s]"
       ]
      },
      {
       "output_type": "stream",
       "stream": "stderr",
       "text": [
        "\r",
        " 65%|\u2588\u2588\u2588\u2588\u2588\u2588\u258d   | 435/670 [02:09<01:09,  3.36it/s]"
       ]
      },
      {
       "output_type": "stream",
       "stream": "stderr",
       "text": [
        "\r",
        " 65%|\u2588\u2588\u2588\u2588\u2588\u2588\u258c   | 436/670 [02:09<01:09,  3.37it/s]"
       ]
      },
      {
       "output_type": "stream",
       "stream": "stderr",
       "text": [
        "\r",
        " 65%|\u2588\u2588\u2588\u2588\u2588\u2588\u258c   | 438/670 [02:09<01:08,  3.38it/s]"
       ]
      },
      {
       "output_type": "stream",
       "stream": "stderr",
       "text": [
        "\r",
        " 66%|\u2588\u2588\u2588\u2588\u2588\u2588\u258c   | 439/670 [02:10<01:08,  3.36it/s]"
       ]
      },
      {
       "output_type": "stream",
       "stream": "stderr",
       "text": [
        "\r",
        " 66%|\u2588\u2588\u2588\u2588\u2588\u2588\u258c   | 440/670 [02:10<01:08,  3.36it/s]"
       ]
      },
      {
       "output_type": "stream",
       "stream": "stderr",
       "text": [
        "\r",
        " 66%|\u2588\u2588\u2588\u2588\u2588\u2588\u258c   | 442/670 [02:10<01:07,  3.38it/s]"
       ]
      },
      {
       "output_type": "stream",
       "stream": "stderr",
       "text": [
        "\r",
        " 66%|\u2588\u2588\u2588\u2588\u2588\u2588\u258c   | 443/670 [02:11<01:07,  3.38it/s]"
       ]
      },
      {
       "output_type": "stream",
       "stream": "stderr",
       "text": [
        "\r",
        " 66%|\u2588\u2588\u2588\u2588\u2588\u2588\u258b   | 444/670 [02:11<01:06,  3.38it/s]"
       ]
      },
      {
       "output_type": "stream",
       "stream": "stderr",
       "text": [
        "\r",
        " 66%|\u2588\u2588\u2588\u2588\u2588\u2588\u258b   | 445/670 [02:11<01:06,  3.38it/s]"
       ]
      },
      {
       "output_type": "stream",
       "stream": "stderr",
       "text": [
        "\r",
        " 67%|\u2588\u2588\u2588\u2588\u2588\u2588\u258b   | 446/670 [02:11<01:06,  3.38it/s]"
       ]
      },
      {
       "output_type": "stream",
       "stream": "stderr",
       "text": [
        "\r",
        " 67%|\u2588\u2588\u2588\u2588\u2588\u2588\u258b   | 447/670 [02:12<01:05,  3.38it/s]"
       ]
      },
      {
       "output_type": "stream",
       "stream": "stderr",
       "text": [
        "\r",
        " 67%|\u2588\u2588\u2588\u2588\u2588\u2588\u258b   | 448/670 [02:13<01:05,  3.36it/s]"
       ]
      },
      {
       "output_type": "stream",
       "stream": "stderr",
       "text": [
        "\r",
        " 67%|\u2588\u2588\u2588\u2588\u2588\u2588\u258b   | 449/670 [02:13<01:05,  3.36it/s]"
       ]
      },
      {
       "output_type": "stream",
       "stream": "stderr",
       "text": [
        "\r",
        " 67%|\u2588\u2588\u2588\u2588\u2588\u2588\u258b   | 450/670 [02:14<01:05,  3.35it/s]"
       ]
      },
      {
       "output_type": "stream",
       "stream": "stderr",
       "text": [
        "\r",
        " 67%|\u2588\u2588\u2588\u2588\u2588\u2588\u258b   | 451/670 [02:14<01:05,  3.35it/s]"
       ]
      },
      {
       "output_type": "stream",
       "stream": "stderr",
       "text": [
        "\r",
        " 67%|\u2588\u2588\u2588\u2588\u2588\u2588\u258b   | 452/670 [02:14<01:05,  3.35it/s]"
       ]
      },
      {
       "output_type": "stream",
       "stream": "stderr",
       "text": [
        "\r",
        " 68%|\u2588\u2588\u2588\u2588\u2588\u2588\u258a   | 453/670 [02:15<01:04,  3.35it/s]"
       ]
      },
      {
       "output_type": "stream",
       "stream": "stderr",
       "text": [
        "\r",
        " 68%|\u2588\u2588\u2588\u2588\u2588\u2588\u258a   | 454/670 [02:16<01:04,  3.33it/s]"
       ]
      },
      {
       "output_type": "stream",
       "stream": "stderr",
       "text": [
        "\r",
        " 68%|\u2588\u2588\u2588\u2588\u2588\u2588\u258a   | 455/670 [02:19<01:05,  3.27it/s]"
       ]
      },
      {
       "output_type": "stream",
       "stream": "stderr",
       "text": [
        "\r",
        " 68%|\u2588\u2588\u2588\u2588\u2588\u2588\u258a   | 457/670 [02:19<01:04,  3.28it/s]"
       ]
      },
      {
       "output_type": "stream",
       "stream": "stderr",
       "text": [
        "\r",
        " 68%|\u2588\u2588\u2588\u2588\u2588\u2588\u258a   | 458/670 [02:19<01:04,  3.28it/s]"
       ]
      },
      {
       "output_type": "stream",
       "stream": "stderr",
       "text": [
        "\r",
        " 69%|\u2588\u2588\u2588\u2588\u2588\u2588\u258a   | 459/670 [02:19<01:04,  3.28it/s]"
       ]
      },
      {
       "output_type": "stream",
       "stream": "stderr",
       "text": [
        "\r",
        " 69%|\u2588\u2588\u2588\u2588\u2588\u2588\u258a   | 460/670 [02:20<01:04,  3.28it/s]"
       ]
      },
      {
       "output_type": "stream",
       "stream": "stderr",
       "text": [
        "\r",
        " 69%|\u2588\u2588\u2588\u2588\u2588\u2588\u2589   | 461/670 [02:20<01:03,  3.28it/s]"
       ]
      },
      {
       "output_type": "stream",
       "stream": "stderr",
       "text": [
        "\r",
        " 69%|\u2588\u2588\u2588\u2588\u2588\u2588\u2589   | 462/670 [02:21<01:03,  3.28it/s]"
       ]
      },
      {
       "output_type": "stream",
       "stream": "stderr",
       "text": [
        "\r",
        " 69%|\u2588\u2588\u2588\u2588\u2588\u2588\u2589   | 464/670 [02:21<01:02,  3.29it/s]"
       ]
      },
      {
       "output_type": "stream",
       "stream": "stderr",
       "text": [
        "\r",
        " 69%|\u2588\u2588\u2588\u2588\u2588\u2588\u2589   | 465/670 [02:21<01:02,  3.29it/s]"
       ]
      },
      {
       "output_type": "stream",
       "stream": "stderr",
       "text": [
        "\r",
        " 70%|\u2588\u2588\u2588\u2588\u2588\u2588\u2589   | 466/670 [02:21<01:01,  3.29it/s]"
       ]
      },
      {
       "output_type": "stream",
       "stream": "stderr",
       "text": [
        "\r",
        " 70%|\u2588\u2588\u2588\u2588\u2588\u2588\u2589   | 467/670 [02:21<01:01,  3.30it/s]"
       ]
      },
      {
       "output_type": "stream",
       "stream": "stderr",
       "text": [
        "\r",
        " 70%|\u2588\u2588\u2588\u2588\u2588\u2588\u2589   | 468/670 [02:21<01:01,  3.30it/s]"
       ]
      },
      {
       "output_type": "stream",
       "stream": "stderr",
       "text": [
        "\r",
        " 70%|\u2588\u2588\u2588\u2588\u2588\u2588\u2588   | 470/670 [02:21<01:00,  3.31it/s]"
       ]
      },
      {
       "output_type": "stream",
       "stream": "stderr",
       "text": [
        "\r",
        " 70%|\u2588\u2588\u2588\u2588\u2588\u2588\u2588   | 472/670 [02:22<00:59,  3.30it/s]"
       ]
      },
      {
       "output_type": "stream",
       "stream": "stderr",
       "text": [
        "\r",
        " 71%|\u2588\u2588\u2588\u2588\u2588\u2588\u2588   | 473/670 [02:23<00:59,  3.30it/s]"
       ]
      },
      {
       "output_type": "stream",
       "stream": "stderr",
       "text": [
        "\r",
        " 71%|\u2588\u2588\u2588\u2588\u2588\u2588\u2588   | 474/670 [02:23<00:59,  3.30it/s]"
       ]
      },
      {
       "output_type": "stream",
       "stream": "stderr",
       "text": [
        "\r",
        " 71%|\u2588\u2588\u2588\u2588\u2588\u2588\u2588   | 476/670 [02:23<00:58,  3.31it/s]"
       ]
      },
      {
       "output_type": "stream",
       "stream": "stderr",
       "text": [
        "\r",
        " 71%|\u2588\u2588\u2588\u2588\u2588\u2588\u2588\u258f  | 478/670 [02:23<00:57,  3.32it/s]"
       ]
      },
      {
       "output_type": "stream",
       "stream": "stderr",
       "text": [
        "\r",
        " 72%|\u2588\u2588\u2588\u2588\u2588\u2588\u2588\u258f  | 480/670 [02:24<00:57,  3.33it/s]"
       ]
      },
      {
       "output_type": "stream",
       "stream": "stderr",
       "text": [
        "\r",
        " 72%|\u2588\u2588\u2588\u2588\u2588\u2588\u2588\u258f  | 481/670 [02:24<00:56,  3.33it/s]"
       ]
      },
      {
       "output_type": "stream",
       "stream": "stderr",
       "text": [
        "\r",
        " 72%|\u2588\u2588\u2588\u2588\u2588\u2588\u2588\u258f  | 482/670 [02:25<00:56,  3.31it/s]"
       ]
      },
      {
       "output_type": "stream",
       "stream": "stderr",
       "text": [
        "\r",
        " 72%|\u2588\u2588\u2588\u2588\u2588\u2588\u2588\u258f  | 484/670 [02:25<00:55,  3.32it/s]"
       ]
      },
      {
       "output_type": "stream",
       "stream": "stderr",
       "text": [
        "\r",
        " 73%|\u2588\u2588\u2588\u2588\u2588\u2588\u2588\u258e  | 486/670 [02:25<00:55,  3.33it/s]"
       ]
      },
      {
       "output_type": "stream",
       "stream": "stderr",
       "text": [
        "\r",
        " 73%|\u2588\u2588\u2588\u2588\u2588\u2588\u2588\u258e  | 487/670 [02:26<00:55,  3.32it/s]"
       ]
      },
      {
       "output_type": "stream",
       "stream": "stderr",
       "text": [
        "\r",
        " 73%|\u2588\u2588\u2588\u2588\u2588\u2588\u2588\u258e  | 488/670 [02:26<00:54,  3.33it/s]"
       ]
      },
      {
       "output_type": "stream",
       "stream": "stderr",
       "text": [
        "\r",
        " 73%|\u2588\u2588\u2588\u2588\u2588\u2588\u2588\u258e  | 489/670 [02:26<00:54,  3.33it/s]"
       ]
      },
      {
       "output_type": "stream",
       "stream": "stderr",
       "text": [
        "\r",
        " 73%|\u2588\u2588\u2588\u2588\u2588\u2588\u2588\u258e  | 491/670 [02:26<00:53,  3.34it/s]"
       ]
      },
      {
       "output_type": "stream",
       "stream": "stderr",
       "text": [
        "\r",
        " 74%|\u2588\u2588\u2588\u2588\u2588\u2588\u2588\u258e  | 493/670 [02:27<00:52,  3.35it/s]"
       ]
      },
      {
       "output_type": "stream",
       "stream": "stderr",
       "text": [
        "\r",
        " 74%|\u2588\u2588\u2588\u2588\u2588\u2588\u2588\u258e  | 494/670 [02:27<00:52,  3.35it/s]"
       ]
      },
      {
       "output_type": "stream",
       "stream": "stderr",
       "text": [
        "\r",
        " 74%|\u2588\u2588\u2588\u2588\u2588\u2588\u2588\u258d  | 495/670 [02:28<00:52,  3.34it/s]"
       ]
      },
      {
       "output_type": "stream",
       "stream": "stderr",
       "text": [
        "\r",
        " 74%|\u2588\u2588\u2588\u2588\u2588\u2588\u2588\u258d  | 496/670 [02:28<00:52,  3.34it/s]"
       ]
      },
      {
       "output_type": "stream",
       "stream": "stderr",
       "text": [
        "\r",
        " 74%|\u2588\u2588\u2588\u2588\u2588\u2588\u2588\u258d  | 497/670 [02:28<00:51,  3.35it/s]"
       ]
      },
      {
       "output_type": "stream",
       "stream": "stderr",
       "text": [
        "\r",
        " 74%|\u2588\u2588\u2588\u2588\u2588\u2588\u2588\u258d  | 498/670 [02:29<00:51,  3.33it/s]"
       ]
      },
      {
       "output_type": "stream",
       "stream": "stderr",
       "text": [
        "\r",
        " 75%|\u2588\u2588\u2588\u2588\u2588\u2588\u2588\u258d  | 500/670 [02:29<00:50,  3.34it/s]"
       ]
      },
      {
       "output_type": "stream",
       "stream": "stderr",
       "text": [
        "\r",
        " 75%|\u2588\u2588\u2588\u2588\u2588\u2588\u2588\u258d  | 501/670 [02:29<00:50,  3.35it/s]"
       ]
      },
      {
       "output_type": "stream",
       "stream": "stderr",
       "text": [
        "\r",
        " 75%|\u2588\u2588\u2588\u2588\u2588\u2588\u2588\u258c  | 503/670 [02:29<00:49,  3.36it/s]"
       ]
      },
      {
       "output_type": "stream",
       "stream": "stderr",
       "text": [
        "\r",
        " 75%|\u2588\u2588\u2588\u2588\u2588\u2588\u2588\u258c  | 504/670 [02:30<00:49,  3.35it/s]"
       ]
      },
      {
       "output_type": "stream",
       "stream": "stderr",
       "text": [
        "\r",
        " 75%|\u2588\u2588\u2588\u2588\u2588\u2588\u2588\u258c  | 505/670 [02:30<00:49,  3.36it/s]"
       ]
      },
      {
       "output_type": "stream",
       "stream": "stderr",
       "text": [
        "\r",
        " 76%|\u2588\u2588\u2588\u2588\u2588\u2588\u2588\u258c  | 506/670 [02:30<00:48,  3.36it/s]"
       ]
      },
      {
       "output_type": "stream",
       "stream": "stderr",
       "text": [
        "\r",
        " 76%|\u2588\u2588\u2588\u2588\u2588\u2588\u2588\u258c  | 507/670 [02:30<00:48,  3.36it/s]"
       ]
      },
      {
       "output_type": "stream",
       "stream": "stderr",
       "text": [
        "\r",
        " 76%|\u2588\u2588\u2588\u2588\u2588\u2588\u2588\u258c  | 509/670 [02:31<00:47,  3.37it/s]"
       ]
      },
      {
       "output_type": "stream",
       "stream": "stderr",
       "text": [
        "\r",
        " 76%|\u2588\u2588\u2588\u2588\u2588\u2588\u2588\u258b  | 511/670 [02:31<00:47,  3.38it/s]"
       ]
      },
      {
       "output_type": "stream",
       "stream": "stderr",
       "text": [
        "\r",
        " 77%|\u2588\u2588\u2588\u2588\u2588\u2588\u2588\u258b  | 513/670 [02:31<00:46,  3.39it/s]"
       ]
      },
      {
       "output_type": "stream",
       "stream": "stderr",
       "text": [
        "\r",
        " 77%|\u2588\u2588\u2588\u2588\u2588\u2588\u2588\u258b  | 515/670 [02:33<00:46,  3.36it/s]"
       ]
      },
      {
       "output_type": "stream",
       "stream": "stderr",
       "text": [
        "\r",
        " 77%|\u2588\u2588\u2588\u2588\u2588\u2588\u2588\u258b  | 517/670 [02:33<00:45,  3.36it/s]"
       ]
      },
      {
       "output_type": "stream",
       "stream": "stderr",
       "text": [
        "\r",
        " 77%|\u2588\u2588\u2588\u2588\u2588\u2588\u2588\u258b  | 518/670 [02:35<00:45,  3.34it/s]"
       ]
      },
      {
       "output_type": "stream",
       "stream": "stderr",
       "text": [
        "\r",
        " 77%|\u2588\u2588\u2588\u2588\u2588\u2588\u2588\u258b  | 519/670 [02:35<00:45,  3.34it/s]"
       ]
      },
      {
       "output_type": "stream",
       "stream": "stderr",
       "text": [
        "\r",
        " 78%|\u2588\u2588\u2588\u2588\u2588\u2588\u2588\u258a  | 520/670 [02:36<00:45,  3.33it/s]"
       ]
      },
      {
       "output_type": "stream",
       "stream": "stderr",
       "text": [
        "\r",
        " 78%|\u2588\u2588\u2588\u2588\u2588\u2588\u2588\u258a  | 521/670 [02:36<00:44,  3.32it/s]"
       ]
      },
      {
       "output_type": "stream",
       "stream": "stderr",
       "text": [
        "\r",
        " 78%|\u2588\u2588\u2588\u2588\u2588\u2588\u2588\u258a  | 523/670 [02:37<00:44,  3.33it/s]"
       ]
      },
      {
       "output_type": "stream",
       "stream": "stderr",
       "text": [
        "\r",
        " 78%|\u2588\u2588\u2588\u2588\u2588\u2588\u2588\u258a  | 524/670 [02:37<00:43,  3.33it/s]"
       ]
      },
      {
       "output_type": "stream",
       "stream": "stderr",
       "text": [
        "\r",
        " 78%|\u2588\u2588\u2588\u2588\u2588\u2588\u2588\u258a  | 525/670 [02:37<00:43,  3.33it/s]"
       ]
      },
      {
       "output_type": "stream",
       "stream": "stderr",
       "text": [
        "\r",
        " 79%|\u2588\u2588\u2588\u2588\u2588\u2588\u2588\u258a  | 526/670 [02:37<00:43,  3.33it/s]"
       ]
      },
      {
       "output_type": "stream",
       "stream": "stderr",
       "text": [
        "\r",
        " 79%|\u2588\u2588\u2588\u2588\u2588\u2588\u2588\u258a  | 527/670 [02:38<00:42,  3.33it/s]"
       ]
      },
      {
       "output_type": "stream",
       "stream": "stderr",
       "text": [
        "\r",
        " 79%|\u2588\u2588\u2588\u2588\u2588\u2588\u2588\u2589  | 528/670 [02:38<00:42,  3.33it/s]"
       ]
      },
      {
       "output_type": "stream",
       "stream": "stderr",
       "text": [
        "\r",
        " 79%|\u2588\u2588\u2588\u2588\u2588\u2588\u2588\u2589  | 529/670 [02:38<00:42,  3.34it/s]"
       ]
      },
      {
       "output_type": "stream",
       "stream": "stderr",
       "text": [
        "\r",
        " 79%|\u2588\u2588\u2588\u2588\u2588\u2588\u2588\u2589  | 530/670 [02:38<00:41,  3.34it/s]"
       ]
      },
      {
       "output_type": "stream",
       "stream": "stderr",
       "text": [
        "\r",
        " 79%|\u2588\u2588\u2588\u2588\u2588\u2588\u2588\u2589  | 532/670 [02:40<00:41,  3.31it/s]"
       ]
      },
      {
       "output_type": "stream",
       "stream": "stderr",
       "text": [
        "\r",
        " 80%|\u2588\u2588\u2588\u2588\u2588\u2588\u2588\u2589  | 533/670 [02:41<00:41,  3.30it/s]"
       ]
      },
      {
       "output_type": "stream",
       "stream": "stderr",
       "text": [
        "\r",
        " 80%|\u2588\u2588\u2588\u2588\u2588\u2588\u2588\u2589  | 534/670 [02:42<00:41,  3.29it/s]"
       ]
      },
      {
       "output_type": "stream",
       "stream": "stderr",
       "text": [
        "\r",
        " 80%|\u2588\u2588\u2588\u2588\u2588\u2588\u2588\u2589  | 535/670 [02:42<00:40,  3.30it/s]"
       ]
      },
      {
       "output_type": "stream",
       "stream": "stderr",
       "text": [
        "\r",
        " 80%|\u2588\u2588\u2588\u2588\u2588\u2588\u2588\u2588  | 537/670 [02:42<00:40,  3.30it/s]"
       ]
      },
      {
       "output_type": "stream",
       "stream": "stderr",
       "text": [
        "\r",
        " 80%|\u2588\u2588\u2588\u2588\u2588\u2588\u2588\u2588  | 538/670 [02:42<00:39,  3.31it/s]"
       ]
      },
      {
       "output_type": "stream",
       "stream": "stderr",
       "text": [
        "\r",
        " 80%|\u2588\u2588\u2588\u2588\u2588\u2588\u2588\u2588  | 539/670 [02:42<00:39,  3.31it/s]"
       ]
      },
      {
       "output_type": "stream",
       "stream": "stderr",
       "text": [
        "\r",
        " 81%|\u2588\u2588\u2588\u2588\u2588\u2588\u2588\u2588  | 540/670 [02:43<00:39,  3.31it/s]"
       ]
      },
      {
       "output_type": "stream",
       "stream": "stderr",
       "text": [
        "\r",
        " 81%|\u2588\u2588\u2588\u2588\u2588\u2588\u2588\u2588  | 541/670 [02:43<00:38,  3.32it/s]"
       ]
      },
      {
       "output_type": "stream",
       "stream": "stderr",
       "text": [
        "\r",
        " 81%|\u2588\u2588\u2588\u2588\u2588\u2588\u2588\u2588  | 543/670 [02:43<00:38,  3.32it/s]"
       ]
      },
      {
       "output_type": "stream",
       "stream": "stderr",
       "text": [
        "\r",
        " 81%|\u2588\u2588\u2588\u2588\u2588\u2588\u2588\u2588\u258f | 545/670 [02:43<00:37,  3.33it/s]"
       ]
      },
      {
       "output_type": "stream",
       "stream": "stderr",
       "text": [
        "\r",
        " 82%|\u2588\u2588\u2588\u2588\u2588\u2588\u2588\u2588\u258f | 547/670 [02:43<00:36,  3.34it/s]"
       ]
      },
      {
       "output_type": "stream",
       "stream": "stderr",
       "text": [
        "\r",
        " 82%|\u2588\u2588\u2588\u2588\u2588\u2588\u2588\u2588\u258f | 549/670 [02:44<00:36,  3.35it/s]"
       ]
      },
      {
       "output_type": "stream",
       "stream": "stderr",
       "text": [
        "\r",
        " 82%|\u2588\u2588\u2588\u2588\u2588\u2588\u2588\u2588\u258f | 550/670 [02:44<00:35,  3.35it/s]"
       ]
      },
      {
       "output_type": "stream",
       "stream": "stderr",
       "text": [
        "\r",
        " 82%|\u2588\u2588\u2588\u2588\u2588\u2588\u2588\u2588\u258f | 552/670 [02:44<00:35,  3.36it/s]"
       ]
      },
      {
       "output_type": "stream",
       "stream": "stderr",
       "text": [
        "\r",
        " 83%|\u2588\u2588\u2588\u2588\u2588\u2588\u2588\u2588\u258e | 554/670 [02:44<00:34,  3.37it/s]"
       ]
      },
      {
       "output_type": "stream",
       "stream": "stderr",
       "text": [
        "\r",
        " 83%|\u2588\u2588\u2588\u2588\u2588\u2588\u2588\u2588\u258e | 556/670 [02:44<00:33,  3.37it/s]"
       ]
      },
      {
       "output_type": "stream",
       "stream": "stderr",
       "text": [
        "\r",
        " 83%|\u2588\u2588\u2588\u2588\u2588\u2588\u2588\u2588\u258e | 558/670 [02:44<00:33,  3.38it/s]"
       ]
      },
      {
       "output_type": "stream",
       "stream": "stderr",
       "text": [
        "\r",
        " 84%|\u2588\u2588\u2588\u2588\u2588\u2588\u2588\u2588\u258e | 560/670 [02:46<00:32,  3.37it/s]"
       ]
      },
      {
       "output_type": "stream",
       "stream": "stderr",
       "text": [
        "\r",
        " 84%|\u2588\u2588\u2588\u2588\u2588\u2588\u2588\u2588\u258e | 561/670 [02:46<00:32,  3.37it/s]"
       ]
      },
      {
       "output_type": "stream",
       "stream": "stderr",
       "text": [
        "\r",
        " 84%|\u2588\u2588\u2588\u2588\u2588\u2588\u2588\u2588\u258d | 562/670 [02:46<00:31,  3.38it/s]"
       ]
      },
      {
       "output_type": "stream",
       "stream": "stderr",
       "text": [
        "\r",
        " 84%|\u2588\u2588\u2588\u2588\u2588\u2588\u2588\u2588\u258d | 563/670 [02:46<00:31,  3.38it/s]"
       ]
      },
      {
       "output_type": "stream",
       "stream": "stderr",
       "text": [
        "\r",
        " 84%|\u2588\u2588\u2588\u2588\u2588\u2588\u2588\u2588\u258d | 565/670 [02:46<00:31,  3.39it/s]"
       ]
      },
      {
       "output_type": "stream",
       "stream": "stderr",
       "text": [
        "\r",
        " 84%|\u2588\u2588\u2588\u2588\u2588\u2588\u2588\u2588\u258d | 566/670 [02:46<00:30,  3.39it/s]"
       ]
      },
      {
       "output_type": "stream",
       "stream": "stderr",
       "text": [
        "\r",
        " 85%|\u2588\u2588\u2588\u2588\u2588\u2588\u2588\u2588\u258d | 567/670 [02:47<00:30,  3.39it/s]"
       ]
      },
      {
       "output_type": "stream",
       "stream": "stderr",
       "text": [
        "\r",
        " 85%|\u2588\u2588\u2588\u2588\u2588\u2588\u2588\u2588\u258d | 568/670 [02:47<00:30,  3.39it/s]"
       ]
      },
      {
       "output_type": "stream",
       "stream": "stderr",
       "text": [
        "\r",
        " 85%|\u2588\u2588\u2588\u2588\u2588\u2588\u2588\u2588\u258d | 569/670 [02:48<00:29,  3.38it/s]"
       ]
      },
      {
       "output_type": "stream",
       "stream": "stderr",
       "text": [
        "\r",
        " 85%|\u2588\u2588\u2588\u2588\u2588\u2588\u2588\u2588\u258c | 570/670 [02:48<00:29,  3.38it/s]"
       ]
      },
      {
       "output_type": "stream",
       "stream": "stderr",
       "text": [
        "\r",
        " 85%|\u2588\u2588\u2588\u2588\u2588\u2588\u2588\u2588\u258c | 571/670 [02:49<00:29,  3.38it/s]"
       ]
      },
      {
       "output_type": "stream",
       "stream": "stderr",
       "text": [
        "\r",
        " 86%|\u2588\u2588\u2588\u2588\u2588\u2588\u2588\u2588\u258c | 573/670 [02:49<00:28,  3.38it/s]"
       ]
      },
      {
       "output_type": "stream",
       "stream": "stderr",
       "text": [
        "\r",
        " 86%|\u2588\u2588\u2588\u2588\u2588\u2588\u2588\u2588\u258c | 574/670 [02:49<00:28,  3.39it/s]"
       ]
      },
      {
       "output_type": "stream",
       "stream": "stderr",
       "text": [
        "\r",
        " 86%|\u2588\u2588\u2588\u2588\u2588\u2588\u2588\u2588\u258c | 575/670 [02:49<00:28,  3.39it/s]"
       ]
      },
      {
       "output_type": "stream",
       "stream": "stderr",
       "text": [
        "\r",
        " 86%|\u2588\u2588\u2588\u2588\u2588\u2588\u2588\u2588\u258c | 576/670 [02:49<00:27,  3.39it/s]"
       ]
      },
      {
       "output_type": "stream",
       "stream": "stderr",
       "text": [
        "\r",
        " 86%|\u2588\u2588\u2588\u2588\u2588\u2588\u2588\u2588\u258c | 577/670 [02:50<00:27,  3.38it/s]"
       ]
      },
      {
       "output_type": "stream",
       "stream": "stderr",
       "text": [
        "\r",
        " 86%|\u2588\u2588\u2588\u2588\u2588\u2588\u2588\u2588\u258b | 578/670 [02:50<00:27,  3.38it/s]"
       ]
      },
      {
       "output_type": "stream",
       "stream": "stderr",
       "text": [
        "\r",
        " 86%|\u2588\u2588\u2588\u2588\u2588\u2588\u2588\u2588\u258b | 579/670 [02:51<00:26,  3.38it/s]"
       ]
      },
      {
       "output_type": "stream",
       "stream": "stderr",
       "text": [
        "\r",
        " 87%|\u2588\u2588\u2588\u2588\u2588\u2588\u2588\u2588\u258b | 580/670 [02:51<00:26,  3.39it/s]"
       ]
      },
      {
       "output_type": "stream",
       "stream": "stderr",
       "text": [
        "\r",
        " 87%|\u2588\u2588\u2588\u2588\u2588\u2588\u2588\u2588\u258b | 581/670 [02:51<00:26,  3.38it/s]"
       ]
      },
      {
       "output_type": "stream",
       "stream": "stderr",
       "text": [
        "\r",
        " 87%|\u2588\u2588\u2588\u2588\u2588\u2588\u2588\u2588\u258b | 582/670 [02:51<00:25,  3.39it/s]"
       ]
      },
      {
       "output_type": "stream",
       "stream": "stderr",
       "text": [
        "\r",
        " 87%|\u2588\u2588\u2588\u2588\u2588\u2588\u2588\u2588\u258b | 583/670 [02:52<00:25,  3.39it/s]"
       ]
      },
      {
       "output_type": "stream",
       "stream": "stderr",
       "text": [
        "\r",
        " 87%|\u2588\u2588\u2588\u2588\u2588\u2588\u2588\u2588\u258b | 585/670 [02:52<00:25,  3.40it/s]"
       ]
      },
      {
       "output_type": "stream",
       "stream": "stderr",
       "text": [
        "\r",
        " 87%|\u2588\u2588\u2588\u2588\u2588\u2588\u2588\u2588\u258b | 586/670 [02:52<00:24,  3.40it/s]"
       ]
      },
      {
       "output_type": "stream",
       "stream": "stderr",
       "text": [
        "\r",
        " 88%|\u2588\u2588\u2588\u2588\u2588\u2588\u2588\u2588\u258a | 588/670 [02:52<00:24,  3.40it/s]"
       ]
      },
      {
       "output_type": "stream",
       "stream": "stderr",
       "text": [
        "\r",
        " 88%|\u2588\u2588\u2588\u2588\u2588\u2588\u2588\u2588\u258a | 589/670 [02:52<00:23,  3.41it/s]"
       ]
      },
      {
       "output_type": "stream",
       "stream": "stderr",
       "text": [
        "\r",
        " 88%|\u2588\u2588\u2588\u2588\u2588\u2588\u2588\u2588\u258a | 590/670 [02:53<00:23,  3.41it/s]"
       ]
      },
      {
       "output_type": "stream",
       "stream": "stderr",
       "text": [
        "\r",
        " 88%|\u2588\u2588\u2588\u2588\u2588\u2588\u2588\u2588\u258a | 592/670 [02:53<00:22,  3.41it/s]"
       ]
      },
      {
       "output_type": "stream",
       "stream": "stderr",
       "text": [
        "\r",
        " 89%|\u2588\u2588\u2588\u2588\u2588\u2588\u2588\u2588\u258a | 593/670 [02:53<00:22,  3.41it/s]"
       ]
      },
      {
       "output_type": "stream",
       "stream": "stderr",
       "text": [
        "\r",
        " 89%|\u2588\u2588\u2588\u2588\u2588\u2588\u2588\u2588\u258a | 594/670 [02:54<00:22,  3.40it/s]"
       ]
      },
      {
       "output_type": "stream",
       "stream": "stderr",
       "text": [
        "\r",
        " 89%|\u2588\u2588\u2588\u2588\u2588\u2588\u2588\u2588\u2589 | 595/670 [02:54<00:22,  3.40it/s]"
       ]
      },
      {
       "output_type": "stream",
       "stream": "stderr",
       "text": [
        "\r",
        " 89%|\u2588\u2588\u2588\u2588\u2588\u2588\u2588\u2588\u2589 | 596/670 [02:55<00:21,  3.40it/s]"
       ]
      },
      {
       "output_type": "stream",
       "stream": "stderr",
       "text": [
        "\r",
        " 89%|\u2588\u2588\u2588\u2588\u2588\u2588\u2588\u2588\u2589 | 599/670 [02:55<00:20,  3.42it/s]"
       ]
      },
      {
       "output_type": "stream",
       "stream": "stderr",
       "text": [
        "\r",
        " 90%|\u2588\u2588\u2588\u2588\u2588\u2588\u2588\u2588\u2589 | 601/670 [02:56<00:20,  3.41it/s]"
       ]
      },
      {
       "output_type": "stream",
       "stream": "stderr",
       "text": [
        "\r",
        " 90%|\u2588\u2588\u2588\u2588\u2588\u2588\u2588\u2588\u2589 | 602/670 [02:56<00:19,  3.41it/s]"
       ]
      },
      {
       "output_type": "stream",
       "stream": "stderr",
       "text": [
        "\r",
        " 90%|\u2588\u2588\u2588\u2588\u2588\u2588\u2588\u2588\u2588 | 603/670 [02:56<00:19,  3.41it/s]"
       ]
      },
      {
       "output_type": "stream",
       "stream": "stderr",
       "text": [
        "\r",
        " 90%|\u2588\u2588\u2588\u2588\u2588\u2588\u2588\u2588\u2588 | 604/670 [02:56<00:19,  3.41it/s]"
       ]
      },
      {
       "output_type": "stream",
       "stream": "stderr",
       "text": [
        "\r",
        " 90%|\u2588\u2588\u2588\u2588\u2588\u2588\u2588\u2588\u2588 | 605/670 [02:57<00:19,  3.42it/s]"
       ]
      },
      {
       "output_type": "stream",
       "stream": "stderr",
       "text": [
        "\r",
        " 91%|\u2588\u2588\u2588\u2588\u2588\u2588\u2588\u2588\u2588 | 607/670 [02:57<00:18,  3.42it/s]"
       ]
      },
      {
       "output_type": "stream",
       "stream": "stderr",
       "text": [
        "\r",
        " 91%|\u2588\u2588\u2588\u2588\u2588\u2588\u2588\u2588\u2588 | 609/670 [02:57<00:17,  3.43it/s]"
       ]
      },
      {
       "output_type": "stream",
       "stream": "stderr",
       "text": [
        "\r",
        " 91%|\u2588\u2588\u2588\u2588\u2588\u2588\u2588\u2588\u2588 | 611/670 [02:57<00:17,  3.44it/s]"
       ]
      },
      {
       "output_type": "stream",
       "stream": "stderr",
       "text": [
        "\r",
        " 91%|\u2588\u2588\u2588\u2588\u2588\u2588\u2588\u2588\u2588\u258f| 612/670 [02:58<00:16,  3.43it/s]"
       ]
      },
      {
       "output_type": "stream",
       "stream": "stderr",
       "text": [
        "\r",
        " 91%|\u2588\u2588\u2588\u2588\u2588\u2588\u2588\u2588\u2588\u258f| 613/670 [02:58<00:16,  3.43it/s]"
       ]
      },
      {
       "output_type": "stream",
       "stream": "stderr",
       "text": [
        "\r",
        " 92%|\u2588\u2588\u2588\u2588\u2588\u2588\u2588\u2588\u2588\u258f| 614/670 [02:59<00:16,  3.42it/s]"
       ]
      },
      {
       "output_type": "stream",
       "stream": "stderr",
       "text": [
        "\r",
        " 92%|\u2588\u2588\u2588\u2588\u2588\u2588\u2588\u2588\u2588\u258f| 615/670 [02:59<00:16,  3.43it/s]"
       ]
      },
      {
       "output_type": "stream",
       "stream": "stderr",
       "text": [
        "\r",
        " 92%|\u2588\u2588\u2588\u2588\u2588\u2588\u2588\u2588\u2588\u258f| 616/670 [02:59<00:15,  3.43it/s]"
       ]
      },
      {
       "output_type": "stream",
       "stream": "stderr",
       "text": [
        "\r",
        " 92%|\u2588\u2588\u2588\u2588\u2588\u2588\u2588\u2588\u2588\u258f| 617/670 [03:00<00:15,  3.43it/s]"
       ]
      },
      {
       "output_type": "stream",
       "stream": "stderr",
       "text": [
        "\r",
        " 92%|\u2588\u2588\u2588\u2588\u2588\u2588\u2588\u2588\u2588\u258f| 618/670 [03:00<00:15,  3.43it/s]"
       ]
      },
      {
       "output_type": "stream",
       "stream": "stderr",
       "text": [
        "\r",
        " 92%|\u2588\u2588\u2588\u2588\u2588\u2588\u2588\u2588\u2588\u258f| 619/670 [03:00<00:14,  3.43it/s]"
       ]
      },
      {
       "output_type": "stream",
       "stream": "stderr",
       "text": [
        "\r",
        " 93%|\u2588\u2588\u2588\u2588\u2588\u2588\u2588\u2588\u2588\u258e| 620/670 [03:00<00:14,  3.43it/s]"
       ]
      },
      {
       "output_type": "stream",
       "stream": "stderr",
       "text": [
        "\r",
        " 93%|\u2588\u2588\u2588\u2588\u2588\u2588\u2588\u2588\u2588\u258e| 622/670 [03:01<00:13,  3.44it/s]"
       ]
      },
      {
       "output_type": "stream",
       "stream": "stderr",
       "text": [
        "\r",
        " 93%|\u2588\u2588\u2588\u2588\u2588\u2588\u2588\u2588\u2588\u258e| 623/670 [03:01<00:13,  3.44it/s]"
       ]
      },
      {
       "output_type": "stream",
       "stream": "stderr",
       "text": [
        "\r",
        " 93%|\u2588\u2588\u2588\u2588\u2588\u2588\u2588\u2588\u2588\u258e| 624/670 [03:01<00:13,  3.44it/s]"
       ]
      },
      {
       "output_type": "stream",
       "stream": "stderr",
       "text": [
        "\r",
        " 93%|\u2588\u2588\u2588\u2588\u2588\u2588\u2588\u2588\u2588\u258e| 625/670 [03:03<00:13,  3.41it/s]"
       ]
      },
      {
       "output_type": "stream",
       "stream": "stderr",
       "text": [
        "\r",
        " 94%|\u2588\u2588\u2588\u2588\u2588\u2588\u2588\u2588\u2588\u258e| 627/670 [03:03<00:12,  3.42it/s]"
       ]
      },
      {
       "output_type": "stream",
       "stream": "stderr",
       "text": [
        "\r",
        " 94%|\u2588\u2588\u2588\u2588\u2588\u2588\u2588\u2588\u2588\u258e| 628/670 [03:03<00:12,  3.42it/s]"
       ]
      },
      {
       "output_type": "stream",
       "stream": "stderr",
       "text": [
        "\r",
        " 94%|\u2588\u2588\u2588\u2588\u2588\u2588\u2588\u2588\u2588\u258d| 630/670 [03:04<00:11,  3.41it/s]"
       ]
      },
      {
       "output_type": "stream",
       "stream": "stderr",
       "text": [
        "\r",
        " 94%|\u2588\u2588\u2588\u2588\u2588\u2588\u2588\u2588\u2588\u258d| 632/670 [03:04<00:11,  3.42it/s]"
       ]
      },
      {
       "output_type": "stream",
       "stream": "stderr",
       "text": [
        "\r",
        " 94%|\u2588\u2588\u2588\u2588\u2588\u2588\u2588\u2588\u2588\u258d| 633/670 [03:04<00:10,  3.42it/s]"
       ]
      },
      {
       "output_type": "stream",
       "stream": "stderr",
       "text": [
        "\r",
        " 95%|\u2588\u2588\u2588\u2588\u2588\u2588\u2588\u2588\u2588\u258d| 634/670 [03:04<00:10,  3.43it/s]"
       ]
      },
      {
       "output_type": "stream",
       "stream": "stderr",
       "text": [
        "\r",
        " 95%|\u2588\u2588\u2588\u2588\u2588\u2588\u2588\u2588\u2588\u258d| 635/670 [03:06<00:10,  3.41it/s]"
       ]
      },
      {
       "output_type": "stream",
       "stream": "stderr",
       "text": [
        "\r",
        " 95%|\u2588\u2588\u2588\u2588\u2588\u2588\u2588\u2588\u2588\u258d| 636/670 [03:06<00:09,  3.41it/s]"
       ]
      },
      {
       "output_type": "stream",
       "stream": "stderr",
       "text": [
        "\r",
        " 95%|\u2588\u2588\u2588\u2588\u2588\u2588\u2588\u2588\u2588\u258c| 638/670 [03:06<00:09,  3.41it/s]"
       ]
      },
      {
       "output_type": "stream",
       "stream": "stderr",
       "text": [
        "\r",
        " 95%|\u2588\u2588\u2588\u2588\u2588\u2588\u2588\u2588\u2588\u258c| 639/670 [03:07<00:09,  3.41it/s]"
       ]
      },
      {
       "output_type": "stream",
       "stream": "stderr",
       "text": [
        "\r",
        " 96%|\u2588\u2588\u2588\u2588\u2588\u2588\u2588\u2588\u2588\u258c| 640/670 [03:07<00:08,  3.42it/s]"
       ]
      },
      {
       "output_type": "stream",
       "stream": "stderr",
       "text": [
        "\r",
        " 96%|\u2588\u2588\u2588\u2588\u2588\u2588\u2588\u2588\u2588\u258c| 641/670 [03:07<00:08,  3.42it/s]"
       ]
      },
      {
       "output_type": "stream",
       "stream": "stderr",
       "text": [
        "\r",
        " 96%|\u2588\u2588\u2588\u2588\u2588\u2588\u2588\u2588\u2588\u258c| 643/670 [03:07<00:07,  3.43it/s]"
       ]
      },
      {
       "output_type": "stream",
       "stream": "stderr",
       "text": [
        "\r",
        " 96%|\u2588\u2588\u2588\u2588\u2588\u2588\u2588\u2588\u2588\u258b| 645/670 [03:08<00:07,  3.43it/s]"
       ]
      },
      {
       "output_type": "stream",
       "stream": "stderr",
       "text": [
        "\r",
        " 97%|\u2588\u2588\u2588\u2588\u2588\u2588\u2588\u2588\u2588\u258b| 647/670 [03:08<00:06,  3.44it/s]"
       ]
      },
      {
       "output_type": "stream",
       "stream": "stderr",
       "text": [
        "\r",
        " 97%|\u2588\u2588\u2588\u2588\u2588\u2588\u2588\u2588\u2588\u258b| 648/670 [03:08<00:06,  3.44it/s]"
       ]
      },
      {
       "output_type": "stream",
       "stream": "stderr",
       "text": [
        "\r",
        " 97%|\u2588\u2588\u2588\u2588\u2588\u2588\u2588\u2588\u2588\u258b| 649/670 [03:08<00:06,  3.44it/s]"
       ]
      },
      {
       "output_type": "stream",
       "stream": "stderr",
       "text": [
        "\r",
        " 97%|\u2588\u2588\u2588\u2588\u2588\u2588\u2588\u2588\u2588\u258b| 650/670 [03:08<00:05,  3.44it/s]"
       ]
      },
      {
       "output_type": "stream",
       "stream": "stderr",
       "text": [
        "\r",
        " 97%|\u2588\u2588\u2588\u2588\u2588\u2588\u2588\u2588\u2588\u258b| 652/670 [03:09<00:05,  3.44it/s]"
       ]
      },
      {
       "output_type": "stream",
       "stream": "stderr",
       "text": [
        "\r",
        " 97%|\u2588\u2588\u2588\u2588\u2588\u2588\u2588\u2588\u2588\u258b| 653/670 [03:09<00:04,  3.45it/s]"
       ]
      },
      {
       "output_type": "stream",
       "stream": "stderr",
       "text": [
        "\r",
        " 98%|\u2588\u2588\u2588\u2588\u2588\u2588\u2588\u2588\u2588\u258a| 654/670 [03:10<00:04,  3.44it/s]"
       ]
      },
      {
       "output_type": "stream",
       "stream": "stderr",
       "text": [
        "\r",
        " 98%|\u2588\u2588\u2588\u2588\u2588\u2588\u2588\u2588\u2588\u258a| 655/670 [03:10<00:04,  3.44it/s]"
       ]
      },
      {
       "output_type": "stream",
       "stream": "stderr",
       "text": [
        "\r",
        " 98%|\u2588\u2588\u2588\u2588\u2588\u2588\u2588\u2588\u2588\u258a| 656/670 [03:10<00:04,  3.44it/s]"
       ]
      },
      {
       "output_type": "stream",
       "stream": "stderr",
       "text": [
        "\r",
        " 98%|\u2588\u2588\u2588\u2588\u2588\u2588\u2588\u2588\u2588\u258a| 658/670 [03:10<00:03,  3.45it/s]"
       ]
      },
      {
       "output_type": "stream",
       "stream": "stderr",
       "text": [
        "\r",
        " 98%|\u2588\u2588\u2588\u2588\u2588\u2588\u2588\u2588\u2588\u258a| 659/670 [03:10<00:03,  3.45it/s]"
       ]
      },
      {
       "output_type": "stream",
       "stream": "stderr",
       "text": [
        "\r",
        " 99%|\u2588\u2588\u2588\u2588\u2588\u2588\u2588\u2588\u2588\u258a| 660/670 [03:11<00:02,  3.45it/s]"
       ]
      },
      {
       "output_type": "stream",
       "stream": "stderr",
       "text": [
        "\r",
        " 99%|\u2588\u2588\u2588\u2588\u2588\u2588\u2588\u2588\u2588\u258a| 661/670 [03:11<00:02,  3.45it/s]"
       ]
      },
      {
       "output_type": "stream",
       "stream": "stderr",
       "text": [
        "\r",
        " 99%|\u2588\u2588\u2588\u2588\u2588\u2588\u2588\u2588\u2588\u2589| 663/670 [03:11<00:02,  3.45it/s]"
       ]
      },
      {
       "output_type": "stream",
       "stream": "stderr",
       "text": [
        "\r",
        " 99%|\u2588\u2588\u2588\u2588\u2588\u2588\u2588\u2588\u2588\u2589| 664/670 [03:12<00:01,  3.46it/s]"
       ]
      },
      {
       "output_type": "stream",
       "stream": "stderr",
       "text": [
        "\r",
        " 99%|\u2588\u2588\u2588\u2588\u2588\u2588\u2588\u2588\u2588\u2589| 665/670 [03:12<00:01,  3.46it/s]"
       ]
      },
      {
       "output_type": "stream",
       "stream": "stderr",
       "text": [
        "\r",
        " 99%|\u2588\u2588\u2588\u2588\u2588\u2588\u2588\u2588\u2588\u2589| 666/670 [03:12<00:01,  3.46it/s]"
       ]
      },
      {
       "output_type": "stream",
       "stream": "stderr",
       "text": [
        "\r",
        "100%|\u2588\u2588\u2588\u2588\u2588\u2588\u2588\u2588\u2588\u2589| 667/670 [03:12<00:00,  3.46it/s]"
       ]
      },
      {
       "output_type": "stream",
       "stream": "stderr",
       "text": [
        "\r",
        "100%|\u2588\u2588\u2588\u2588\u2588\u2588\u2588\u2588\u2588\u2589| 668/670 [03:12<00:00,  3.47it/s]"
       ]
      },
      {
       "output_type": "stream",
       "stream": "stderr",
       "text": [
        "\r",
        "100%|\u2588\u2588\u2588\u2588\u2588\u2588\u2588\u2588\u2588\u2588| 670/670 [03:12<00:00,  3.47it/s]"
       ]
      },
      {
       "output_type": "stream",
       "stream": "stdout",
       "text": [
        "Getting and resizing test images ... \n"
       ]
      },
      {
       "output_type": "stream",
       "stream": "stderr",
       "text": [
        "\n",
        "\r",
        "  0%|          | 0/65 [00:00<?, ?it/s]"
       ]
      },
      {
       "output_type": "stream",
       "stream": "stderr",
       "text": [
        "\r",
        "  9%|\u2589         | 6/65 [00:00<00:01, 51.20it/s]"
       ]
      },
      {
       "output_type": "stream",
       "stream": "stderr",
       "text": [
        "\r",
        " 14%|\u2588\u258d        | 9/65 [00:00<00:01, 39.30it/s]"
       ]
      },
      {
       "output_type": "stream",
       "stream": "stderr",
       "text": [
        "\r",
        " 20%|\u2588\u2588        | 13/65 [00:00<00:01, 39.29it/s]"
       ]
      },
      {
       "output_type": "stream",
       "stream": "stderr",
       "text": [
        "\r",
        " 28%|\u2588\u2588\u258a       | 18/65 [00:00<00:01, 40.61it/s]"
       ]
      },
      {
       "output_type": "stream",
       "stream": "stderr",
       "text": [
        "\r",
        " 34%|\u2588\u2588\u2588\u258d      | 22/65 [00:00<00:01, 40.23it/s]"
       ]
      },
      {
       "output_type": "stream",
       "stream": "stderr",
       "text": [
        "\r",
        " 40%|\u2588\u2588\u2588\u2588      | 26/65 [00:00<00:00, 39.68it/s]"
       ]
      },
      {
       "output_type": "stream",
       "stream": "stderr",
       "text": [
        "\r",
        " 48%|\u2588\u2588\u2588\u2588\u258a     | 31/65 [00:00<00:00, 40.39it/s]"
       ]
      },
      {
       "output_type": "stream",
       "stream": "stderr",
       "text": [
        "\r",
        " 55%|\u2588\u2588\u2588\u2588\u2588\u258c    | 36/65 [00:00<00:00, 40.38it/s]"
       ]
      },
      {
       "output_type": "stream",
       "stream": "stderr",
       "text": [
        "\r",
        " 62%|\u2588\u2588\u2588\u2588\u2588\u2588\u258f   | 40/65 [00:01<00:00, 37.16it/s]"
       ]
      },
      {
       "output_type": "stream",
       "stream": "stderr",
       "text": [
        "\r",
        " 69%|\u2588\u2588\u2588\u2588\u2588\u2588\u2589   | 45/65 [00:01<00:00, 37.01it/s]"
       ]
      },
      {
       "output_type": "stream",
       "stream": "stderr",
       "text": [
        "\r",
        " 77%|\u2588\u2588\u2588\u2588\u2588\u2588\u2588\u258b  | 50/65 [00:01<00:00, 37.82it/s]"
       ]
      },
      {
       "output_type": "stream",
       "stream": "stderr",
       "text": [
        "\r",
        " 83%|\u2588\u2588\u2588\u2588\u2588\u2588\u2588\u2588\u258e | 54/65 [00:01<00:00, 37.94it/s]"
       ]
      },
      {
       "output_type": "stream",
       "stream": "stderr",
       "text": [
        "\r",
        " 91%|\u2588\u2588\u2588\u2588\u2588\u2588\u2588\u2588\u2588 | 59/65 [00:01<00:00, 38.30it/s]"
       ]
      },
      {
       "output_type": "stream",
       "stream": "stderr",
       "text": [
        "\r",
        " 97%|\u2588\u2588\u2588\u2588\u2588\u2588\u2588\u2588\u2588\u258b| 63/65 [00:01<00:00, 37.88it/s]"
       ]
      },
      {
       "output_type": "stream",
       "stream": "stderr",
       "text": [
        "\r",
        "100%|\u2588\u2588\u2588\u2588\u2588\u2588\u2588\u2588\u2588\u2588| 65/65 [00:01<00:00, 38.03it/s]"
       ]
      },
      {
       "output_type": "stream",
       "stream": "stdout",
       "text": [
        "Done!\n"
       ]
      },
      {
       "output_type": "stream",
       "stream": "stderr",
       "text": [
        "\n"
       ]
      }
     ],
     "prompt_number": 3
    },
    {
     "cell_type": "code",
     "collapsed": false,
     "input": [
      "def mean_iou(y_true, y_pred):\n",
      "    prec = []\n",
      "    for t in np.arange(0.5, 1.0, 0.05):\n",
      "        y_pred_ = tf.to_int32(y_pred > t)\n",
      "        score, up_opt = tf.metrics.mean_iou(y_true, y_pred_, 2)\n",
      "        K.get_session().run(tf.local_variables_initializer())\n",
      "        with tf.control_dependencies([up_opt]):\n",
      "            score = tf.identity(score)\n",
      "        prec.append(score)\n",
      "    return K.mean(K.stack(prec), axis=0)"
     ],
     "language": "python",
     "metadata": {},
     "outputs": [],
     "prompt_number": 4
    },
    {
     "cell_type": "code",
     "collapsed": false,
     "input": [
      "def my_weighted_loss(onehot_labels, logits):\n",
      "    \"\"\"scale loss based on class weights\n",
      "       Then in your keras code you just need to specify model.compile(loss=my_weighted_loss...)\n",
      "    \"\"\"\n",
      "    # compute weights based on their frequencies\n",
      "    class_weights = np.array([0.05,0.15,0.8]) # set your class weights here\n",
      "    # computer weights based on onehot labels\n",
      "    weights = tf.reduce_sum(class_weights * onehot_labels, axis=-1)\n",
      "    # compute (unweighted) softmax cross entropy loss\n",
      "    unweighted_losses = tf.nn.softmax_cross_entropy_with_logits(labels=[onehot_labels], logits=[logits])\n",
      "    # apply the weights, relying on broadcasting of the multiplication\n",
      "    weighted_losses = unweighted_losses * weights\n",
      "    # reduce the result to get your final loss\n",
      "    loss = tf.reduce_mean(weighted_losses)\n",
      "    return loss"
     ],
     "language": "python",
     "metadata": {},
     "outputs": [],
     "prompt_number": 5
    },
    {
     "cell_type": "code",
     "collapsed": false,
     "input": [
      "# Build U-Net model\n",
      "inputs = Input((IMG_HEIGHT, IMG_WIDTH, IMG_CHANNELS))\n",
      "s = Lambda(lambda x: x / 255) (inputs)\n",
      "activation = 'elu'\n",
      "kernel_initializer = 'he_normal'\n",
      "\n",
      "c0 = Conv2D(8, (3, 3), activation='elu', kernel_initializer='he_normal', padding='same') (s)\n",
      "c0 = Dropout(0.1) (c0)\n",
      "c0 = Conv2D(8, (3, 3), activation='elu', kernel_initializer='he_normal', padding='same') (c0)\n",
      "p0 = MaxPooling2D((2, 2)) (c0)\n",
      "\n",
      "c1 = Conv2D(16, (3, 3), activation='elu', kernel_initializer='he_normal', padding='same') (p0)\n",
      "c1 = Dropout(0.1) (c1)\n",
      "c1 = Conv2D(16, (3, 3), activation='elu', kernel_initializer='he_normal', padding='same') (c1)\n",
      "p1 = MaxPooling2D((2, 2)) (c1)\n",
      "\n",
      "c2 = Conv2D(32, (3, 3), activation='elu', kernel_initializer='he_normal', padding='same') (p1)\n",
      "c2 = Dropout(0.1) (c2)\n",
      "c2 = Conv2D(32, (3, 3), activation='elu', kernel_initializer='he_normal', padding='same') (c2)\n",
      "p2 = MaxPooling2D((2, 2)) (c2)\n",
      "\n",
      "c3 = Conv2D(64, (3, 3), activation='elu', kernel_initializer='he_normal', padding='same') (p2)\n",
      "c3 = Dropout(0.2) (c3)\n",
      "c3 = Conv2D(64, (3, 3), activation='elu', kernel_initializer='he_normal', padding='same') (c3)\n",
      "p3 = MaxPooling2D((2, 2)) (c3)\n",
      "\n",
      "c4 = Conv2D(128, (3, 3), activation='elu', kernel_initializer='he_normal', padding='same') (p3)\n",
      "c4 = Dropout(0.2) (c4)\n",
      "c4 = Conv2D(128, (3, 3), activation='elu', kernel_initializer='he_normal', padding='same') (c4)\n",
      "p4 = MaxPooling2D(pool_size=(2, 2)) (c4)\n",
      "\n",
      "c5 = Conv2D(256, (3, 3), activation='elu', kernel_initializer='he_normal', padding='same') (p4)\n",
      "c5 = Dropout(0.3) (c5)\n",
      "c5 = Conv2D(256, (3, 3), activation='elu', kernel_initializer='he_normal', padding='same') (c5)\n",
      "\n",
      "#  ============================ going down all the way =======================================\n",
      "\n",
      "u6 = Conv2DTranspose(128, (2, 2), strides=(2, 2), padding='same') (c5)\n",
      "u6 = concatenate([u6, c4])\n",
      "c6 = Conv2D(128, (3, 3), activation='elu', kernel_initializer='he_normal', padding='same') (u6)\n",
      "c6 = Dropout(0.2) (c6)\n",
      "c6 = Conv2D(128, (3, 3), activation='elu', kernel_initializer='he_normal', padding='same') (c6)\n",
      "\n",
      "u7 = Conv2DTranspose(64, (2, 2), strides=(2, 2), padding='same') (c6)\n",
      "u7 = concatenate([u7, c3])\n",
      "c7 = Conv2D(64, (3, 3), activation='elu', kernel_initializer='he_normal', padding='same') (u7)\n",
      "c7 = Dropout(0.2) (c7)\n",
      "c7 = Conv2D(64, (3, 3), activation='elu', kernel_initializer='he_normal', padding='same') (c7)\n",
      "\n",
      "u8 = Conv2DTranspose(32, (2, 2), strides=(2, 2), padding='same') (c7)\n",
      "u8 = concatenate([u8, c2])\n",
      "c8 = Conv2D(32, (3, 3), activation='elu', kernel_initializer='he_normal', padding='same') (u8)\n",
      "c8 = Dropout(0.1) (c8)\n",
      "c8 = Conv2D(32, (3, 3), activation='elu', kernel_initializer='he_normal', padding='same') (c8)\n",
      "\n",
      "#  ============================ going up half way ============================================\n",
      "\n",
      "c9 = Conv2D(64, (3, 3), activation='elu', kernel_initializer='he_normal', padding='same') (c8)\n",
      "c9 = Dropout(0.2) (c9)\n",
      "c9 = Conv2D(64, (3, 3), activation='elu', kernel_initializer='he_normal', padding='same') (c9)\n",
      "p9 = MaxPooling2D((2, 2)) (c9)\n",
      "\n",
      "c10 = Conv2D(128, (3, 3), activation='elu', kernel_initializer='he_normal', padding='same') (p9)\n",
      "c10 = Dropout(0.2) (c10)\n",
      "c10 = Conv2D(128, (3, 3), activation='elu', kernel_initializer='he_normal', padding='same') (c10)\n",
      "p10 = MaxPooling2D(pool_size=(2, 2)) (c10)\n",
      "\n",
      "c11 = Conv2D(256, (3, 3), activation='elu', kernel_initializer='he_normal', padding='same') (p10)\n",
      "c11 = Dropout(0.3) (c11)\n",
      "c11 = Conv2D(256, (3, 3), activation='elu', kernel_initializer='he_normal', padding='same') (c11)\n",
      "\n",
      "#  ============================ going down all the way again ==================================\n",
      "\n",
      "u12 = Conv2DTranspose(128, (2, 2), strides=(2, 2), padding='same') (c11)\n",
      "u12 = concatenate([u12, c10])\n",
      "c12 = Conv2D(128, (3, 3), activation='elu', kernel_initializer='he_normal', padding='same') (u12)\n",
      "c12 = Dropout(0.2) (c12)\n",
      "c12 = Conv2D(128, (3, 3), activation='elu', kernel_initializer='he_normal', padding='same') (c12)\n",
      "\n",
      "u13 = Conv2DTranspose(64, (2, 2), strides=(2, 2), padding='same') (c12)\n",
      "u13 = concatenate([u13, c9])\n",
      "c13 = Conv2D(64, (3, 3), activation='elu', kernel_initializer='he_normal', padding='same') (u13)\n",
      "c13 = Dropout(0.2) (c13)\n",
      "c13 = Conv2D(64, (3, 3), activation='elu', kernel_initializer='he_normal', padding='same') (c13)\n",
      "\n",
      "u14 = Conv2DTranspose(32, (2, 2), strides=(2, 2), padding='same') (c13)\n",
      "u14 = concatenate([u14, c1])\n",
      "c14 = Conv2D(32, (3, 3), activation='elu', kernel_initializer='he_normal', padding='same') (u14)\n",
      "c14 = Dropout(0.1) (c14)\n",
      "c14 = Conv2D(32, (3, 3), activation='elu', kernel_initializer='he_normal', padding='same') (c14)\n",
      "\n",
      "u15 = Conv2DTranspose(16, (2, 2), strides=(2, 2), padding='same') (c14)\n",
      "u15 = concatenate([u15, c0], axis=3)\n",
      "c15 = Conv2D(16, (3, 3), activation='elu', kernel_initializer='he_normal', padding='same') (u15)\n",
      "c15 = Dropout(0.1) (c15)\n",
      "c15 = Conv2D(16, (3, 3), activation='elu', kernel_initializer='he_normal', padding='same') (c15)\n",
      "\n",
      "# u16 = Conv2DTranspose(8, (2, 2), strides=(2, 2), padding='same') (c15)\n",
      "# u16 = concatenate([u16, c0], axis=3)\n",
      "# c16 = Conv2D(8, (3, 3), activation='elu', kernel_initializer='he_normal', padding='same') (u16)\n",
      "# c16 = Dropout(0.1) (c16)\n",
      "# c16 = Conv2D(8, (3, 3), activation='elu', kernel_initializer='he_normal', padding='same') (c16)\n",
      "\n",
      "#  ============================ going up home run =============================================\n",
      "\n",
      "outputs = Conv2D(1, (1, 1), activation='sigmoid') (c15)\n",
      "\n",
      "model = Model(inputs=[inputs], outputs=[outputs])\n",
      "model.compile(optimizer='adam', loss='binary_crossentropy', metrics=[mean_iou])\n",
      "#model.compile(optimizer='adam', loss=my_weighted_loss, metrics=[mean_iou])\n",
      "model.summary()"
     ],
     "language": "python",
     "metadata": {},
     "outputs": [
      {
       "output_type": "stream",
       "stream": "stdout",
       "text": [
        "__________________________________________________________________________________________________\n",
        "Layer (type)                    Output Shape         Param #     Connected to                     \n",
        "==================================================================================================\n",
        "input_1 (InputLayer)            (None, 256, 256, 3)  0                                            \n",
        "__________________________________________________________________________________________________\n",
        "lambda_1 (Lambda)               (None, 256, 256, 3)  0           input_1[0][0]                    \n",
        "__________________________________________________________________________________________________\n",
        "conv2d_1 (Conv2D)               (None, 256, 256, 8)  224         lambda_1[0][0]                   \n",
        "__________________________________________________________________________________________________\n",
        "dropout_1 (Dropout)             (None, 256, 256, 8)  0           conv2d_1[0][0]                   \n",
        "__________________________________________________________________________________________________\n",
        "conv2d_2 (Conv2D)               (None, 256, 256, 8)  584         dropout_1[0][0]                  \n",
        "__________________________________________________________________________________________________\n",
        "max_pooling2d_1 (MaxPooling2D)  (None, 128, 128, 8)  0           conv2d_2[0][0]                   \n",
        "__________________________________________________________________________________________________\n",
        "conv2d_3 (Conv2D)               (None, 128, 128, 16) 1168        max_pooling2d_1[0][0]            \n",
        "__________________________________________________________________________________________________\n",
        "dropout_2 (Dropout)             (None, 128, 128, 16) 0           conv2d_3[0][0]                   \n",
        "__________________________________________________________________________________________________\n",
        "conv2d_4 (Conv2D)               (None, 128, 128, 16) 2320        dropout_2[0][0]                  \n",
        "__________________________________________________________________________________________________\n",
        "max_pooling2d_2 (MaxPooling2D)  (None, 64, 64, 16)   0           conv2d_4[0][0]                   \n",
        "__________________________________________________________________________________________________\n",
        "conv2d_5 (Conv2D)               (None, 64, 64, 32)   4640        max_pooling2d_2[0][0]            \n",
        "__________________________________________________________________________________________________\n",
        "dropout_3 (Dropout)             (None, 64, 64, 32)   0           conv2d_5[0][0]                   \n",
        "__________________________________________________________________________________________________\n",
        "conv2d_6 (Conv2D)               (None, 64, 64, 32)   9248        dropout_3[0][0]                  \n",
        "__________________________________________________________________________________________________\n",
        "max_pooling2d_3 (MaxPooling2D)  (None, 32, 32, 32)   0           conv2d_6[0][0]                   \n",
        "__________________________________________________________________________________________________\n",
        "conv2d_7 (Conv2D)               (None, 32, 32, 64)   18496       max_pooling2d_3[0][0]            \n",
        "__________________________________________________________________________________________________\n",
        "dropout_4 (Dropout)             (None, 32, 32, 64)   0           conv2d_7[0][0]                   \n",
        "__________________________________________________________________________________________________\n",
        "conv2d_8 (Conv2D)               (None, 32, 32, 64)   36928       dropout_4[0][0]                  \n",
        "__________________________________________________________________________________________________\n",
        "max_pooling2d_4 (MaxPooling2D)  (None, 16, 16, 64)   0           conv2d_8[0][0]                   \n",
        "__________________________________________________________________________________________________\n",
        "conv2d_9 (Conv2D)               (None, 16, 16, 128)  73856       max_pooling2d_4[0][0]            \n",
        "__________________________________________________________________________________________________\n",
        "dropout_5 (Dropout)             (None, 16, 16, 128)  0           conv2d_9[0][0]                   \n",
        "__________________________________________________________________________________________________\n",
        "conv2d_10 (Conv2D)              (None, 16, 16, 128)  147584      dropout_5[0][0]                  \n",
        "__________________________________________________________________________________________________\n",
        "max_pooling2d_5 (MaxPooling2D)  (None, 8, 8, 128)    0           conv2d_10[0][0]                  \n",
        "__________________________________________________________________________________________________\n",
        "conv2d_11 (Conv2D)              (None, 8, 8, 256)    295168      max_pooling2d_5[0][0]            \n",
        "__________________________________________________________________________________________________\n",
        "dropout_6 (Dropout)             (None, 8, 8, 256)    0           conv2d_11[0][0]                  \n",
        "__________________________________________________________________________________________________\n",
        "conv2d_12 (Conv2D)              (None, 8, 8, 256)    590080      dropout_6[0][0]                  \n",
        "__________________________________________________________________________________________________\n",
        "conv2d_transpose_1 (Conv2DTrans (None, 16, 16, 128)  131200      conv2d_12[0][0]                  \n",
        "__________________________________________________________________________________________________\n",
        "concatenate_1 (Concatenate)     (None, 16, 16, 256)  0           conv2d_transpose_1[0][0]         \n",
        "                                                                 conv2d_10[0][0]                  \n",
        "__________________________________________________________________________________________________\n",
        "conv2d_13 (Conv2D)              (None, 16, 16, 128)  295040      concatenate_1[0][0]              \n",
        "__________________________________________________________________________________________________\n",
        "dropout_7 (Dropout)             (None, 16, 16, 128)  0           conv2d_13[0][0]                  \n",
        "__________________________________________________________________________________________________\n",
        "conv2d_14 (Conv2D)              (None, 16, 16, 128)  147584      dropout_7[0][0]                  \n",
        "__________________________________________________________________________________________________\n",
        "conv2d_transpose_2 (Conv2DTrans (None, 32, 32, 64)   32832       conv2d_14[0][0]                  \n",
        "__________________________________________________________________________________________________\n",
        "concatenate_2 (Concatenate)     (None, 32, 32, 128)  0           conv2d_transpose_2[0][0]         \n",
        "                                                                 conv2d_8[0][0]                   \n",
        "__________________________________________________________________________________________________\n",
        "conv2d_15 (Conv2D)              (None, 32, 32, 64)   73792       concatenate_2[0][0]              \n",
        "__________________________________________________________________________________________________\n",
        "dropout_8 (Dropout)             (None, 32, 32, 64)   0           conv2d_15[0][0]                  \n",
        "__________________________________________________________________________________________________\n",
        "conv2d_16 (Conv2D)              (None, 32, 32, 64)   36928       dropout_8[0][0]                  \n",
        "__________________________________________________________________________________________________\n",
        "conv2d_transpose_3 (Conv2DTrans (None, 64, 64, 32)   8224        conv2d_16[0][0]                  \n",
        "__________________________________________________________________________________________________\n",
        "concatenate_3 (Concatenate)     (None, 64, 64, 64)   0           conv2d_transpose_3[0][0]         \n",
        "                                                                 conv2d_6[0][0]                   \n",
        "__________________________________________________________________________________________________\n",
        "conv2d_17 (Conv2D)              (None, 64, 64, 32)   18464       concatenate_3[0][0]              \n",
        "__________________________________________________________________________________________________\n",
        "dropout_9 (Dropout)             (None, 64, 64, 32)   0           conv2d_17[0][0]                  \n",
        "__________________________________________________________________________________________________\n",
        "conv2d_18 (Conv2D)              (None, 64, 64, 32)   9248        dropout_9[0][0]                  \n",
        "__________________________________________________________________________________________________\n",
        "conv2d_19 (Conv2D)              (None, 64, 64, 64)   18496       conv2d_18[0][0]                  \n",
        "__________________________________________________________________________________________________\n",
        "dropout_10 (Dropout)            (None, 64, 64, 64)   0           conv2d_19[0][0]                  \n",
        "__________________________________________________________________________________________________\n",
        "conv2d_20 (Conv2D)              (None, 64, 64, 64)   36928       dropout_10[0][0]                 \n",
        "__________________________________________________________________________________________________\n",
        "max_pooling2d_6 (MaxPooling2D)  (None, 32, 32, 64)   0           conv2d_20[0][0]                  \n",
        "__________________________________________________________________________________________________\n",
        "conv2d_21 (Conv2D)              (None, 32, 32, 128)  73856       max_pooling2d_6[0][0]            \n",
        "__________________________________________________________________________________________________\n",
        "dropout_11 (Dropout)            (None, 32, 32, 128)  0           conv2d_21[0][0]                  \n",
        "__________________________________________________________________________________________________\n",
        "conv2d_22 (Conv2D)              (None, 32, 32, 128)  147584      dropout_11[0][0]                 \n",
        "__________________________________________________________________________________________________\n",
        "max_pooling2d_7 (MaxPooling2D)  (None, 16, 16, 128)  0           conv2d_22[0][0]                  \n",
        "__________________________________________________________________________________________________\n",
        "conv2d_23 (Conv2D)              (None, 16, 16, 256)  295168      max_pooling2d_7[0][0]            \n",
        "__________________________________________________________________________________________________\n",
        "dropout_12 (Dropout)            (None, 16, 16, 256)  0           conv2d_23[0][0]                  \n",
        "__________________________________________________________________________________________________\n",
        "conv2d_24 (Conv2D)              (None, 16, 16, 256)  590080      dropout_12[0][0]                 \n",
        "__________________________________________________________________________________________________\n",
        "conv2d_transpose_4 (Conv2DTrans (None, 32, 32, 128)  131200      conv2d_24[0][0]                  \n",
        "__________________________________________________________________________________________________\n",
        "concatenate_4 (Concatenate)     (None, 32, 32, 256)  0           conv2d_transpose_4[0][0]         \n",
        "                                                                 conv2d_22[0][0]                  \n",
        "__________________________________________________________________________________________________\n",
        "conv2d_25 (Conv2D)              (None, 32, 32, 128)  295040      concatenate_4[0][0]              \n",
        "__________________________________________________________________________________________________\n",
        "dropout_13 (Dropout)            (None, 32, 32, 128)  0           conv2d_25[0][0]                  \n",
        "__________________________________________________________________________________________________\n",
        "conv2d_26 (Conv2D)              (None, 32, 32, 128)  147584      dropout_13[0][0]                 \n",
        "__________________________________________________________________________________________________\n",
        "conv2d_transpose_5 (Conv2DTrans (None, 64, 64, 64)   32832       conv2d_26[0][0]                  \n",
        "__________________________________________________________________________________________________\n",
        "concatenate_5 (Concatenate)     (None, 64, 64, 128)  0           conv2d_transpose_5[0][0]         \n",
        "                                                                 conv2d_20[0][0]                  \n",
        "__________________________________________________________________________________________________\n",
        "conv2d_27 (Conv2D)              (None, 64, 64, 64)   73792       concatenate_5[0][0]              \n",
        "__________________________________________________________________________________________________\n",
        "dropout_14 (Dropout)            (None, 64, 64, 64)   0           conv2d_27[0][0]                  \n",
        "__________________________________________________________________________________________________\n",
        "conv2d_28 (Conv2D)              (None, 64, 64, 64)   36928       dropout_14[0][0]                 \n",
        "__________________________________________________________________________________________________\n",
        "conv2d_transpose_6 (Conv2DTrans (None, 128, 128, 32) 8224        conv2d_28[0][0]                  \n",
        "__________________________________________________________________________________________________\n",
        "concatenate_6 (Concatenate)     (None, 128, 128, 48) 0           conv2d_transpose_6[0][0]         \n",
        "                                                                 conv2d_4[0][0]                   \n",
        "__________________________________________________________________________________________________\n",
        "conv2d_29 (Conv2D)              (None, 128, 128, 32) 13856       concatenate_6[0][0]              \n",
        "__________________________________________________________________________________________________\n",
        "dropout_15 (Dropout)            (None, 128, 128, 32) 0           conv2d_29[0][0]                  \n",
        "__________________________________________________________________________________________________\n",
        "conv2d_30 (Conv2D)              (None, 128, 128, 32) 9248        dropout_15[0][0]                 \n",
        "__________________________________________________________________________________________________\n",
        "conv2d_transpose_7 (Conv2DTrans (None, 256, 256, 16) 2064        conv2d_30[0][0]                  \n",
        "__________________________________________________________________________________________________\n",
        "concatenate_7 (Concatenate)     (None, 256, 256, 24) 0           conv2d_transpose_7[0][0]         \n",
        "                                                                 conv2d_2[0][0]                   \n",
        "__________________________________________________________________________________________________\n",
        "conv2d_31 (Conv2D)              (None, 256, 256, 16) 3472        concatenate_7[0][0]              \n",
        "__________________________________________________________________________________________________\n",
        "dropout_16 (Dropout)            (None, 256, 256, 16) 0           conv2d_31[0][0]                  \n",
        "__________________________________________________________________________________________________\n",
        "conv2d_32 (Conv2D)              (None, 256, 256, 16) 2320        dropout_16[0][0]                 \n",
        "__________________________________________________________________________________________________\n",
        "conv2d_33 (Conv2D)              (None, 256, 256, 1)  17          conv2d_32[0][0]                  \n",
        "==================================================================================================\n",
        "Total params: 3,852,297\n",
        "Trainable params: 3,852,297\n",
        "Non-trainable params: 0\n",
        "__________________________________________________________________________________________________\n"
       ]
      }
     ],
     "prompt_number": 6
    },
    {
     "cell_type": "code",
     "collapsed": false,
     "input": [
      "# Fit model\n",
      "earlystopper = EarlyStopping(patience=5, verbose=1)\n",
      "print(np.shape(X_train))\n",
      "# X_train = X_train[:2,:,:,:]\n",
      "# Y_train = Y_train[:2,:,:,:]\n",
      "checkpointer = ModelCheckpoint('model-dsbowl2018-1.h5', verbose=1, save_best_only=True)\n",
      "results = model.fit(X_train, Y_train, validation_split=0.1, batch_size=16, epochs=20, \n",
      "                    callbacks=[earlystopper, checkpointer],\n",
      "                    shuffle=True)"
     ],
     "language": "python",
     "metadata": {},
     "outputs": [
      {
       "output_type": "stream",
       "stream": "stdout",
       "text": [
        "(670, 256, 256, 3)\n",
        "Train on 603 samples, validate on 67 samples"
       ]
      },
      {
       "output_type": "stream",
       "stream": "stdout",
       "text": [
        "\n",
        "Epoch 1/20\n",
        "\n"
       ]
      },
      {
       "output_type": "stream",
       "stream": "stdout",
       "text": [
        " 16/603 [..............................] - ETA: 42:04:25 - loss: 0.6919 - mean_iou: 0.0000e+00"
       ]
      },
      {
       "output_type": "stream",
       "stream": "stdout",
       "text": [
        "\n",
        " 32/603 [>.............................] - ETA: 20:33:16 - loss: 0.6074 - mean_iou: 0.2011    "
       ]
      },
      {
       "output_type": "stream",
       "stream": "stdout",
       "text": [
        "\n",
        " 48/603 [=>............................] - ETA: 13:22:51 - loss: 0.7887 - mean_iou: 0.2770"
       ]
      },
      {
       "output_type": "stream",
       "stream": "stdout",
       "text": [
        "\n",
        " 64/603 [==>...........................] - ETA: 9:47:18 - loss: 0.7155 - mean_iou: 0.3154 "
       ]
      },
      {
       "output_type": "stream",
       "stream": "stdout",
       "text": [
        "\n",
        " 80/603 [==>...........................] - ETA: 7:37:39 - loss: 0.6617 - mean_iou: 0.3383"
       ]
      },
      {
       "output_type": "stream",
       "stream": "stdout",
       "text": [
        "\n",
        " 96/603 [===>..........................] - ETA: 6:11:07 - loss: 0.6283 - mean_iou: 0.3541"
       ]
      },
      {
       "output_type": "stream",
       "stream": "stdout",
       "text": [
        "\n",
        "112/603 [====>.........................] - ETA: 5:09:11 - loss: 0.6081 - mean_iou: 0.3653"
       ]
      },
      {
       "output_type": "stream",
       "stream": "stdout",
       "text": [
        "\n",
        "128/603 [=====>........................] - ETA: 4:22:40 - loss: 0.5766 - mean_iou: 0.3735"
       ]
      },
      {
       "output_type": "stream",
       "stream": "stdout",
       "text": [
        "\n",
        "144/603 [======>.......................] - ETA: 3:46:24 - loss: 0.5575 - mean_iou: 0.3803"
       ]
      },
      {
       "output_type": "stream",
       "stream": "stdout",
       "text": [
        "\n",
        "160/603 [======>.......................] - ETA: 3:17:21 - loss: 0.5503 - mean_iou: 0.3857"
       ]
      },
      {
       "output_type": "stream",
       "stream": "stdout",
       "text": [
        "\n",
        "176/603 [=======>......................] - ETA: 2:53:34 - loss: 0.5417 - mean_iou: 0.3899"
       ]
      },
      {
       "output_type": "stream",
       "stream": "stdout",
       "text": [
        "\n",
        "192/603 [========>.....................] - ETA: 2:33:41 - loss: 0.5352 - mean_iou: 0.3933"
       ]
      },
      {
       "output_type": "stream",
       "stream": "stdout",
       "text": [
        "\n",
        "208/603 [=========>....................] - ETA: 2:16:50 - loss: 0.5577 - mean_iou: 0.3960"
       ]
      },
      {
       "output_type": "stream",
       "stream": "stdout",
       "text": [
        "\n",
        "224/603 [==========>...................] - ETA: 2:02:23 - loss: 0.5470 - mean_iou: 0.3984"
       ]
      },
      {
       "output_type": "stream",
       "stream": "stdout",
       "text": [
        "\n",
        "240/603 [==========>...................] - ETA: 1:49:47 - loss: 0.5341 - mean_iou: 0.4004"
       ]
      },
      {
       "output_type": "stream",
       "stream": "stdout",
       "text": [
        "\n",
        "256/603 [===========>..................] - ETA: 1:38:45 - loss: 0.5265 - mean_iou: 0.4023"
       ]
      },
      {
       "output_type": "stream",
       "stream": "stdout",
       "text": [
        "\n",
        "272/603 [============>.................] - ETA: 1:28:58 - loss: 0.5162 - mean_iou: 0.4040"
       ]
      },
      {
       "output_type": "stream",
       "stream": "stdout",
       "text": [
        "\n",
        "288/603 [=============>................] - ETA: 1:20:14 - loss: 0.5130 - mean_iou: 0.4055"
       ]
      },
      {
       "output_type": "stream",
       "stream": "stdout",
       "text": [
        "\n",
        "304/603 [==============>...............] - ETA: 1:12:24 - loss: 0.5069 - mean_iou: 0.4068"
       ]
      },
      {
       "output_type": "stream",
       "stream": "stdout",
       "text": [
        "\n",
        "320/603 [==============>...............] - ETA: 1:05:20 - loss: 0.5012 - mean_iou: 0.4079"
       ]
      },
      {
       "output_type": "stream",
       "stream": "stdout",
       "text": [
        "\n",
        "336/603 [===============>..............] - ETA: 58:54 - loss: 0.4975 - mean_iou: 0.4090  "
       ]
      },
      {
       "output_type": "stream",
       "stream": "stdout",
       "text": [
        "\n",
        "352/603 [================>.............] - ETA: 53:02 - loss: 0.4897 - mean_iou: 0.4100"
       ]
      },
      {
       "output_type": "stream",
       "stream": "stdout",
       "text": [
        "\n",
        "368/603 [=================>............] - ETA: 47:40 - loss: 0.4930 - mean_iou: 0.4109"
       ]
      },
      {
       "output_type": "stream",
       "stream": "stdout",
       "text": [
        "\n",
        "384/603 [==================>...........] - ETA: 42:42 - loss: 0.4909 - mean_iou: 0.4117"
       ]
      },
      {
       "output_type": "stream",
       "stream": "stdout",
       "text": [
        "\n",
        "400/603 [==================>...........] - ETA: 38:08 - loss: 0.4847 - mean_iou: 0.4124"
       ]
      },
      {
       "output_type": "stream",
       "stream": "stdout",
       "text": [
        "\n",
        "416/603 [===================>..........] - ETA: 33:53 - loss: 0.4817 - mean_iou: 0.4131"
       ]
      },
      {
       "output_type": "stream",
       "stream": "stdout",
       "text": [
        "\n",
        "432/603 [====================>.........] - ETA: 29:56 - loss: 0.4761 - mean_iou: 0.4137"
       ]
      },
      {
       "output_type": "stream",
       "stream": "stdout",
       "text": [
        "\n",
        "448/603 [=====================>........] - ETA: 26:15 - loss: 0.4742 - mean_iou: 0.4143"
       ]
      },
      {
       "output_type": "stream",
       "stream": "stdout",
       "text": [
        "\n",
        "464/603 [======================>.......] - ETA: 22:48 - loss: 0.4681 - mean_iou: 0.4148"
       ]
      },
      {
       "output_type": "stream",
       "stream": "stdout",
       "text": [
        "\n",
        "480/603 [======================>.......] - ETA: 19:35 - loss: 0.4650 - mean_iou: 0.4152"
       ]
      },
      {
       "output_type": "stream",
       "stream": "stdout",
       "text": [
        "\n",
        "496/603 [=======================>......] - ETA: 16:32 - loss: 0.4636 - mean_iou: 0.4157"
       ]
      },
      {
       "output_type": "stream",
       "stream": "stdout",
       "text": [
        "\n",
        "512/603 [========================>.....] - ETA: 13:40 - loss: 0.4585 - mean_iou: 0.4161"
       ]
      },
      {
       "output_type": "stream",
       "stream": "stdout",
       "text": [
        "\n",
        "528/603 [=========================>....] - ETA: 10:57 - loss: 0.4543 - mean_iou: 0.4165"
       ]
      },
      {
       "output_type": "stream",
       "stream": "stdout",
       "text": [
        "\n",
        "544/603 [==========================>...] - ETA: 8:23 - loss: 0.4579 - mean_iou: 0.4169 "
       ]
      },
      {
       "output_type": "stream",
       "stream": "stdout",
       "text": [
        "\n",
        "560/603 [==========================>...] - ETA: 5:57 - loss: 0.4554 - mean_iou: 0.4173"
       ]
      },
      {
       "output_type": "stream",
       "stream": "stdout",
       "text": [
        "\n",
        "576/603 [===========================>..] - ETA: 3:39 - loss: 0.4499 - mean_iou: 0.4176"
       ]
      },
      {
       "output_type": "stream",
       "stream": "stdout",
       "text": [
        "\n",
        "592/603 [============================>.] - ETA: 1:27 - loss: 0.4448 - mean_iou: 0.4180"
       ]
      },
      {
       "output_type": "stream",
       "stream": "stdout",
       "text": [
        "Epoch 00001: val_loss improved from inf to 0.24253, saving model to model-dsbowl2018-1.h5\n",
        "\n"
       ]
      },
      {
       "output_type": "stream",
       "stream": "stdout",
       "text": [
        "603/603 [==============================] - 4723s 8s/step - loss: 0.4417 - mean_iou: 0.4182 - val_loss: 0.2425 - val_mean_iou: 0.4334\n"
       ]
      },
      {
       "output_type": "stream",
       "stream": "stdout",
       "text": [
        "Epoch 2/20\n",
        "\n"
       ]
      },
      {
       "output_type": "stream",
       "stream": "stdout",
       "text": [
        " 16/603 [..............................] - ETA: 10:36 - loss: 0.2709 - mean_iou: 0.4401"
       ]
      },
      {
       "output_type": "stream",
       "stream": "stdout",
       "text": [
        "\n",
        " 32/603 [>.............................] - ETA: 9:39 - loss: 0.2957 - mean_iou: 0.4405 "
       ]
      },
      {
       "output_type": "stream",
       "stream": "stdout",
       "text": [
        "\n",
        " 48/603 [=>............................] - ETA: 9:10 - loss: 0.2938 - mean_iou: 0.4415"
       ]
      },
      {
       "output_type": "stream",
       "stream": "stdout",
       "text": [
        "\n",
        " 64/603 [==>...........................] - ETA: 8:48 - loss: 0.2745 - mean_iou: 0.4426"
       ]
      },
      {
       "output_type": "stream",
       "stream": "stdout",
       "text": [
        "\n",
        " 80/603 [==>...........................] - ETA: 8:36 - loss: 0.2609 - mean_iou: 0.4440"
       ]
      },
      {
       "output_type": "stream",
       "stream": "stdout",
       "text": [
        "\n",
        " 96/603 [===>..........................] - ETA: 8:20 - loss: 0.2631 - mean_iou: 0.4458"
       ]
      },
      {
       "output_type": "stream",
       "stream": "stdout",
       "text": [
        "\n",
        "112/603 [====>.........................] - ETA: 8:01 - loss: 0.2515 - mean_iou: 0.4477"
       ]
      },
      {
       "output_type": "stream",
       "stream": "stdout",
       "text": [
        "\n",
        "128/603 [=====>........................] - ETA: 7:43 - loss: 0.2439 - mean_iou: 0.4495"
       ]
      },
      {
       "output_type": "stream",
       "stream": "stdout",
       "text": [
        "\n",
        "144/603 [======>.......................] - ETA: 7:26 - loss: 0.2401 - mean_iou: 0.4513"
       ]
      },
      {
       "output_type": "stream",
       "stream": "stdout",
       "text": [
        "\n",
        "160/603 [======>.......................] - ETA: 7:11 - loss: 0.2466 - mean_iou: 0.4531"
       ]
      },
      {
       "output_type": "stream",
       "stream": "stdout",
       "text": [
        "\n",
        "176/603 [=======>......................] - ETA: 6:56 - loss: 0.2470 - mean_iou: 0.4549"
       ]
      },
      {
       "output_type": "stream",
       "stream": "stdout",
       "text": [
        "\n",
        "192/603 [========>.....................] - ETA: 6:40 - loss: 0.2528 - mean_iou: 0.4565"
       ]
      },
      {
       "output_type": "stream",
       "stream": "stdout",
       "text": [
        "\n",
        "208/603 [=========>....................] - ETA: 6:23 - loss: 0.2483 - mean_iou: 0.4578"
       ]
      },
      {
       "output_type": "stream",
       "stream": "stdout",
       "text": [
        "\n",
        "224/603 [==========>...................] - ETA: 6:07 - loss: 0.2454 - mean_iou: 0.4591"
       ]
      },
      {
       "output_type": "stream",
       "stream": "stdout",
       "text": [
        "\n",
        "240/603 [==========>...................] - ETA: 5:52 - loss: 0.2450 - mean_iou: 0.4605"
       ]
      },
      {
       "output_type": "stream",
       "stream": "stdout",
       "text": [
        "\n",
        "256/603 [===========>..................] - ETA: 5:36 - loss: 0.2424 - mean_iou: 0.4617"
       ]
      },
      {
       "output_type": "stream",
       "stream": "stdout",
       "text": [
        "\n",
        "272/603 [============>.................] - ETA: 5:20 - loss: 0.2418 - mean_iou: 0.4629"
       ]
      },
      {
       "output_type": "stream",
       "stream": "stdout",
       "text": [
        "\n",
        "288/603 [=============>................] - ETA: 5:04 - loss: 0.2407 - mean_iou: 0.4640"
       ]
      },
      {
       "output_type": "stream",
       "stream": "stdout",
       "text": [
        "\n",
        "304/603 [==============>...............] - ETA: 4:48 - loss: 0.2491 - mean_iou: 0.4652"
       ]
      },
      {
       "output_type": "stream",
       "stream": "stdout",
       "text": [
        "\n",
        "320/603 [==============>...............] - ETA: 4:33 - loss: 0.2441 - mean_iou: 0.4663"
       ]
      },
      {
       "output_type": "stream",
       "stream": "stdout",
       "text": [
        "\n",
        "336/603 [===============>..............] - ETA: 4:17 - loss: 0.2409 - mean_iou: 0.4674"
       ]
      },
      {
       "output_type": "stream",
       "stream": "stdout",
       "text": [
        "\n",
        "352/603 [================>.............] - ETA: 4:01 - loss: 0.2357 - mean_iou: 0.4685"
       ]
      },
      {
       "output_type": "stream",
       "stream": "stdout",
       "text": [
        "\n",
        "368/603 [=================>............] - ETA: 3:46 - loss: 0.2318 - mean_iou: 0.4697"
       ]
      },
      {
       "output_type": "stream",
       "stream": "stdout",
       "text": [
        "\n",
        "384/603 [==================>...........] - ETA: 3:30 - loss: 0.2320 - mean_iou: 0.4708"
       ]
      },
      {
       "output_type": "stream",
       "stream": "stdout",
       "text": [
        "\n",
        "400/603 [==================>...........] - ETA: 3:15 - loss: 0.2311 - mean_iou: 0.4720"
       ]
      },
      {
       "output_type": "stream",
       "stream": "stdout",
       "text": [
        "\n",
        "416/603 [===================>..........] - ETA: 2:59 - loss: 0.2286 - mean_iou: 0.4731"
       ]
      },
      {
       "output_type": "stream",
       "stream": "stdout",
       "text": [
        "\n",
        "432/603 [====================>.........] - ETA: 2:44 - loss: 0.2256 - mean_iou: 0.4742"
       ]
      },
      {
       "output_type": "stream",
       "stream": "stdout",
       "text": [
        "\n",
        "448/603 [=====================>........] - ETA: 2:28 - loss: 0.2239 - mean_iou: 0.4753"
       ]
      },
      {
       "output_type": "stream",
       "stream": "stdout",
       "text": [
        "\n",
        "464/603 [======================>.......] - ETA: 2:13 - loss: 0.2207 - mean_iou: 0.4765"
       ]
      },
      {
       "output_type": "stream",
       "stream": "stdout",
       "text": [
        "\n",
        "480/603 [======================>.......] - ETA: 1:57 - loss: 0.2187 - mean_iou: 0.4776"
       ]
      },
      {
       "output_type": "stream",
       "stream": "stdout",
       "text": [
        "\n",
        "496/603 [=======================>......] - ETA: 1:42 - loss: 0.2189 - mean_iou: 0.4787"
       ]
      },
      {
       "output_type": "stream",
       "stream": "stdout",
       "text": [
        "\n",
        "512/603 [========================>.....] - ETA: 1:27 - loss: 0.2172 - mean_iou: 0.4799"
       ]
      },
      {
       "output_type": "stream",
       "stream": "stdout",
       "text": [
        "\n",
        "528/603 [=========================>....] - ETA: 1:11 - loss: 0.2159 - mean_iou: 0.4810"
       ]
      },
      {
       "output_type": "stream",
       "stream": "stdout",
       "text": [
        "\n",
        "544/603 [==========================>...] - ETA: 56s - loss: 0.2136 - mean_iou: 0.4820 "
       ]
      },
      {
       "output_type": "stream",
       "stream": "stdout",
       "text": [
        "\n",
        "560/603 [==========================>...] - ETA: 41s - loss: 0.2120 - mean_iou: 0.4831"
       ]
      },
      {
       "output_type": "stream",
       "stream": "stdout",
       "text": [
        "\n",
        "576/603 [===========================>..] - ETA: 25s - loss: 0.2110 - mean_iou: 0.4842"
       ]
      },
      {
       "output_type": "stream",
       "stream": "stdout",
       "text": [
        "\n",
        "592/603 [============================>.] - ETA: 10s - loss: 0.2086 - mean_iou: 0.4853"
       ]
      },
      {
       "output_type": "stream",
       "stream": "stdout",
       "text": [
        "Epoch 00002: val_loss improved from 0.24253 to 0.16725, saving model to model-dsbowl2018-1.h5\n",
        "\n"
       ]
      },
      {
       "output_type": "stream",
       "stream": "stdout",
       "text": [
        "603/603 [==============================] - 595s 987ms/step - loss: 0.2078 - mean_iou: 0.4861 - val_loss: 0.1672 - val_mean_iou: 0.5340\n"
       ]
      },
      {
       "output_type": "stream",
       "stream": "stdout",
       "text": [
        "Epoch 3/20\n",
        "\n"
       ]
      },
      {
       "output_type": "stream",
       "stream": "stdout",
       "text": [
        " 16/603 [..............................] - ETA: 9:13 - loss: 0.1595 - mean_iou: 0.5419"
       ]
      },
      {
       "output_type": "stream",
       "stream": "stdout",
       "text": [
        "\n",
        " 32/603 [>.............................] - ETA: 9:01 - loss: 0.1630 - mean_iou: 0.5430"
       ]
      },
      {
       "output_type": "stream",
       "stream": "stdout",
       "text": [
        "\n",
        " 48/603 [=>............................] - ETA: 8:46 - loss: 0.1567 - mean_iou: 0.5440"
       ]
      },
      {
       "output_type": "stream",
       "stream": "stdout",
       "text": [
        "\n",
        " 64/603 [==>...........................] - ETA: 8:31 - loss: 0.1662 - mean_iou: 0.5449"
       ]
      },
      {
       "output_type": "stream",
       "stream": "stdout",
       "text": [
        "\n",
        " 80/603 [==>...........................] - ETA: 8:16 - loss: 0.1691 - mean_iou: 0.5456"
       ]
      },
      {
       "output_type": "stream",
       "stream": "stdout",
       "text": [
        "\n",
        " 96/603 [===>..........................] - ETA: 8:00 - loss: 0.1676 - mean_iou: 0.5461"
       ]
      },
      {
       "output_type": "stream",
       "stream": "stdout",
       "text": [
        "\n",
        "112/603 [====>.........................] - ETA: 7:46 - loss: 0.1689 - mean_iou: 0.5467"
       ]
      },
      {
       "output_type": "stream",
       "stream": "stdout",
       "text": [
        "\n",
        "128/603 [=====>........................] - ETA: 7:32 - loss: 0.1627 - mean_iou: 0.5472"
       ]
      },
      {
       "output_type": "stream",
       "stream": "stdout",
       "text": [
        "\n",
        "144/603 [======>.......................] - ETA: 7:16 - loss: 0.1622 - mean_iou: 0.5478"
       ]
      },
      {
       "output_type": "stream",
       "stream": "stdout",
       "text": [
        "\n",
        "160/603 [======>.......................] - ETA: 7:00 - loss: 0.1609 - mean_iou: 0.5485"
       ]
      },
      {
       "output_type": "stream",
       "stream": "stdout",
       "text": [
        "\n",
        "176/603 [=======>......................] - ETA: 6:45 - loss: 0.1594 - mean_iou: 0.5493"
       ]
      },
      {
       "output_type": "stream",
       "stream": "stdout",
       "text": [
        "\n",
        "192/603 [========>.....................] - ETA: 6:30 - loss: 0.1589 - mean_iou: 0.5500"
       ]
      },
      {
       "output_type": "stream",
       "stream": "stdout",
       "text": [
        "\n",
        "208/603 [=========>....................] - ETA: 6:15 - loss: 0.1565 - mean_iou: 0.5507"
       ]
      },
      {
       "output_type": "stream",
       "stream": "stdout",
       "text": [
        "\n",
        "224/603 [==========>...................] - ETA: 6:00 - loss: 0.1528 - mean_iou: 0.5515"
       ]
      },
      {
       "output_type": "stream",
       "stream": "stdout",
       "text": [
        "\n",
        "240/603 [==========>...................] - ETA: 5:44 - loss: 0.1531 - mean_iou: 0.5523"
       ]
      },
      {
       "output_type": "stream",
       "stream": "stdout",
       "text": [
        "\n",
        "256/603 [===========>..................] - ETA: 5:29 - loss: 0.1562 - mean_iou: 0.5530"
       ]
      },
      {
       "output_type": "stream",
       "stream": "stdout",
       "text": [
        "\n",
        "272/603 [============>.................] - ETA: 5:14 - loss: 0.1569 - mean_iou: 0.5537"
       ]
      },
      {
       "output_type": "stream",
       "stream": "stdout",
       "text": [
        "\n",
        "288/603 [=============>................] - ETA: 4:59 - loss: 0.1557 - mean_iou: 0.5544"
       ]
      },
      {
       "output_type": "stream",
       "stream": "stdout",
       "text": [
        "\n",
        "304/603 [==============>...............] - ETA: 4:43 - loss: 0.1520 - mean_iou: 0.5552"
       ]
      },
      {
       "output_type": "stream",
       "stream": "stdout",
       "text": [
        "\n",
        "320/603 [==============>...............] - ETA: 4:28 - loss: 0.1509 - mean_iou: 0.5560"
       ]
      },
      {
       "output_type": "stream",
       "stream": "stdout",
       "text": [
        "\n",
        "336/603 [===============>..............] - ETA: 4:13 - loss: 0.1508 - mean_iou: 0.5568"
       ]
      },
      {
       "output_type": "stream",
       "stream": "stdout",
       "text": [
        "\n",
        "352/603 [================>.............] - ETA: 3:57 - loss: 0.1512 - mean_iou: 0.5577"
       ]
      },
      {
       "output_type": "stream",
       "stream": "stdout",
       "text": [
        "\n",
        "368/603 [=================>............] - ETA: 3:42 - loss: 0.1508 - mean_iou: 0.5585"
       ]
      },
      {
       "output_type": "stream",
       "stream": "stdout",
       "text": [
        "\n",
        "384/603 [==================>...........] - ETA: 3:27 - loss: 0.1518 - mean_iou: 0.5593"
       ]
      },
      {
       "output_type": "stream",
       "stream": "stdout",
       "text": [
        "\n",
        "400/603 [==================>...........] - ETA: 3:12 - loss: 0.1511 - mean_iou: 0.5601"
       ]
      },
      {
       "output_type": "stream",
       "stream": "stdout",
       "text": [
        "\n",
        "416/603 [===================>..........] - ETA: 2:57 - loss: 0.1512 - mean_iou: 0.5609"
       ]
      },
      {
       "output_type": "stream",
       "stream": "stdout",
       "text": [
        "\n",
        "432/603 [====================>.........] - ETA: 2:42 - loss: 0.1528 - mean_iou: 0.5617"
       ]
      },
      {
       "output_type": "stream",
       "stream": "stdout",
       "text": [
        "\n",
        "448/603 [=====================>........] - ETA: 2:26 - loss: 0.1524 - mean_iou: 0.5625"
       ]
      },
      {
       "output_type": "stream",
       "stream": "stdout",
       "text": [
        "\n",
        "464/603 [======================>.......] - ETA: 2:11 - loss: 0.1519 - mean_iou: 0.5633"
       ]
      },
      {
       "output_type": "stream",
       "stream": "stdout",
       "text": [
        "\n",
        "480/603 [======================>.......] - ETA: 1:56 - loss: 0.1512 - mean_iou: 0.5640"
       ]
      },
      {
       "output_type": "stream",
       "stream": "stdout",
       "text": [
        "\n",
        "496/603 [=======================>......] - ETA: 1:41 - loss: 0.1512 - mean_iou: 0.5647"
       ]
      },
      {
       "output_type": "stream",
       "stream": "stdout",
       "text": [
        "\n",
        "512/603 [========================>.....] - ETA: 1:26 - loss: 0.1512 - mean_iou: 0.5653"
       ]
      },
      {
       "output_type": "stream",
       "stream": "stdout",
       "text": [
        "\n",
        "528/603 [=========================>....] - ETA: 1:11 - loss: 0.1516 - mean_iou: 0.5660"
       ]
      },
      {
       "output_type": "stream",
       "stream": "stdout",
       "text": [
        "\n",
        "544/603 [==========================>...] - ETA: 56s - loss: 0.1503 - mean_iou: 0.5667 "
       ]
      },
      {
       "output_type": "stream",
       "stream": "stdout",
       "text": [
        "\n",
        "560/603 [==========================>...] - ETA: 1:46 - loss: 0.1501 - mean_iou: 0.5673"
       ]
      },
      {
       "output_type": "stream",
       "stream": "stdout",
       "text": [
        "\n",
        "576/603 [===========================>..] - ETA: 1:05 - loss: 0.1494 - mean_iou: 0.5680"
       ]
      },
      {
       "output_type": "stream",
       "stream": "stdout",
       "text": [
        "\n",
        "592/603 [============================>.] - ETA: 26s - loss: 0.1485 - mean_iou: 0.5687 "
       ]
      },
      {
       "output_type": "stream",
       "stream": "stdout",
       "text": [
        "Epoch 00003: val_loss improved from 0.16725 to 0.13474, saving model to model-dsbowl2018-1.h5\n",
        "\n"
       ]
      },
      {
       "output_type": "stream",
       "stream": "stdout",
       "text": [
        "603/603 [==============================] - 1466s 2s/step - loss: 0.1489 - mean_iou: 0.5691 - val_loss: 0.1347 - val_mean_iou: 0.5962\n"
       ]
      },
      {
       "output_type": "stream",
       "stream": "stdout",
       "text": [
        "Epoch 4/20\n",
        "\n"
       ]
      },
      {
       "output_type": "stream",
       "stream": "stdout",
       "text": [
        " 16/603 [..............................] - ETA: 11:04 - loss: 0.1584 - mean_iou: 0.5996"
       ]
      },
      {
       "output_type": "stream",
       "stream": "stdout",
       "text": [
        "\n",
        " 32/603 [>.............................] - ETA: 10:34 - loss: 0.1553 - mean_iou: 0.6000"
       ]
      },
      {
       "output_type": "stream",
       "stream": "stdout",
       "text": [
        "\n",
        " 48/603 [=>............................] - ETA: 10:06 - loss: 0.1601 - mean_iou: 0.6004"
       ]
      },
      {
       "output_type": "stream",
       "stream": "stdout",
       "text": [
        "\n",
        " 64/603 [==>...........................] - ETA: 9:49 - loss: 0.1675 - mean_iou: 0.6008 "
       ]
      },
      {
       "output_type": "stream",
       "stream": "stdout",
       "text": [
        "\n",
        " 80/603 [==>...........................] - ETA: 9:21 - loss: 0.1594 - mean_iou: 0.6013"
       ]
      },
      {
       "output_type": "stream",
       "stream": "stdout",
       "text": [
        "\n",
        " 96/603 [===>..........................] - ETA: 8:56 - loss: 0.1637 - mean_iou: 0.6018"
       ]
      },
      {
       "output_type": "stream",
       "stream": "stdout",
       "text": [
        "\n",
        "112/603 [====>.........................] - ETA: 8:31 - loss: 0.1651 - mean_iou: 0.6024"
       ]
      },
      {
       "output_type": "stream",
       "stream": "stdout",
       "text": [
        "\n",
        "128/603 [=====>........................] - ETA: 8:08 - loss: 0.1612 - mean_iou: 0.6029"
       ]
      },
      {
       "output_type": "stream",
       "stream": "stdout",
       "text": [
        "\n",
        "144/603 [======>.......................] - ETA: 7:46 - loss: 0.1556 - mean_iou: 0.6034"
       ]
      },
      {
       "output_type": "stream",
       "stream": "stdout",
       "text": [
        "\n",
        "160/603 [======>.......................] - ETA: 7:30 - loss: 0.1512 - mean_iou: 0.6039"
       ]
      },
      {
       "output_type": "stream",
       "stream": "stdout",
       "text": [
        "\n",
        "176/603 [=======>......................] - ETA: 7:18 - loss: 0.1486 - mean_iou: 0.6045"
       ]
      },
      {
       "output_type": "stream",
       "stream": "stdout",
       "text": [
        "\n",
        "192/603 [========>.....................] - ETA: 7:00 - loss: 0.1458 - mean_iou: 0.6050"
       ]
      },
      {
       "output_type": "stream",
       "stream": "stdout",
       "text": [
        "\n",
        "208/603 [=========>....................] - ETA: 6:41 - loss: 0.1447 - mean_iou: 0.6055"
       ]
      },
      {
       "output_type": "stream",
       "stream": "stdout",
       "text": [
        "\n",
        "224/603 [==========>...................] - ETA: 6:24 - loss: 0.1416 - mean_iou: 0.6060"
       ]
      },
      {
       "output_type": "stream",
       "stream": "stdout",
       "text": [
        "\n",
        "240/603 [==========>...................] - ETA: 6:10 - loss: 0.1396 - mean_iou: 0.6065"
       ]
      },
      {
       "output_type": "stream",
       "stream": "stdout",
       "text": [
        "\n",
        "256/603 [===========>..................] - ETA: 5:56 - loss: 0.1399 - mean_iou: 0.6069"
       ]
      },
      {
       "output_type": "stream",
       "stream": "stdout",
       "text": [
        "\n",
        "272/603 [============>.................] - ETA: 5:43 - loss: 0.1374 - mean_iou: 0.6074"
       ]
      },
      {
       "output_type": "stream",
       "stream": "stdout",
       "text": [
        "\n",
        "288/603 [=============>................] - ETA: 5:27 - loss: 0.1366 - mean_iou: 0.6079"
       ]
      },
      {
       "output_type": "stream",
       "stream": "stdout",
       "text": [
        "\n",
        "304/603 [==============>...............] - ETA: 5:12 - loss: 0.1382 - mean_iou: 0.6084"
       ]
      },
      {
       "output_type": "stream",
       "stream": "stdout",
       "text": [
        "\n",
        "320/603 [==============>...............] - ETA: 4:55 - loss: 0.1378 - mean_iou: 0.6089"
       ]
      },
      {
       "output_type": "stream",
       "stream": "stdout",
       "text": [
        "\n",
        "336/603 [===============>..............] - ETA: 4:39 - loss: 0.1370 - mean_iou: 0.6094"
       ]
      },
      {
       "output_type": "stream",
       "stream": "stdout",
       "text": [
        "\n",
        "352/603 [================>.............] - ETA: 4:23 - loss: 0.1371 - mean_iou: 0.6099"
       ]
      },
      {
       "output_type": "stream",
       "stream": "stdout",
       "text": [
        "\n",
        "368/603 [=================>............] - ETA: 4:06 - loss: 0.1399 - mean_iou: 0.6104"
       ]
      },
      {
       "output_type": "stream",
       "stream": "stdout",
       "text": [
        "\n",
        "384/603 [==================>...........] - ETA: 3:49 - loss: 0.1414 - mean_iou: 0.6109"
       ]
      },
      {
       "output_type": "stream",
       "stream": "stdout",
       "text": [
        "\n",
        "400/603 [==================>...........] - ETA: 3:33 - loss: 0.1416 - mean_iou: 0.6114"
       ]
      },
      {
       "output_type": "stream",
       "stream": "stdout",
       "text": [
        "\n",
        "416/603 [===================>..........] - ETA: 3:16 - loss: 0.1391 - mean_iou: 0.6118"
       ]
      },
      {
       "output_type": "stream",
       "stream": "stdout",
       "text": [
        "\n",
        "432/603 [====================>.........] - ETA: 2:59 - loss: 0.1395 - mean_iou: 0.6123"
       ]
      },
      {
       "output_type": "stream",
       "stream": "stdout",
       "text": [
        "\n",
        "448/603 [=====================>........] - ETA: 2:42 - loss: 0.1396 - mean_iou: 0.6128"
       ]
      },
      {
       "output_type": "stream",
       "stream": "stdout",
       "text": [
        "\n",
        "464/603 [======================>.......] - ETA: 2:25 - loss: 0.1391 - mean_iou: 0.6133"
       ]
      },
      {
       "output_type": "stream",
       "stream": "stdout",
       "text": [
        "\n",
        "480/603 [======================>.......] - ETA: 2:08 - loss: 0.1381 - mean_iou: 0.6138"
       ]
      },
      {
       "output_type": "stream",
       "stream": "stdout",
       "text": [
        "\n",
        "496/603 [=======================>......] - ETA: 1:52 - loss: 0.1368 - mean_iou: 0.6143"
       ]
      },
      {
       "output_type": "stream",
       "stream": "stdout",
       "text": [
        "\n",
        "512/603 [========================>.....] - ETA: 1:35 - loss: 0.1362 - mean_iou: 0.6148"
       ]
      },
      {
       "output_type": "stream",
       "stream": "stdout",
       "text": [
        "\n",
        "528/603 [=========================>....] - ETA: 1:19 - loss: 0.1362 - mean_iou: 0.6152"
       ]
      },
      {
       "output_type": "stream",
       "stream": "stdout",
       "text": [
        "\n",
        "544/603 [==========================>...] - ETA: 1:02 - loss: 0.1347 - mean_iou: 0.6157"
       ]
      },
      {
       "output_type": "stream",
       "stream": "stdout",
       "text": [
        "\n",
        "560/603 [==========================>...] - ETA: 45s - loss: 0.1350 - mean_iou: 0.6162 "
       ]
      },
      {
       "output_type": "stream",
       "stream": "stdout",
       "text": [
        "\n",
        "576/603 [===========================>..] - ETA: 28s - loss: 0.1345 - mean_iou: 0.6167"
       ]
      },
      {
       "output_type": "stream",
       "stream": "stdout",
       "text": [
        "\n",
        "592/603 [============================>.] - ETA: 11s - loss: 0.1343 - mean_iou: 0.6172"
       ]
      },
      {
       "output_type": "stream",
       "stream": "stdout",
       "text": [
        "Epoch 00004: val_loss improved from 0.13474 to 0.11793, saving model to model-dsbowl2018-1.h5\n",
        "\n"
       ]
      },
      {
       "output_type": "stream",
       "stream": "stdout",
       "text": [
        "603/603 [==============================] - 656s 1s/step - loss: 0.1341 - mean_iou: 0.6175 - val_loss: 0.1179 - val_mean_iou: 0.6363\n"
       ]
      },
      {
       "output_type": "stream",
       "stream": "stdout",
       "text": [
        "Epoch 5/20\n",
        "\n"
       ]
      },
      {
       "output_type": "stream",
       "stream": "stdout",
       "text": [
        " 16/603 [..............................] - ETA: 10:58 - loss: 0.1430 - mean_iou: 0.6391"
       ]
      },
      {
       "output_type": "stream",
       "stream": "stdout",
       "text": [
        "\n",
        " 32/603 [>.............................] - ETA: 9:55 - loss: 0.1541 - mean_iou: 0.6395 "
       ]
      },
      {
       "output_type": "stream",
       "stream": "stdout",
       "text": [
        "\n",
        " 48/603 [=>............................] - ETA: 9:19 - loss: 0.1507 - mean_iou: 0.6400"
       ]
      },
      {
       "output_type": "stream",
       "stream": "stdout",
       "text": [
        "\n",
        " 64/603 [==>...........................] - ETA: 8:49 - loss: 0.1438 - mean_iou: 0.6405"
       ]
      },
      {
       "output_type": "stream",
       "stream": "stdout",
       "text": [
        "\n",
        " 80/603 [==>...........................] - ETA: 8:31 - loss: 0.1442 - mean_iou: 0.6411"
       ]
      },
      {
       "output_type": "stream",
       "stream": "stdout",
       "text": [
        "\n",
        " 96/603 [===>..........................] - ETA: 8:21 - loss: 0.1319 - mean_iou: 0.6416"
       ]
      },
      {
       "output_type": "stream",
       "stream": "stdout",
       "text": [
        "\n",
        "112/603 [====>.........................] - ETA: 8:14 - loss: 0.1316 - mean_iou: 0.6421"
       ]
      },
      {
       "output_type": "stream",
       "stream": "stdout",
       "text": [
        "\n",
        "128/603 [=====>........................] - ETA: 8:05 - loss: 0.1244 - mean_iou: 0.6426"
       ]
      },
      {
       "output_type": "stream",
       "stream": "stdout",
       "text": [
        "\n",
        "144/603 [======>.......................] - ETA: 7:50 - loss: 0.1273 - mean_iou: 0.6430"
       ]
      },
      {
       "output_type": "stream",
       "stream": "stdout",
       "text": [
        "\n",
        "160/603 [======>.......................] - ETA: 7:30 - loss: 0.1214 - mean_iou: 0.6435"
       ]
      },
      {
       "output_type": "stream",
       "stream": "stdout",
       "text": [
        "\n",
        "176/603 [=======>......................] - ETA: 7:10 - loss: 0.1232 - mean_iou: 0.6439"
       ]
      },
      {
       "output_type": "stream",
       "stream": "stdout",
       "text": [
        "\n",
        "192/603 [========>.....................] - ETA: 6:52 - loss: 0.1266 - mean_iou: 0.6442"
       ]
      },
      {
       "output_type": "stream",
       "stream": "stdout",
       "text": [
        "\n",
        "208/603 [=========>....................] - ETA: 6:35 - loss: 0.1239 - mean_iou: 0.6445"
       ]
      },
      {
       "output_type": "stream",
       "stream": "stdout",
       "text": [
        "\n",
        "224/603 [==========>...................] - ETA: 6:19 - loss: 0.1222 - mean_iou: 0.6448"
       ]
      },
      {
       "output_type": "stream",
       "stream": "stdout",
       "text": [
        "\n",
        "240/603 [==========>...................] - ETA: 6:04 - loss: 0.1260 - mean_iou: 0.6452"
       ]
      },
      {
       "output_type": "stream",
       "stream": "stdout",
       "text": [
        "\n",
        "256/603 [===========>..................] - ETA: 5:47 - loss: 0.1256 - mean_iou: 0.6455"
       ]
      },
      {
       "output_type": "stream",
       "stream": "stdout",
       "text": [
        "\n",
        "272/603 [============>.................] - ETA: 5:29 - loss: 0.1271 - mean_iou: 0.6458"
       ]
      },
      {
       "output_type": "stream",
       "stream": "stdout",
       "text": [
        "\n",
        "288/603 [=============>................] - ETA: 5:13 - loss: 0.1258 - mean_iou: 0.6461"
       ]
      },
      {
       "output_type": "stream",
       "stream": "stdout",
       "text": [
        "\n",
        "304/603 [==============>...............] - ETA: 4:57 - loss: 0.1258 - mean_iou: 0.6465"
       ]
      },
      {
       "output_type": "stream",
       "stream": "stdout",
       "text": [
        "\n",
        "320/603 [==============>...............] - ETA: 4:41 - loss: 0.1257 - mean_iou: 0.6468"
       ]
      },
      {
       "output_type": "stream",
       "stream": "stdout",
       "text": [
        "\n",
        "336/603 [===============>..............] - ETA: 4:25 - loss: 0.1238 - mean_iou: 0.6471"
       ]
      },
      {
       "output_type": "stream",
       "stream": "stdout",
       "text": [
        "\n",
        "352/603 [================>.............] - ETA: 4:09 - loss: 0.1226 - mean_iou: 0.6475"
       ]
      },
      {
       "output_type": "stream",
       "stream": "stdout",
       "text": [
        "\n",
        "368/603 [=================>............] - ETA: 3:52 - loss: 0.1205 - mean_iou: 0.6479"
       ]
      },
      {
       "output_type": "stream",
       "stream": "stdout",
       "text": [
        "\n",
        "384/603 [==================>...........] - ETA: 3:36 - loss: 0.1206 - mean_iou: 0.6482"
       ]
      },
      {
       "output_type": "stream",
       "stream": "stdout",
       "text": [
        "\n",
        "400/603 [==================>...........] - ETA: 3:20 - loss: 0.1221 - mean_iou: 0.6486"
       ]
      },
      {
       "output_type": "stream",
       "stream": "stdout",
       "text": [
        "\n",
        "416/603 [===================>..........] - ETA: 3:04 - loss: 0.1216 - mean_iou: 0.6489"
       ]
      },
      {
       "output_type": "stream",
       "stream": "stdout",
       "text": [
        "\n",
        "432/603 [====================>.........] - ETA: 2:49 - loss: 0.1204 - mean_iou: 0.6492"
       ]
      },
      {
       "output_type": "stream",
       "stream": "stdout",
       "text": [
        "\n",
        "448/603 [=====================>........] - ETA: 2:33 - loss: 0.1207 - mean_iou: 0.6496"
       ]
      },
      {
       "output_type": "stream",
       "stream": "stdout",
       "text": [
        "\n",
        "464/603 [======================>.......] - ETA: 2:17 - loss: 0.1197 - mean_iou: 0.6499"
       ]
      },
      {
       "output_type": "stream",
       "stream": "stdout",
       "text": [
        "\n",
        "480/603 [======================>.......] - ETA: 2:01 - loss: 0.1208 - mean_iou: 0.6502"
       ]
      },
      {
       "output_type": "stream",
       "stream": "stdout",
       "text": [
        "\n",
        "496/603 [=======================>......] - ETA: 1:45 - loss: 0.1210 - mean_iou: 0.6506"
       ]
      },
      {
       "output_type": "stream",
       "stream": "stdout",
       "text": [
        "\n",
        "512/603 [========================>.....] - ETA: 1:30 - loss: 0.1207 - mean_iou: 0.6509"
       ]
      },
      {
       "output_type": "stream",
       "stream": "stdout",
       "text": [
        "\n",
        "528/603 [=========================>....] - ETA: 1:14 - loss: 0.1204 - mean_iou: 0.6512"
       ]
      },
      {
       "output_type": "stream",
       "stream": "stdout",
       "text": [
        "\n",
        "544/603 [==========================>...] - ETA: 58s - loss: 0.1208 - mean_iou: 0.6515 "
       ]
      },
      {
       "output_type": "stream",
       "stream": "stdout",
       "text": [
        "\n",
        "560/603 [==========================>...] - ETA: 42s - loss: 0.1204 - mean_iou: 0.6518"
       ]
      },
      {
       "output_type": "stream",
       "stream": "stdout",
       "text": [
        "\n",
        "576/603 [===========================>..] - ETA: 26s - loss: 0.1190 - mean_iou: 0.6521"
       ]
      },
      {
       "output_type": "stream",
       "stream": "stdout",
       "text": [
        "\n",
        "592/603 [============================>.] - ETA: 10s - loss: 0.1188 - mean_iou: 0.6525"
       ]
      },
      {
       "output_type": "stream",
       "stream": "stdout",
       "text": [
        "Epoch 00005: val_loss improved from 0.11793 to 0.11009, saving model to model-dsbowl2018-1.h5\n",
        "\n"
       ]
      },
      {
       "output_type": "stream",
       "stream": "stdout",
       "text": [
        "603/603 [==============================] - 617s 1s/step - loss: 0.1183 - mean_iou: 0.6527 - val_loss: 0.1101 - val_mean_iou: 0.6662\n"
       ]
      },
      {
       "output_type": "stream",
       "stream": "stdout",
       "text": [
        "Epoch 6/20\n",
        "\n"
       ]
      },
      {
       "output_type": "stream",
       "stream": "stdout",
       "text": [
        " 16/603 [..............................] - ETA: 9:39 - loss: 0.1061 - mean_iou: 0.6682"
       ]
      },
      {
       "output_type": "stream",
       "stream": "stdout",
       "text": [
        "\n",
        " 32/603 [>.............................] - ETA: 9:37 - loss: 0.1235 - mean_iou: 0.6685"
       ]
      },
      {
       "output_type": "stream",
       "stream": "stdout",
       "text": [
        "\n",
        " 48/603 [=>............................] - ETA: 9:20 - loss: 0.1234 - mean_iou: 0.6689"
       ]
      },
      {
       "output_type": "stream",
       "stream": "stdout",
       "text": [
        "\n",
        " 64/603 [==>...........................] - ETA: 9:01 - loss: 0.1334 - mean_iou: 0.6692"
       ]
      },
      {
       "output_type": "stream",
       "stream": "stdout",
       "text": [
        "\n",
        " 80/603 [==>...........................] - ETA: 8:44 - loss: 0.1256 - mean_iou: 0.6694"
       ]
      },
      {
       "output_type": "stream",
       "stream": "stdout",
       "text": [
        "\n",
        " 96/603 [===>..........................] - ETA: 8:27 - loss: 0.1276 - mean_iou: 0.6697"
       ]
      },
      {
       "output_type": "stream",
       "stream": "stdout",
       "text": [
        "\n",
        "112/603 [====>.........................] - ETA: 8:08 - loss: 0.1304 - mean_iou: 0.6699"
       ]
      },
      {
       "output_type": "stream",
       "stream": "stdout",
       "text": [
        "\n",
        "128/603 [=====>........................] - ETA: 7:52 - loss: 0.1293 - mean_iou: 0.6701"
       ]
      },
      {
       "output_type": "stream",
       "stream": "stdout",
       "text": [
        "\n",
        "144/603 [======>.......................] - ETA: 7:35 - loss: 0.1270 - mean_iou: 0.6703"
       ]
      },
      {
       "output_type": "stream",
       "stream": "stdout",
       "text": [
        "\n",
        "160/603 [======>.......................] - ETA: 7:18 - loss: 0.1221 - mean_iou: 0.6705"
       ]
      },
      {
       "output_type": "stream",
       "stream": "stdout",
       "text": [
        "\n",
        "176/603 [=======>......................] - ETA: 7:01 - loss: 0.1188 - mean_iou: 0.6708"
       ]
      },
      {
       "output_type": "stream",
       "stream": "stdout",
       "text": [
        "\n",
        "192/603 [========>.....................] - ETA: 6:43 - loss: 0.1146 - mean_iou: 0.6710"
       ]
      },
      {
       "output_type": "stream",
       "stream": "stdout",
       "text": [
        "\n",
        "208/603 [=========>....................] - ETA: 6:27 - loss: 0.1124 - mean_iou: 0.6713"
       ]
      },
      {
       "output_type": "stream",
       "stream": "stdout",
       "text": [
        "\n",
        "224/603 [==========>...................] - ETA: 6:10 - loss: 0.1096 - mean_iou: 0.6716"
       ]
      },
      {
       "output_type": "stream",
       "stream": "stdout",
       "text": [
        "\n",
        "240/603 [==========>...................] - ETA: 5:56 - loss: 0.1097 - mean_iou: 0.6719"
       ]
      },
      {
       "output_type": "stream",
       "stream": "stdout",
       "text": [
        "\n",
        "256/603 [===========>..................] - ETA: 5:40 - loss: 0.1116 - mean_iou: 0.6722"
       ]
      },
      {
       "output_type": "stream",
       "stream": "stdout",
       "text": [
        "\n",
        "272/603 [============>.................] - ETA: 5:25 - loss: 0.1110 - mean_iou: 0.6725"
       ]
      },
      {
       "output_type": "stream",
       "stream": "stdout",
       "text": [
        "\n",
        "288/603 [=============>................] - ETA: 5:09 - loss: 0.1087 - mean_iou: 0.6728"
       ]
      },
      {
       "output_type": "stream",
       "stream": "stdout",
       "text": [
        "\n",
        "304/603 [==============>...............] - ETA: 4:53 - loss: 0.1085 - mean_iou: 0.6731"
       ]
      },
      {
       "output_type": "stream",
       "stream": "stdout",
       "text": [
        "\n",
        "320/603 [==============>...............] - ETA: 4:37 - loss: 0.1084 - mean_iou: 0.6734"
       ]
      },
      {
       "output_type": "stream",
       "stream": "stdout",
       "text": [
        "\n",
        "336/603 [===============>..............] - ETA: 4:21 - loss: 0.1089 - mean_iou: 0.6737"
       ]
      },
      {
       "output_type": "stream",
       "stream": "stdout",
       "text": [
        "\n",
        "352/603 [================>.............] - ETA: 4:06 - loss: 0.1091 - mean_iou: 0.6740"
       ]
      },
      {
       "output_type": "stream",
       "stream": "stdout",
       "text": [
        "\n",
        "368/603 [=================>............] - ETA: 3:51 - loss: 0.1100 - mean_iou: 0.6742"
       ]
      },
      {
       "output_type": "stream",
       "stream": "stdout",
       "text": [
        "\n",
        "384/603 [==================>...........] - ETA: 3:35 - loss: 0.1092 - mean_iou: 0.6745"
       ]
      },
      {
       "output_type": "stream",
       "stream": "stdout",
       "text": [
        "\n",
        "400/603 [==================>...........] - ETA: 3:19 - loss: 0.1082 - mean_iou: 0.6748"
       ]
      },
      {
       "output_type": "stream",
       "stream": "stdout",
       "text": [
        "\n",
        "416/603 [===================>..........] - ETA: 3:04 - loss: 0.1090 - mean_iou: 0.6751"
       ]
      },
      {
       "output_type": "stream",
       "stream": "stdout",
       "text": [
        "\n",
        "432/603 [====================>.........] - ETA: 2:48 - loss: 0.1100 - mean_iou: 0.6754"
       ]
      },
      {
       "output_type": "stream",
       "stream": "stdout",
       "text": [
        "\n",
        "448/603 [=====================>........] - ETA: 2:33 - loss: 0.1121 - mean_iou: 0.6756"
       ]
      },
      {
       "output_type": "stream",
       "stream": "stdout",
       "text": [
        "\n",
        "464/603 [======================>.......] - ETA: 2:17 - loss: 0.1133 - mean_iou: 0.6759"
       ]
      },
      {
       "output_type": "stream",
       "stream": "stdout",
       "text": [
        "\n",
        "480/603 [======================>.......] - ETA: 2:02 - loss: 0.1131 - mean_iou: 0.6762"
       ]
      },
      {
       "output_type": "stream",
       "stream": "stdout",
       "text": [
        "\n",
        "496/603 [=======================>......] - ETA: 1:46 - loss: 0.1126 - mean_iou: 0.6765"
       ]
      },
      {
       "output_type": "stream",
       "stream": "stdout",
       "text": [
        "\n",
        "512/603 [========================>.....] - ETA: 1:30 - loss: 0.1112 - mean_iou: 0.6768"
       ]
      },
      {
       "output_type": "stream",
       "stream": "stdout",
       "text": [
        "\n",
        "528/603 [=========================>....] - ETA: 1:14 - loss: 0.1114 - mean_iou: 0.6770"
       ]
      },
      {
       "output_type": "stream",
       "stream": "stdout",
       "text": [
        "\n",
        "544/603 [==========================>...] - ETA: 58s - loss: 0.1109 - mean_iou: 0.6773 "
       ]
      },
      {
       "output_type": "stream",
       "stream": "stdout",
       "text": [
        "\n",
        "560/603 [==========================>...] - ETA: 42s - loss: 0.1115 - mean_iou: 0.6775"
       ]
      },
      {
       "output_type": "stream",
       "stream": "stdout",
       "text": [
        "\n",
        "576/603 [===========================>..] - ETA: 26s - loss: 0.1111 - mean_iou: 0.6778"
       ]
      },
      {
       "output_type": "stream",
       "stream": "stdout",
       "text": [
        "\n",
        "592/603 [============================>.] - ETA: 10s - loss: 0.1109 - mean_iou: 0.6780"
       ]
      },
      {
       "output_type": "stream",
       "stream": "stdout",
       "text": [
        "Epoch 00006: val_loss improved from 0.11009 to 0.10437, saving model to model-dsbowl2018-1.h5\n",
        "\n"
       ]
      },
      {
       "output_type": "stream",
       "stream": "stdout",
       "text": [
        "603/603 [==============================] - 624s 1s/step - loss: 0.1102 - mean_iou: 0.6782 - val_loss: 0.1044 - val_mean_iou: 0.6884\n"
       ]
      },
      {
       "output_type": "stream",
       "stream": "stdout",
       "text": [
        "Epoch 7/20\n",
        "\n"
       ]
      },
      {
       "output_type": "stream",
       "stream": "stdout",
       "text": [
        " 16/603 [..............................] - ETA: 10:52 - loss: 0.0733 - mean_iou: 0.6900"
       ]
      },
      {
       "output_type": "stream",
       "stream": "stdout",
       "text": [
        "\n",
        " 32/603 [>.............................] - ETA: 10:07 - loss: 0.0883 - mean_iou: 0.6903"
       ]
      },
      {
       "output_type": "stream",
       "stream": "stdout",
       "text": [
        "\n",
        " 48/603 [=>............................] - ETA: 9:55 - loss: 0.0970 - mean_iou: 0.6906 "
       ]
      },
      {
       "output_type": "stream",
       "stream": "stdout",
       "text": [
        "\n",
        " 64/603 [==>...........................] - ETA: 9:45 - loss: 0.1080 - mean_iou: 0.6909"
       ]
      },
      {
       "output_type": "stream",
       "stream": "stdout",
       "text": [
        "\n",
        " 80/603 [==>...........................] - ETA: 9:19 - loss: 0.1055 - mean_iou: 0.6911"
       ]
      },
      {
       "output_type": "stream",
       "stream": "stdout",
       "text": [
        "\n",
        " 96/603 [===>..........................] - ETA: 9:05 - loss: 0.1053 - mean_iou: 0.6913"
       ]
      },
      {
       "output_type": "stream",
       "stream": "stdout",
       "text": [
        "\n",
        "112/603 [====>.........................] - ETA: 8:51 - loss: 0.1036 - mean_iou: 0.6915"
       ]
      },
      {
       "output_type": "stream",
       "stream": "stdout",
       "text": [
        "\n",
        "128/603 [=====>........................] - ETA: 8:34 - loss: 0.1166 - mean_iou: 0.6917"
       ]
      },
      {
       "output_type": "stream",
       "stream": "stdout",
       "text": [
        "\n",
        "144/603 [======>.......................] - ETA: 8:17 - loss: 0.1125 - mean_iou: 0.6919"
       ]
      },
      {
       "output_type": "stream",
       "stream": "stdout",
       "text": [
        "\n",
        "160/603 [======>.......................] - ETA: 7:59 - loss: 0.1108 - mean_iou: 0.6921"
       ]
      },
      {
       "output_type": "stream",
       "stream": "stdout",
       "text": [
        "\n",
        "176/603 [=======>......................] - ETA: 7:43 - loss: 0.1108 - mean_iou: 0.6923"
       ]
      },
      {
       "output_type": "stream",
       "stream": "stdout",
       "text": [
        "\n",
        "192/603 [========>.....................] - ETA: 7:27 - loss: 0.1128 - mean_iou: 0.6925"
       ]
      },
      {
       "output_type": "stream",
       "stream": "stdout",
       "text": [
        "\n",
        "208/603 [=========>....................] - ETA: 7:10 - loss: 0.1118 - mean_iou: 0.6926"
       ]
      },
      {
       "output_type": "stream",
       "stream": "stdout",
       "text": [
        "\n",
        "224/603 [==========>...................] - ETA: 6:52 - loss: 0.1123 - mean_iou: 0.6928"
       ]
      },
      {
       "output_type": "stream",
       "stream": "stdout",
       "text": [
        "\n",
        "240/603 [==========>...................] - ETA: 6:32 - loss: 0.1133 - mean_iou: 0.6930"
       ]
      },
      {
       "output_type": "stream",
       "stream": "stdout",
       "text": [
        "\n",
        "256/603 [===========>..................] - ETA: 6:12 - loss: 0.1141 - mean_iou: 0.6932"
       ]
      },
      {
       "output_type": "stream",
       "stream": "stdout",
       "text": [
        "\n",
        "272/603 [============>.................] - ETA: 5:55 - loss: 0.1155 - mean_iou: 0.6934"
       ]
      },
      {
       "output_type": "stream",
       "stream": "stdout",
       "text": [
        "\n",
        "288/603 [=============>................] - ETA: 5:38 - loss: 0.1141 - mean_iou: 0.6935"
       ]
      },
      {
       "output_type": "stream",
       "stream": "stdout",
       "text": [
        "\n",
        "304/603 [==============>...............] - ETA: 5:21 - loss: 0.1151 - mean_iou: 0.6937"
       ]
      },
      {
       "output_type": "stream",
       "stream": "stdout",
       "text": [
        "\n",
        "320/603 [==============>...............] - ETA: 5:02 - loss: 0.1146 - mean_iou: 0.6939"
       ]
      },
      {
       "output_type": "stream",
       "stream": "stdout",
       "text": [
        "\n",
        "336/603 [===============>..............] - ETA: 4:43 - loss: 0.1133 - mean_iou: 0.6941"
       ]
      },
      {
       "output_type": "stream",
       "stream": "stdout",
       "text": [
        "\n",
        "352/603 [================>.............] - ETA: 4:25 - loss: 0.1123 - mean_iou: 0.6943"
       ]
      },
      {
       "output_type": "stream",
       "stream": "stdout",
       "text": [
        "\n",
        "368/603 [=================>............] - ETA: 4:07 - loss: 0.1113 - mean_iou: 0.6944"
       ]
      },
      {
       "output_type": "stream",
       "stream": "stdout",
       "text": [
        "\n",
        "384/603 [==================>...........] - ETA: 3:49 - loss: 0.1096 - mean_iou: 0.6946"
       ]
      },
      {
       "output_type": "stream",
       "stream": "stdout",
       "text": [
        "\n",
        "400/603 [==================>...........] - ETA: 3:31 - loss: 0.1094 - mean_iou: 0.6948"
       ]
      },
      {
       "output_type": "stream",
       "stream": "stdout",
       "text": [
        "\n",
        "416/603 [===================>..........] - ETA: 3:14 - loss: 0.1088 - mean_iou: 0.6950"
       ]
      },
      {
       "output_type": "stream",
       "stream": "stdout",
       "text": [
        "\n",
        "432/603 [====================>.........] - ETA: 2:57 - loss: 0.1090 - mean_iou: 0.6952"
       ]
      },
      {
       "output_type": "stream",
       "stream": "stdout",
       "text": [
        "\n",
        "448/603 [=====================>........] - ETA: 2:40 - loss: 0.1081 - mean_iou: 0.6954"
       ]
      },
      {
       "output_type": "stream",
       "stream": "stdout",
       "text": [
        "\n",
        "464/603 [======================>.......] - ETA: 2:23 - loss: 0.1070 - mean_iou: 0.6956"
       ]
      },
      {
       "output_type": "stream",
       "stream": "stdout",
       "text": [
        "\n",
        "480/603 [======================>.......] - ETA: 2:06 - loss: 0.1081 - mean_iou: 0.6958"
       ]
      },
      {
       "output_type": "stream",
       "stream": "stdout",
       "text": [
        "\n",
        "496/603 [=======================>......] - ETA: 1:49 - loss: 0.1072 - mean_iou: 0.6959"
       ]
      },
      {
       "output_type": "stream",
       "stream": "stdout",
       "text": [
        "\n",
        "512/603 [========================>.....] - ETA: 1:33 - loss: 0.1083 - mean_iou: 0.6961"
       ]
      },
      {
       "output_type": "stream",
       "stream": "stdout",
       "text": [
        "\n",
        "528/603 [=========================>....] - ETA: 1:17 - loss: 0.1072 - mean_iou: 0.6963"
       ]
      },
      {
       "output_type": "stream",
       "stream": "stdout",
       "text": [
        "\n",
        "544/603 [==========================>...] - ETA: 1:00 - loss: 0.1064 - mean_iou: 0.6965"
       ]
      },
      {
       "output_type": "stream",
       "stream": "stdout",
       "text": [
        "\n",
        "560/603 [==========================>...] - ETA: 44s - loss: 0.1061 - mean_iou: 0.6967 "
       ]
      },
      {
       "output_type": "stream",
       "stream": "stdout",
       "text": [
        "\n",
        "576/603 [===========================>..] - ETA: 27s - loss: 0.1062 - mean_iou: 0.6969"
       ]
      },
      {
       "output_type": "stream",
       "stream": "stdout",
       "text": [
        "\n",
        "592/603 [============================>.] - ETA: 11s - loss: 0.1061 - mean_iou: 0.6971"
       ]
      },
      {
       "output_type": "stream",
       "stream": "stdout",
       "text": [
        "Epoch 00007: val_loss improved from 0.10437 to 0.10280, saving model to model-dsbowl2018-1.h5\n",
        "\n"
       ]
      },
      {
       "output_type": "stream",
       "stream": "stdout",
       "text": [
        "603/603 [==============================] - 646s 1s/step - loss: 0.1051 - mean_iou: 0.6973 - val_loss: 0.1028 - val_mean_iou: 0.7052\n"
       ]
      },
      {
       "output_type": "stream",
       "stream": "stdout",
       "text": [
        "Epoch 8/20\n",
        "\n"
       ]
      },
      {
       "output_type": "stream",
       "stream": "stdout",
       "text": [
        " 16/603 [..............................] - ETA: 9:54 - loss: 0.1394 - mean_iou: 0.7062"
       ]
      },
      {
       "output_type": "stream",
       "stream": "stdout",
       "text": [
        "\n",
        " 32/603 [>.............................] - ETA: 9:43 - loss: 0.1135 - mean_iou: 0.7062"
       ]
      },
      {
       "output_type": "stream",
       "stream": "stdout",
       "text": [
        "\n",
        " 48/603 [=>............................] - ETA: 9:23 - loss: 0.0999 - mean_iou: 0.7064"
       ]
      },
      {
       "output_type": "stream",
       "stream": "stdout",
       "text": [
        "\n",
        " 64/603 [==>...........................] - ETA: 8:58 - loss: 0.0900 - mean_iou: 0.7065"
       ]
      },
      {
       "output_type": "stream",
       "stream": "stdout",
       "text": [
        "\n",
        " 80/603 [==>...........................] - ETA: 8:37 - loss: 0.0971 - mean_iou: 0.7067"
       ]
      },
      {
       "output_type": "stream",
       "stream": "stdout",
       "text": [
        "\n",
        " 96/603 [===>..........................] - ETA: 8:18 - loss: 0.0889 - mean_iou: 0.7068"
       ]
      },
      {
       "output_type": "stream",
       "stream": "stdout",
       "text": [
        "\n",
        "112/603 [====>.........................] - ETA: 7:58 - loss: 0.0928 - mean_iou: 0.7070"
       ]
      },
      {
       "output_type": "stream",
       "stream": "stdout",
       "text": [
        "\n",
        "128/603 [=====>........................] - ETA: 7:39 - loss: 0.0933 - mean_iou: 0.7072"
       ]
      },
      {
       "output_type": "stream",
       "stream": "stdout",
       "text": [
        "\n",
        "144/603 [======>.......................] - ETA: 7:21 - loss: 0.0951 - mean_iou: 0.7074"
       ]
      },
      {
       "output_type": "stream",
       "stream": "stdout",
       "text": [
        "\n",
        "160/603 [======>.......................] - ETA: 7:05 - loss: 0.0891 - mean_iou: 0.7076"
       ]
      },
      {
       "output_type": "stream",
       "stream": "stdout",
       "text": [
        "\n",
        "176/603 [=======>......................] - ETA: 6:50 - loss: 0.0853 - mean_iou: 0.7078"
       ]
      },
      {
       "output_type": "stream",
       "stream": "stdout",
       "text": [
        "\n",
        "192/603 [========>.....................] - ETA: 6:34 - loss: 0.0849 - mean_iou: 0.7080"
       ]
      },
      {
       "output_type": "stream",
       "stream": "stdout",
       "text": [
        "\n",
        "208/603 [=========>....................] - ETA: 6:18 - loss: 0.0850 - mean_iou: 0.7082"
       ]
      },
      {
       "output_type": "stream",
       "stream": "stdout",
       "text": [
        "\n",
        "224/603 [==========>...................] - ETA: 6:03 - loss: 0.0842 - mean_iou: 0.7084"
       ]
      },
      {
       "output_type": "stream",
       "stream": "stdout",
       "text": [
        "\n",
        "240/603 [==========>...................] - ETA: 5:52 - loss: 0.0854 - mean_iou: 0.7087"
       ]
      },
      {
       "output_type": "stream",
       "stream": "stdout",
       "text": [
        "\n",
        "256/603 [===========>..................] - ETA: 5:38 - loss: 0.0876 - mean_iou: 0.7089"
       ]
      },
      {
       "output_type": "stream",
       "stream": "stdout",
       "text": [
        "\n",
        "272/603 [============>.................] - ETA: 5:23 - loss: 0.0902 - mean_iou: 0.7091"
       ]
      },
      {
       "output_type": "stream",
       "stream": "stdout",
       "text": [
        "\n",
        "288/603 [=============>................] - ETA: 5:08 - loss: 0.0907 - mean_iou: 0.7093"
       ]
      },
      {
       "output_type": "stream",
       "stream": "stdout",
       "text": [
        "\n",
        "304/603 [==============>...............] - ETA: 4:53 - loss: 0.0902 - mean_iou: 0.7095"
       ]
      },
      {
       "output_type": "stream",
       "stream": "stdout",
       "text": [
        "\n",
        "320/603 [==============>...............] - ETA: 4:36 - loss: 0.0905 - mean_iou: 0.7098"
       ]
      },
      {
       "output_type": "stream",
       "stream": "stdout",
       "text": [
        "\n",
        "336/603 [===============>..............] - ETA: 4:20 - loss: 0.0929 - mean_iou: 0.7100"
       ]
      },
      {
       "output_type": "stream",
       "stream": "stdout",
       "text": [
        "\n",
        "352/603 [================>.............] - ETA: 4:04 - loss: 0.0973 - mean_iou: 0.7102"
       ]
      },
      {
       "output_type": "stream",
       "stream": "stdout",
       "text": [
        "\n",
        "368/603 [=================>............] - ETA: 3:49 - loss: 0.0973 - mean_iou: 0.7104"
       ]
      },
      {
       "output_type": "stream",
       "stream": "stdout",
       "text": [
        "\n",
        "384/603 [==================>...........] - ETA: 3:34 - loss: 0.0985 - mean_iou: 0.7106"
       ]
      },
      {
       "output_type": "stream",
       "stream": "stdout",
       "text": [
        "\n",
        "400/603 [==================>...........] - ETA: 3:20 - loss: 0.0997 - mean_iou: 0.7107"
       ]
      },
      {
       "output_type": "stream",
       "stream": "stdout",
       "text": [
        "\n",
        "416/603 [===================>..........] - ETA: 3:06 - loss: 0.1004 - mean_iou: 0.7109"
       ]
      },
      {
       "output_type": "stream",
       "stream": "stdout",
       "text": [
        "\n",
        "432/603 [====================>.........] - ETA: 2:51 - loss: 0.1021 - mean_iou: 0.7111"
       ]
      },
      {
       "output_type": "stream",
       "stream": "stdout",
       "text": [
        "\n",
        "448/603 [=====================>........] - ETA: 2:35 - loss: 0.1039 - mean_iou: 0.7113"
       ]
      },
      {
       "output_type": "stream",
       "stream": "stdout",
       "text": [
        "\n",
        "464/603 [======================>.......] - ETA: 2:19 - loss: 0.1045 - mean_iou: 0.7114"
       ]
      },
      {
       "output_type": "stream",
       "stream": "stdout",
       "text": [
        "\n",
        "480/603 [======================>.......] - ETA: 2:02 - loss: 0.1047 - mean_iou: 0.7116"
       ]
      },
      {
       "output_type": "stream",
       "stream": "stdout",
       "text": [
        "\n",
        "496/603 [=======================>......] - ETA: 1:46 - loss: 0.1048 - mean_iou: 0.7117"
       ]
      },
      {
       "output_type": "stream",
       "stream": "stdout",
       "text": [
        "\n",
        "512/603 [========================>.....] - ETA: 1:30 - loss: 0.1040 - mean_iou: 0.7119"
       ]
      },
      {
       "output_type": "stream",
       "stream": "stdout",
       "text": [
        "\n",
        "528/603 [=========================>....] - ETA: 1:14 - loss: 0.1038 - mean_iou: 0.7121"
       ]
      },
      {
       "output_type": "stream",
       "stream": "stdout",
       "text": [
        "\n",
        "544/603 [==========================>...] - ETA: 58s - loss: 0.1036 - mean_iou: 0.7122 "
       ]
      },
      {
       "output_type": "stream",
       "stream": "stdout",
       "text": [
        "\n",
        "560/603 [==========================>...] - ETA: 42s - loss: 0.1048 - mean_iou: 0.7124"
       ]
      },
      {
       "output_type": "stream",
       "stream": "stdout",
       "text": [
        "\n",
        "576/603 [===========================>..] - ETA: 26s - loss: 0.1049 - mean_iou: 0.7125"
       ]
      },
      {
       "output_type": "stream",
       "stream": "stdout",
       "text": [
        "\n",
        "592/603 [============================>.] - ETA: 10s - loss: 0.1041 - mean_iou: 0.7127"
       ]
      },
      {
       "output_type": "stream",
       "stream": "stdout",
       "text": [
        "Epoch 00008: val_loss improved from 0.10280 to 0.10274, saving model to model-dsbowl2018-1.h5\n",
        "\n"
       ]
      },
      {
       "output_type": "stream",
       "stream": "stdout",
       "text": [
        "603/603 [==============================] - 616s 1s/step - loss: 0.1036 - mean_iou: 0.7128 - val_loss: 0.1027 - val_mean_iou: 0.7189\n"
       ]
      },
      {
       "output_type": "stream",
       "stream": "stdout",
       "text": [
        "Epoch 9/20\n",
        "\n"
       ]
      },
      {
       "output_type": "stream",
       "stream": "stdout",
       "text": [
        " 16/603 [..............................] - ETA: 9:18 - loss: 0.0514 - mean_iou: 0.7199"
       ]
      },
      {
       "output_type": "stream",
       "stream": "stdout",
       "text": [
        "\n",
        " 32/603 [>.............................] - ETA: 9:00 - loss: 0.0680 - mean_iou: 0.7201"
       ]
      },
      {
       "output_type": "stream",
       "stream": "stdout",
       "text": [
        "\n",
        " 48/603 [=>............................] - ETA: 8:42 - loss: 0.0879 - mean_iou: 0.7203"
       ]
      },
      {
       "output_type": "stream",
       "stream": "stdout",
       "text": [
        "\n",
        " 64/603 [==>...........................] - ETA: 8:23 - loss: 0.0828 - mean_iou: 0.7205"
       ]
      },
      {
       "output_type": "stream",
       "stream": "stdout",
       "text": [
        "\n",
        " 80/603 [==>...........................] - ETA: 8:05 - loss: 0.0964 - mean_iou: 0.7207"
       ]
      },
      {
       "output_type": "stream",
       "stream": "stdout",
       "text": [
        "\n",
        " 96/603 [===>..........................] - ETA: 7:56 - loss: 0.1038 - mean_iou: 0.7208"
       ]
      },
      {
       "output_type": "stream",
       "stream": "stdout",
       "text": [
        "\n",
        "112/603 [====>.........................] - ETA: 7:44 - loss: 0.1000 - mean_iou: 0.7210"
       ]
      },
      {
       "output_type": "stream",
       "stream": "stdout",
       "text": [
        "\n",
        "128/603 [=====>........................] - ETA: 7:32 - loss: 0.0926 - mean_iou: 0.7212"
       ]
      },
      {
       "output_type": "stream",
       "stream": "stdout",
       "text": [
        "\n",
        "144/603 [======>.......................] - ETA: 7:16 - loss: 0.0941 - mean_iou: 0.7213"
       ]
      },
      {
       "output_type": "stream",
       "stream": "stdout",
       "text": [
        "\n",
        "160/603 [======>.......................] - ETA: 6:59 - loss: 0.0931 - mean_iou: 0.7215"
       ]
      },
      {
       "output_type": "stream",
       "stream": "stdout",
       "text": [
        "\n",
        "176/603 [=======>......................] - ETA: 6:43 - loss: 0.0923 - mean_iou: 0.7216"
       ]
      },
      {
       "output_type": "stream",
       "stream": "stdout",
       "text": [
        "\n",
        "192/603 [========>.....................] - ETA: 6:27 - loss: 0.0923 - mean_iou: 0.7218"
       ]
      },
      {
       "output_type": "stream",
       "stream": "stdout",
       "text": [
        "\n",
        "208/603 [=========>....................] - ETA: 6:15 - loss: 0.0933 - mean_iou: 0.7219"
       ]
      },
      {
       "output_type": "stream",
       "stream": "stdout",
       "text": [
        "\n",
        "224/603 [==========>...................] - ETA: 6:00 - loss: 0.0951 - mean_iou: 0.7221"
       ]
      },
      {
       "output_type": "stream",
       "stream": "stdout",
       "text": [
        "\n",
        "240/603 [==========>...................] - ETA: 5:45 - loss: 0.0948 - mean_iou: 0.7222"
       ]
      },
      {
       "output_type": "stream",
       "stream": "stdout",
       "text": [
        "\n",
        "256/603 [===========>..................] - ETA: 5:32 - loss: 0.0954 - mean_iou: 0.7223"
       ]
      },
      {
       "output_type": "stream",
       "stream": "stdout",
       "text": [
        "\n",
        "272/603 [============>.................] - ETA: 5:17 - loss: 0.0956 - mean_iou: 0.7224"
       ]
      },
      {
       "output_type": "stream",
       "stream": "stdout",
       "text": [
        "\n",
        "288/603 [=============>................] - ETA: 5:02 - loss: 0.0949 - mean_iou: 0.7226"
       ]
      },
      {
       "output_type": "stream",
       "stream": "stdout",
       "text": [
        "\n",
        "304/603 [==============>...............] - ETA: 4:46 - loss: 0.0948 - mean_iou: 0.7227"
       ]
      },
      {
       "output_type": "stream",
       "stream": "stdout",
       "text": [
        "\n",
        "320/603 [==============>...............] - ETA: 4:31 - loss: 0.0956 - mean_iou: 0.7228"
       ]
      },
      {
       "output_type": "stream",
       "stream": "stdout",
       "text": [
        "\n",
        "336/603 [===============>..............] - ETA: 4:16 - loss: 0.0964 - mean_iou: 0.7230"
       ]
      },
      {
       "output_type": "stream",
       "stream": "stdout",
       "text": [
        "\n",
        "352/603 [================>.............] - ETA: 4:01 - loss: 0.0946 - mean_iou: 0.7231"
       ]
      },
      {
       "output_type": "stream",
       "stream": "stdout",
       "text": [
        "\n",
        "368/603 [=================>............] - ETA: 3:46 - loss: 0.0957 - mean_iou: 0.7232"
       ]
      },
      {
       "output_type": "stream",
       "stream": "stdout",
       "text": [
        "\n",
        "384/603 [==================>...........] - ETA: 3:32 - loss: 0.0963 - mean_iou: 0.7233"
       ]
      },
      {
       "output_type": "stream",
       "stream": "stdout",
       "text": [
        "\n",
        "400/603 [==================>...........] - ETA: 3:17 - loss: 0.0968 - mean_iou: 0.7235"
       ]
      },
      {
       "output_type": "stream",
       "stream": "stdout",
       "text": [
        "\n",
        "416/603 [===================>..........] - ETA: 3:02 - loss: 0.0959 - mean_iou: 0.7236"
       ]
      },
      {
       "output_type": "stream",
       "stream": "stdout",
       "text": [
        "\n",
        "432/603 [====================>.........] - ETA: 2:47 - loss: 0.0952 - mean_iou: 0.7237"
       ]
      },
      {
       "output_type": "stream",
       "stream": "stdout",
       "text": [
        "\n",
        "448/603 [=====================>........] - ETA: 2:31 - loss: 0.0962 - mean_iou: 0.7239"
       ]
      },
      {
       "output_type": "stream",
       "stream": "stdout",
       "text": [
        "\n",
        "464/603 [======================>.......] - ETA: 2:15 - loss: 0.0958 - mean_iou: 0.7240"
       ]
      },
      {
       "output_type": "stream",
       "stream": "stdout",
       "text": [
        "\n",
        "480/603 [======================>.......] - ETA: 1:59 - loss: 0.0953 - mean_iou: 0.7241"
       ]
      },
      {
       "output_type": "stream",
       "stream": "stdout",
       "text": [
        "\n",
        "496/603 [=======================>......] - ETA: 1:44 - loss: 0.0963 - mean_iou: 0.7243"
       ]
      },
      {
       "output_type": "stream",
       "stream": "stdout",
       "text": [
        "\n",
        "512/603 [========================>.....] - ETA: 1:28 - loss: 0.0970 - mean_iou: 0.7244"
       ]
      },
      {
       "output_type": "stream",
       "stream": "stdout",
       "text": [
        "\n",
        "528/603 [=========================>....] - ETA: 1:12 - loss: 0.0967 - mean_iou: 0.7246"
       ]
      },
      {
       "output_type": "stream",
       "stream": "stdout",
       "text": [
        "\n",
        "544/603 [==========================>...] - ETA: 57s - loss: 0.0967 - mean_iou: 0.7247 "
       ]
      },
      {
       "output_type": "stream",
       "stream": "stdout",
       "text": [
        "\n",
        "560/603 [==========================>...] - ETA: 41s - loss: 0.0976 - mean_iou: 0.7248"
       ]
      },
      {
       "output_type": "stream",
       "stream": "stdout",
       "text": [
        "\n",
        "576/603 [===========================>..] - ETA: 26s - loss: 0.0974 - mean_iou: 0.7250"
       ]
      },
      {
       "output_type": "stream",
       "stream": "stdout",
       "text": [
        "\n",
        "592/603 [============================>.] - ETA: 10s - loss: 0.0972 - mean_iou: 0.7251"
       ]
      },
      {
       "output_type": "stream",
       "stream": "stdout",
       "text": [
        "Epoch 00009: val_loss improved from 0.10274 to 0.09274, saving model to model-dsbowl2018-1.h5\n",
        "\n"
       ]
      },
      {
       "output_type": "stream",
       "stream": "stdout",
       "text": [
        "603/603 [==============================] - 609s 1s/step - loss: 0.0967 - mean_iou: 0.7252 - val_loss: 0.0927 - val_mean_iou: 0.7308\n"
       ]
      },
      {
       "output_type": "stream",
       "stream": "stdout",
       "text": [
        "Epoch 10/20\n",
        "\n"
       ]
      },
      {
       "output_type": "stream",
       "stream": "stdout",
       "text": [
        " 16/603 [..............................] - ETA: 10:15 - loss: 0.1340 - mean_iou: 0.7316"
       ]
      },
      {
       "output_type": "stream",
       "stream": "stdout",
       "text": [
        "\n",
        " 32/603 [>.............................] - ETA: 10:05 - loss: 0.1390 - mean_iou: 0.7317"
       ]
      },
      {
       "output_type": "stream",
       "stream": "stdout",
       "text": [
        "\n",
        " 48/603 [=>............................] - ETA: 9:38 - loss: 0.1206 - mean_iou: 0.7317 "
       ]
      },
      {
       "output_type": "stream",
       "stream": "stdout",
       "text": [
        "\n",
        " 64/603 [==>...........................] - ETA: 9:18 - loss: 0.1068 - mean_iou: 0.7318"
       ]
      },
      {
       "output_type": "stream",
       "stream": "stdout",
       "text": [
        "\n",
        " 80/603 [==>...........................] - ETA: 9:11 - loss: 0.1067 - mean_iou: 0.7319"
       ]
      },
      {
       "output_type": "stream",
       "stream": "stdout",
       "text": [
        "\n",
        " 96/603 [===>..........................] - ETA: 9:20 - loss: 0.1056 - mean_iou: 0.7321"
       ]
      },
      {
       "output_type": "stream",
       "stream": "stdout",
       "text": [
        "\n",
        "112/603 [====>.........................] - ETA: 8:59 - loss: 0.1029 - mean_iou: 0.7322"
       ]
      },
      {
       "output_type": "stream",
       "stream": "stdout",
       "text": [
        "\n",
        "128/603 [=====>........................] - ETA: 8:33 - loss: 0.1018 - mean_iou: 0.7323"
       ]
      },
      {
       "output_type": "stream",
       "stream": "stdout",
       "text": [
        "\n",
        "144/603 [======>.......................] - ETA: 8:17 - loss: 0.0964 - mean_iou: 0.7324"
       ]
      },
      {
       "output_type": "stream",
       "stream": "stdout",
       "text": [
        "\n",
        "160/603 [======>.......................] - ETA: 8:01 - loss: 0.0968 - mean_iou: 0.7326"
       ]
      },
      {
       "output_type": "stream",
       "stream": "stdout",
       "text": [
        "\n",
        "176/603 [=======>......................] - ETA: 7:44 - loss: 0.0946 - mean_iou: 0.7327"
       ]
      },
      {
       "output_type": "stream",
       "stream": "stdout",
       "text": [
        "\n",
        "192/603 [========>.....................] - ETA: 7:26 - loss: 0.0920 - mean_iou: 0.7329"
       ]
      },
      {
       "output_type": "stream",
       "stream": "stdout",
       "text": [
        "\n",
        "208/603 [=========>....................] - ETA: 7:06 - loss: 0.0934 - mean_iou: 0.7330"
       ]
      },
      {
       "output_type": "stream",
       "stream": "stdout",
       "text": [
        "\n",
        "224/603 [==========>...................] - ETA: 6:48 - loss: 0.0947 - mean_iou: 0.7332"
       ]
      },
      {
       "output_type": "stream",
       "stream": "stdout",
       "text": [
        "\n",
        "240/603 [==========>...................] - ETA: 6:30 - loss: 0.0948 - mean_iou: 0.7333"
       ]
      },
      {
       "output_type": "stream",
       "stream": "stdout",
       "text": [
        "\n",
        "256/603 [===========>..................] - ETA: 6:13 - loss: 0.0921 - mean_iou: 0.7334"
       ]
      },
      {
       "output_type": "stream",
       "stream": "stdout",
       "text": [
        "\n",
        "272/603 [============>.................] - ETA: 5:55 - loss: 0.0928 - mean_iou: 0.7336"
       ]
      },
      {
       "output_type": "stream",
       "stream": "stdout",
       "text": [
        "\n",
        "288/603 [=============>................] - ETA: 5:36 - loss: 0.0919 - mean_iou: 0.7337"
       ]
      },
      {
       "output_type": "stream",
       "stream": "stdout",
       "text": [
        "\n",
        "304/603 [==============>...............] - ETA: 5:19 - loss: 0.0915 - mean_iou: 0.7338"
       ]
      },
      {
       "output_type": "stream",
       "stream": "stdout",
       "text": [
        "\n",
        "320/603 [==============>...............] - ETA: 5:01 - loss: 0.0915 - mean_iou: 0.7340"
       ]
      },
      {
       "output_type": "stream",
       "stream": "stdout",
       "text": [
        "\n",
        "336/603 [===============>..............] - ETA: 4:44 - loss: 0.0915 - mean_iou: 0.7341"
       ]
      },
      {
       "output_type": "stream",
       "stream": "stdout",
       "text": [
        "\n",
        "352/603 [================>.............] - ETA: 4:27 - loss: 0.0899 - mean_iou: 0.7342"
       ]
      },
      {
       "output_type": "stream",
       "stream": "stdout",
       "text": [
        "\n",
        "368/603 [=================>............] - ETA: 4:11 - loss: 0.0898 - mean_iou: 0.7343"
       ]
      },
      {
       "output_type": "stream",
       "stream": "stdout",
       "text": [
        "\n",
        "384/603 [==================>...........] - ETA: 3:54 - loss: 0.0893 - mean_iou: 0.7344"
       ]
      },
      {
       "output_type": "stream",
       "stream": "stdout",
       "text": [
        "\n",
        "400/603 [==================>...........] - ETA: 3:37 - loss: 0.0910 - mean_iou: 0.7345"
       ]
      },
      {
       "output_type": "stream",
       "stream": "stdout",
       "text": [
        "\n",
        "416/603 [===================>..........] - ETA: 3:19 - loss: 0.0913 - mean_iou: 0.7347"
       ]
      },
      {
       "output_type": "stream",
       "stream": "stdout",
       "text": [
        "\n",
        "432/603 [====================>.........] - ETA: 3:02 - loss: 0.0911 - mean_iou: 0.7348"
       ]
      },
      {
       "output_type": "stream",
       "stream": "stdout",
       "text": [
        "\n",
        "448/603 [=====================>........] - ETA: 2:45 - loss: 0.0928 - mean_iou: 0.7349"
       ]
      },
      {
       "output_type": "stream",
       "stream": "stdout",
       "text": [
        "\n",
        "464/603 [======================>.......] - ETA: 2:28 - loss: 0.0926 - mean_iou: 0.7350"
       ]
      },
      {
       "output_type": "stream",
       "stream": "stdout",
       "text": [
        "\n",
        "480/603 [======================>.......] - ETA: 2:11 - loss: 0.0932 - mean_iou: 0.7352"
       ]
      },
      {
       "output_type": "stream",
       "stream": "stdout",
       "text": [
        "\n",
        "496/603 [=======================>......] - ETA: 1:54 - loss: 0.0939 - mean_iou: 0.7353"
       ]
      },
      {
       "output_type": "stream",
       "stream": "stdout",
       "text": [
        "\n",
        "512/603 [========================>.....] - ETA: 1:37 - loss: 0.0946 - mean_iou: 0.7354"
       ]
      },
      {
       "output_type": "stream",
       "stream": "stdout",
       "text": [
        "\n",
        "528/603 [=========================>....] - ETA: 1:20 - loss: 0.0945 - mean_iou: 0.7355"
       ]
      },
      {
       "output_type": "stream",
       "stream": "stdout",
       "text": [
        "\n",
        "544/603 [==========================>...] - ETA: 1:03 - loss: 0.0940 - mean_iou: 0.7356"
       ]
      },
      {
       "output_type": "stream",
       "stream": "stdout",
       "text": [
        "\n",
        "560/603 [==========================>...] - ETA: 45s - loss: 0.0942 - mean_iou: 0.7358 "
       ]
      },
      {
       "output_type": "stream",
       "stream": "stdout",
       "text": [
        "\n",
        "576/603 [===========================>..] - ETA: 28s - loss: 0.0940 - mean_iou: 0.7359"
       ]
      },
      {
       "output_type": "stream",
       "stream": "stdout",
       "text": [
        "\n",
        "592/603 [============================>.] - ETA: 11s - loss: 0.0941 - mean_iou: 0.7360"
       ]
      },
      {
       "output_type": "stream",
       "stream": "stdout",
       "text": [
        "Epoch 00010: val_loss did not improve\n",
        "\n",
        "603/603 [==============================] - 667s 1s/step - loss: 0.0946 - mean_iou: 0.7361 - val_loss: 0.0934 - val_mean_iou: 0.7407\n"
       ]
      },
      {
       "output_type": "stream",
       "stream": "stdout",
       "text": [
        "Epoch 11/20\n",
        "\n"
       ]
      },
      {
       "output_type": "stream",
       "stream": "stdout",
       "text": [
        " 16/603 [..............................] - ETA: 9:52 - loss: 0.0612 - mean_iou: 0.7414"
       ]
      },
      {
       "output_type": "stream",
       "stream": "stdout",
       "text": [
        "\n",
        " 32/603 [>.............................] - ETA: 10:01 - loss: 0.0970 - mean_iou: 0.7415"
       ]
      },
      {
       "output_type": "stream",
       "stream": "stdout",
       "text": [
        "\n",
        " 48/603 [=>............................] - ETA: 10:16 - loss: 0.0931 - mean_iou: 0.7416"
       ]
      },
      {
       "output_type": "stream",
       "stream": "stdout",
       "text": [
        "\n",
        " 64/603 [==>...........................] - ETA: 9:49 - loss: 0.0866 - mean_iou: 0.7417 "
       ]
      },
      {
       "output_type": "stream",
       "stream": "stdout",
       "text": [
        "\n",
        " 80/603 [==>...........................] - ETA: 9:29 - loss: 0.0816 - mean_iou: 0.7418"
       ]
      },
      {
       "output_type": "stream",
       "stream": "stdout",
       "text": [
        "\n",
        " 96/603 [===>..........................] - ETA: 9:18 - loss: 0.0809 - mean_iou: 0.7419"
       ]
      },
      {
       "output_type": "stream",
       "stream": "stdout",
       "text": [
        "\n",
        "112/603 [====>.........................] - ETA: 9:01 - loss: 0.0822 - mean_iou: 0.7420"
       ]
      },
      {
       "output_type": "stream",
       "stream": "stdout",
       "text": [
        "\n",
        "128/603 [=====>........................] - ETA: 8:42 - loss: 0.0835 - mean_iou: 0.7422"
       ]
      },
      {
       "output_type": "stream",
       "stream": "stdout",
       "text": [
        "\n",
        "144/603 [======>.......................] - ETA: 8:22 - loss: 0.0839 - mean_iou: 0.7423"
       ]
      },
      {
       "output_type": "stream",
       "stream": "stdout",
       "text": [
        "\n",
        "160/603 [======>.......................] - ETA: 8:06 - loss: 0.0855 - mean_iou: 0.7424"
       ]
      },
      {
       "output_type": "stream",
       "stream": "stdout",
       "text": [
        "\n",
        "176/603 [=======>......................] - ETA: 7:48 - loss: 0.0865 - mean_iou: 0.7425"
       ]
      },
      {
       "output_type": "stream",
       "stream": "stdout",
       "text": [
        "\n",
        "192/603 [========>.....................] - ETA: 7:33 - loss: 0.0865 - mean_iou: 0.7427"
       ]
      },
      {
       "output_type": "stream",
       "stream": "stdout",
       "text": [
        "\n",
        "208/603 [=========>....................] - ETA: 7:16 - loss: 0.0864 - mean_iou: 0.7428"
       ]
      },
      {
       "output_type": "stream",
       "stream": "stdout",
       "text": [
        "\n",
        "224/603 [==========>...................] - ETA: 6:58 - loss: 0.0855 - mean_iou: 0.7429"
       ]
      },
      {
       "output_type": "stream",
       "stream": "stdout",
       "text": [
        "\n",
        "240/603 [==========>...................] - ETA: 6:42 - loss: 0.0862 - mean_iou: 0.7430"
       ]
      },
      {
       "output_type": "stream",
       "stream": "stdout",
       "text": [
        "\n",
        "256/603 [===========>..................] - ETA: 6:24 - loss: 0.0853 - mean_iou: 0.7431"
       ]
      },
      {
       "output_type": "stream",
       "stream": "stdout",
       "text": [
        "\n",
        "272/603 [============>.................] - ETA: 6:09 - loss: 0.0875 - mean_iou: 0.7433"
       ]
      },
      {
       "output_type": "stream",
       "stream": "stdout",
       "text": [
        "\n",
        "288/603 [=============>................] - ETA: 5:52 - loss: 0.0889 - mean_iou: 0.7434"
       ]
      },
      {
       "output_type": "stream",
       "stream": "stdout",
       "text": [
        "\n",
        "304/603 [==============>...............] - ETA: 5:36 - loss: 0.0901 - mean_iou: 0.7435"
       ]
      },
      {
       "output_type": "stream",
       "stream": "stdout",
       "text": [
        "\n",
        "320/603 [==============>...............] - ETA: 5:17 - loss: 0.0885 - mean_iou: 0.7436"
       ]
      },
      {
       "output_type": "stream",
       "stream": "stdout",
       "text": [
        "\n",
        "336/603 [===============>..............] - ETA: 5:00 - loss: 0.0882 - mean_iou: 0.7437"
       ]
      },
      {
       "output_type": "stream",
       "stream": "stdout",
       "text": [
        "\n",
        "352/603 [================>.............] - ETA: 4:42 - loss: 0.0872 - mean_iou: 0.7438"
       ]
      },
      {
       "output_type": "stream",
       "stream": "stdout",
       "text": [
        "\n",
        "368/603 [=================>............] - ETA: 4:23 - loss: 0.0884 - mean_iou: 0.7439"
       ]
      },
      {
       "output_type": "stream",
       "stream": "stdout",
       "text": [
        "\n",
        "384/603 [==================>...........] - ETA: 4:06 - loss: 0.0910 - mean_iou: 0.7440"
       ]
      },
      {
       "output_type": "stream",
       "stream": "stdout",
       "text": [
        "\n",
        "400/603 [==================>...........] - ETA: 3:48 - loss: 0.0907 - mean_iou: 0.7441"
       ]
      },
      {
       "output_type": "stream",
       "stream": "stdout",
       "text": [
        "\n",
        "416/603 [===================>..........] - ETA: 3:30 - loss: 0.0899 - mean_iou: 0.7442"
       ]
      },
      {
       "output_type": "stream",
       "stream": "stdout",
       "text": [
        "\n",
        "432/603 [====================>.........] - ETA: 3:13 - loss: 0.0908 - mean_iou: 0.7443"
       ]
      },
      {
       "output_type": "stream",
       "stream": "stdout",
       "text": [
        "\n",
        "448/603 [=====================>........] - ETA: 2:54 - loss: 0.0919 - mean_iou: 0.7444"
       ]
      },
      {
       "output_type": "stream",
       "stream": "stdout",
       "text": [
        "\n",
        "464/603 [======================>.......] - ETA: 2:37 - loss: 0.0924 - mean_iou: 0.7445"
       ]
      },
      {
       "output_type": "stream",
       "stream": "stdout",
       "text": [
        "\n",
        "480/603 [======================>.......] - ETA: 2:18 - loss: 0.0917 - mean_iou: 0.7446"
       ]
      },
      {
       "output_type": "stream",
       "stream": "stdout",
       "text": [
        "\n",
        "496/603 [=======================>......] - ETA: 2:00 - loss: 0.0923 - mean_iou: 0.7447"
       ]
      },
      {
       "output_type": "stream",
       "stream": "stdout",
       "text": [
        "\n",
        "512/603 [========================>.....] - ETA: 1:42 - loss: 0.0926 - mean_iou: 0.7448"
       ]
      },
      {
       "output_type": "stream",
       "stream": "stdout",
       "text": [
        "\n",
        "528/603 [=========================>....] - ETA: 1:24 - loss: 0.0923 - mean_iou: 0.7449"
       ]
      },
      {
       "output_type": "stream",
       "stream": "stdout",
       "text": [
        "\n",
        "544/603 [==========================>...] - ETA: 1:06 - loss: 0.0923 - mean_iou: 0.7450"
       ]
      },
      {
       "output_type": "stream",
       "stream": "stdout",
       "text": [
        "\n",
        "560/603 [==========================>...] - ETA: 48s - loss: 0.0938 - mean_iou: 0.7451 "
       ]
      },
      {
       "output_type": "stream",
       "stream": "stdout",
       "text": [
        "\n",
        "576/603 [===========================>..] - ETA: 30s - loss: 0.0934 - mean_iou: 0.7452"
       ]
      },
      {
       "output_type": "stream",
       "stream": "stdout",
       "text": [
        "\n",
        "592/603 [============================>.] - ETA: 12s - loss: 0.0929 - mean_iou: 0.7453"
       ]
      },
      {
       "output_type": "stream",
       "stream": "stdout",
       "text": [
        "Epoch 00011: val_loss improved from 0.09274 to 0.08732, saving model to model-dsbowl2018-1.h5\n",
        "\n"
       ]
      },
      {
       "output_type": "stream",
       "stream": "stdout",
       "text": [
        "603/603 [==============================] - 696s 1s/step - loss: 0.0928 - mean_iou: 0.7453 - val_loss: 0.0873 - val_mean_iou: 0.7493\n"
       ]
      },
      {
       "output_type": "stream",
       "stream": "stdout",
       "text": [
        "Epoch 12/20\n",
        "\n"
       ]
      },
      {
       "output_type": "stream",
       "stream": "stdout",
       "text": [
        " 16/603 [..............................] - ETA: 10:24 - loss: 0.1031 - mean_iou: 0.7499"
       ]
      },
      {
       "output_type": "stream",
       "stream": "stdout",
       "text": [
        "\n",
        " 32/603 [>.............................] - ETA: 9:49 - loss: 0.0986 - mean_iou: 0.7500 "
       ]
      },
      {
       "output_type": "stream",
       "stream": "stdout",
       "text": [
        "\n",
        " 48/603 [=>............................] - ETA: 9:33 - loss: 0.1054 - mean_iou: 0.7501"
       ]
      },
      {
       "output_type": "stream",
       "stream": "stdout",
       "text": [
        "\n",
        " 64/603 [==>...........................] - ETA: 9:14 - loss: 0.1024 - mean_iou: 0.7502"
       ]
      },
      {
       "output_type": "stream",
       "stream": "stdout",
       "text": [
        "\n",
        " 80/603 [==>...........................] - ETA: 9:00 - loss: 0.0990 - mean_iou: 0.7503"
       ]
      },
      {
       "output_type": "stream",
       "stream": "stdout",
       "text": [
        "\n",
        " 96/603 [===>..........................] - ETA: 8:42 - loss: 0.0994 - mean_iou: 0.7504"
       ]
      },
      {
       "output_type": "stream",
       "stream": "stdout",
       "text": [
        "\n",
        "112/603 [====>.........................] - ETA: 8:24 - loss: 0.0987 - mean_iou: 0.7505"
       ]
      },
      {
       "output_type": "stream",
       "stream": "stdout",
       "text": [
        "\n",
        "128/603 [=====>........................] - ETA: 8:12 - loss: 0.0947 - mean_iou: 0.7506"
       ]
      },
      {
       "output_type": "stream",
       "stream": "stdout",
       "text": [
        "\n",
        "144/603 [======>.......................] - ETA: 7:57 - loss: 0.0950 - mean_iou: 0.7507"
       ]
      },
      {
       "output_type": "stream",
       "stream": "stdout",
       "text": [
        "\n",
        "160/603 [======>.......................] - ETA: 7:39 - loss: 0.0909 - mean_iou: 0.7508"
       ]
      },
      {
       "output_type": "stream",
       "stream": "stdout",
       "text": [
        "\n",
        "176/603 [=======>......................] - ETA: 7:23 - loss: 0.0906 - mean_iou: 0.7508"
       ]
      },
      {
       "output_type": "stream",
       "stream": "stdout",
       "text": [
        "\n",
        "192/603 [========>.....................] - ETA: 7:11 - loss: 0.0899 - mean_iou: 0.7509"
       ]
      },
      {
       "output_type": "stream",
       "stream": "stdout",
       "text": [
        "\n",
        "208/603 [=========>....................] - ETA: 6:59 - loss: 0.0913 - mean_iou: 0.7510"
       ]
      },
      {
       "output_type": "stream",
       "stream": "stdout",
       "text": [
        "\n",
        "224/603 [==========>...................] - ETA: 6:48 - loss: 0.0917 - mean_iou: 0.7511"
       ]
      },
      {
       "output_type": "stream",
       "stream": "stdout",
       "text": [
        "\n",
        "240/603 [==========>...................] - ETA: 6:30 - loss: 0.0926 - mean_iou: 0.7512"
       ]
      },
      {
       "output_type": "stream",
       "stream": "stdout",
       "text": [
        "\n",
        "256/603 [===========>..................] - ETA: 6:11 - loss: 0.0926 - mean_iou: 0.7513"
       ]
      },
      {
       "output_type": "stream",
       "stream": "stdout",
       "text": [
        "\n",
        "272/603 [============>.................] - ETA: 5:53 - loss: 0.0936 - mean_iou: 0.7514"
       ]
      },
      {
       "output_type": "stream",
       "stream": "stdout",
       "text": [
        "\n",
        "288/603 [=============>................] - ETA: 5:36 - loss: 0.0921 - mean_iou: 0.7515"
       ]
      },
      {
       "output_type": "stream",
       "stream": "stdout",
       "text": [
        "\n",
        "304/603 [==============>...............] - ETA: 5:20 - loss: 0.0918 - mean_iou: 0.7516"
       ]
      },
      {
       "output_type": "stream",
       "stream": "stdout",
       "text": [
        "\n",
        "320/603 [==============>...............] - ETA: 5:04 - loss: 0.0934 - mean_iou: 0.7516"
       ]
      },
      {
       "output_type": "stream",
       "stream": "stdout",
       "text": [
        "\n",
        "336/603 [===============>..............] - ETA: 4:46 - loss: 0.0938 - mean_iou: 0.7517"
       ]
      },
      {
       "output_type": "stream",
       "stream": "stdout",
       "text": [
        "\n",
        "352/603 [================>.............] - ETA: 4:29 - loss: 0.0942 - mean_iou: 0.7518"
       ]
      },
      {
       "output_type": "stream",
       "stream": "stdout",
       "text": [
        "\n",
        "368/603 [=================>............] - ETA: 4:11 - loss: 0.0941 - mean_iou: 0.7519"
       ]
      },
      {
       "output_type": "stream",
       "stream": "stdout",
       "text": [
        "\n",
        "384/603 [==================>...........] - ETA: 3:53 - loss: 0.0943 - mean_iou: 0.7519"
       ]
      },
      {
       "output_type": "stream",
       "stream": "stdout",
       "text": [
        "\n",
        "400/603 [==================>...........] - ETA: 3:36 - loss: 0.0938 - mean_iou: 0.7520"
       ]
      },
      {
       "output_type": "stream",
       "stream": "stdout",
       "text": [
        "\n",
        "416/603 [===================>..........] - ETA: 3:19 - loss: 0.0928 - mean_iou: 0.7521"
       ]
      },
      {
       "output_type": "stream",
       "stream": "stdout",
       "text": [
        "\n",
        "432/603 [====================>.........] - ETA: 3:02 - loss: 0.0954 - mean_iou: 0.7522"
       ]
      },
      {
       "output_type": "stream",
       "stream": "stdout",
       "text": [
        "\n",
        "448/603 [=====================>........] - ETA: 2:45 - loss: 0.0956 - mean_iou: 0.7522"
       ]
      },
      {
       "output_type": "stream",
       "stream": "stdout",
       "text": [
        "\n",
        "464/603 [======================>.......] - ETA: 2:28 - loss: 0.0952 - mean_iou: 0.7523"
       ]
      },
      {
       "output_type": "stream",
       "stream": "stdout",
       "text": [
        "\n",
        "480/603 [======================>.......] - ETA: 2:11 - loss: 0.0944 - mean_iou: 0.7524"
       ]
      },
      {
       "output_type": "stream",
       "stream": "stdout",
       "text": [
        "\n",
        "496/603 [=======================>......] - ETA: 1:54 - loss: 0.0936 - mean_iou: 0.7525"
       ]
      },
      {
       "output_type": "stream",
       "stream": "stdout",
       "text": [
        "\n",
        "512/603 [========================>.....] - ETA: 1:37 - loss: 0.0947 - mean_iou: 0.7526"
       ]
      },
      {
       "output_type": "stream",
       "stream": "stdout",
       "text": [
        "\n",
        "528/603 [=========================>....] - ETA: 1:20 - loss: 0.0941 - mean_iou: 0.7526"
       ]
      },
      {
       "output_type": "stream",
       "stream": "stdout",
       "text": [
        "\n",
        "544/603 [==========================>...] - ETA: 1:03 - loss: 0.0945 - mean_iou: 0.7527"
       ]
      },
      {
       "output_type": "stream",
       "stream": "stdout",
       "text": [
        "\n",
        "560/603 [==========================>...] - ETA: 46s - loss: 0.0951 - mean_iou: 0.7528 "
       ]
      },
      {
       "output_type": "stream",
       "stream": "stdout",
       "text": [
        "\n",
        "576/603 [===========================>..] - ETA: 28s - loss: 0.0952 - mean_iou: 0.7529"
       ]
      },
      {
       "output_type": "stream",
       "stream": "stdout",
       "text": [
        "\n",
        "592/603 [============================>.] - ETA: 11s - loss: 0.0938 - mean_iou: 0.7530"
       ]
      },
      {
       "output_type": "stream",
       "stream": "stdout",
       "text": [
        "Epoch 00012: val_loss improved from 0.08732 to 0.08517, saving model to model-dsbowl2018-1.h5\n",
        "\n"
       ]
      },
      {
       "output_type": "stream",
       "stream": "stdout",
       "text": [
        "603/603 [==============================] - 667s 1s/step - loss: 0.0933 - mean_iou: 0.7530 - val_loss: 0.0852 - val_mean_iou: 0.7563\n"
       ]
      },
      {
       "output_type": "stream",
       "stream": "stdout",
       "text": [
        "Epoch 13/20\n",
        "\n"
       ]
      },
      {
       "output_type": "stream",
       "stream": "stdout",
       "text": [
        " 16/603 [..............................] - ETA: 10:49 - loss: 0.1155 - mean_iou: 0.7569"
       ]
      },
      {
       "output_type": "stream",
       "stream": "stdout",
       "text": [
        "\n",
        " 32/603 [>.............................] - ETA: 10:21 - loss: 0.0852 - mean_iou: 0.7569"
       ]
      },
      {
       "output_type": "stream",
       "stream": "stdout",
       "text": [
        "\n",
        " 48/603 [=>............................] - ETA: 10:00 - loss: 0.0913 - mean_iou: 0.7570"
       ]
      },
      {
       "output_type": "stream",
       "stream": "stdout",
       "text": [
        "\n",
        " 64/603 [==>...........................] - ETA: 9:44 - loss: 0.1005 - mean_iou: 0.7572 "
       ]
      },
      {
       "output_type": "stream",
       "stream": "stdout",
       "text": [
        "\n",
        " 80/603 [==>...........................] - ETA: 9:30 - loss: 0.0919 - mean_iou: 0.7573"
       ]
      },
      {
       "output_type": "stream",
       "stream": "stdout",
       "text": [
        "\n",
        " 96/603 [===>..........................] - ETA: 9:12 - loss: 0.0881 - mean_iou: 0.7574"
       ]
      },
      {
       "output_type": "stream",
       "stream": "stdout",
       "text": [
        "\n",
        "112/603 [====>.........................] - ETA: 8:48 - loss: 0.0868 - mean_iou: 0.7575"
       ]
      },
      {
       "output_type": "stream",
       "stream": "stdout",
       "text": [
        "\n",
        "128/603 [=====>........................] - ETA: 8:38 - loss: 0.0869 - mean_iou: 0.7576"
       ]
      },
      {
       "output_type": "stream",
       "stream": "stdout",
       "text": [
        "\n",
        "144/603 [======>.......................] - ETA: 8:24 - loss: 0.0835 - mean_iou: 0.7576"
       ]
      },
      {
       "output_type": "stream",
       "stream": "stdout",
       "text": [
        "\n",
        "160/603 [======>.......................] - ETA: 8:07 - loss: 0.0909 - mean_iou: 0.7577"
       ]
      },
      {
       "output_type": "stream",
       "stream": "stdout",
       "text": [
        "\n",
        "176/603 [=======>......................] - ETA: 7:48 - loss: 0.0888 - mean_iou: 0.7578"
       ]
      },
      {
       "output_type": "stream",
       "stream": "stdout",
       "text": [
        "\n",
        "192/603 [========>.....................] - ETA: 7:30 - loss: 0.0874 - mean_iou: 0.7579"
       ]
      },
      {
       "output_type": "stream",
       "stream": "stdout",
       "text": [
        "\n",
        "208/603 [=========>....................] - ETA: 7:12 - loss: 0.0881 - mean_iou: 0.7579"
       ]
      },
      {
       "output_type": "stream",
       "stream": "stdout",
       "text": [
        "\n",
        "224/603 [==========>...................] - ETA: 6:54 - loss: 0.0857 - mean_iou: 0.7580"
       ]
      },
      {
       "output_type": "stream",
       "stream": "stdout",
       "text": [
        "\n",
        "240/603 [==========>...................] - ETA: 6:36 - loss: 0.0873 - mean_iou: 0.7581"
       ]
      },
      {
       "output_type": "stream",
       "stream": "stdout",
       "text": [
        "\n",
        "256/603 [===========>..................] - ETA: 6:17 - loss: 0.0882 - mean_iou: 0.7582"
       ]
      },
      {
       "output_type": "stream",
       "stream": "stdout",
       "text": [
        "\n",
        "272/603 [============>.................] - ETA: 5:59 - loss: 0.0886 - mean_iou: 0.7583"
       ]
      },
      {
       "output_type": "stream",
       "stream": "stdout",
       "text": [
        "\n",
        "288/603 [=============>................] - ETA: 5:41 - loss: 0.0883 - mean_iou: 0.7584"
       ]
      },
      {
       "output_type": "stream",
       "stream": "stdout",
       "text": [
        "\n",
        "304/603 [==============>...............] - ETA: 5:22 - loss: 0.0894 - mean_iou: 0.7585"
       ]
      },
      {
       "output_type": "stream",
       "stream": "stdout",
       "text": [
        "\n",
        "320/603 [==============>...............] - ETA: 5:05 - loss: 0.0887 - mean_iou: 0.7586"
       ]
      },
      {
       "output_type": "stream",
       "stream": "stdout",
       "text": [
        "\n",
        "336/603 [===============>..............] - ETA: 4:48 - loss: 0.0879 - mean_iou: 0.7587"
       ]
      },
      {
       "output_type": "stream",
       "stream": "stdout",
       "text": [
        "\n",
        "352/603 [================>.............] - ETA: 4:29 - loss: 0.0860 - mean_iou: 0.7587"
       ]
      },
      {
       "output_type": "stream",
       "stream": "stdout",
       "text": [
        "\n",
        "368/603 [=================>............] - ETA: 4:11 - loss: 0.0875 - mean_iou: 0.7588"
       ]
      },
      {
       "output_type": "stream",
       "stream": "stdout",
       "text": [
        "\n",
        "384/603 [==================>...........] - ETA: 3:54 - loss: 0.0881 - mean_iou: 0.7589"
       ]
      },
      {
       "output_type": "stream",
       "stream": "stdout",
       "text": [
        "\n",
        "400/603 [==================>...........] - ETA: 3:36 - loss: 0.0867 - mean_iou: 0.7590"
       ]
      },
      {
       "output_type": "stream",
       "stream": "stdout",
       "text": [
        "\n",
        "416/603 [===================>..........] - ETA: 3:19 - loss: 0.0871 - mean_iou: 0.7591"
       ]
      },
      {
       "output_type": "stream",
       "stream": "stdout",
       "text": [
        "\n",
        "432/603 [====================>.........] - ETA: 3:02 - loss: 0.0873 - mean_iou: 0.7592"
       ]
      },
      {
       "output_type": "stream",
       "stream": "stdout",
       "text": [
        "\n",
        "448/603 [=====================>........] - ETA: 2:45 - loss: 0.0870 - mean_iou: 0.7593"
       ]
      },
      {
       "output_type": "stream",
       "stream": "stdout",
       "text": [
        "\n",
        "464/603 [======================>.......] - ETA: 2:28 - loss: 0.0873 - mean_iou: 0.7594"
       ]
      },
      {
       "output_type": "stream",
       "stream": "stdout",
       "text": [
        "\n",
        "480/603 [======================>.......] - ETA: 2:10 - loss: 0.0884 - mean_iou: 0.7594"
       ]
      },
      {
       "output_type": "stream",
       "stream": "stdout",
       "text": [
        "\n",
        "496/603 [=======================>......] - ETA: 1:53 - loss: 0.0881 - mean_iou: 0.7595"
       ]
      },
      {
       "output_type": "stream",
       "stream": "stdout",
       "text": [
        "\n",
        "512/603 [========================>.....] - ETA: 1:36 - loss: 0.0877 - mean_iou: 0.7596"
       ]
      },
      {
       "output_type": "stream",
       "stream": "stdout",
       "text": [
        "\n",
        "528/603 [=========================>....] - ETA: 1:19 - loss: 0.0872 - mean_iou: 0.7597"
       ]
      },
      {
       "output_type": "stream",
       "stream": "stdout",
       "text": [
        "\n",
        "544/603 [==========================>...] - ETA: 1:02 - loss: 0.0872 - mean_iou: 0.7597"
       ]
      },
      {
       "output_type": "stream",
       "stream": "stdout",
       "text": [
        "\n",
        "560/603 [==========================>...] - ETA: 45s - loss: 0.0883 - mean_iou: 0.7598 "
       ]
      },
      {
       "output_type": "stream",
       "stream": "stdout",
       "text": [
        "\n",
        "576/603 [===========================>..] - ETA: 28s - loss: 0.0892 - mean_iou: 0.7599"
       ]
      },
      {
       "output_type": "stream",
       "stream": "stdout",
       "text": [
        "\n",
        "592/603 [============================>.] - ETA: 11s - loss: 0.0888 - mean_iou: 0.7600"
       ]
      },
      {
       "output_type": "stream",
       "stream": "stdout",
       "text": [
        "Epoch 00013: val_loss did not improve\n",
        "\n",
        "603/603 [==============================] - 653s 1s/step - loss: 0.0896 - mean_iou: 0.7600 - val_loss: 0.0896 - val_mean_iou: 0.7631\n"
       ]
      },
      {
       "output_type": "stream",
       "stream": "stdout",
       "text": [
        "Epoch 14/20\n",
        "\n"
       ]
      },
      {
       "output_type": "stream",
       "stream": "stdout",
       "text": [
        " 16/603 [..............................] - ETA: 9:37 - loss: 0.0893 - mean_iou: 0.7635"
       ]
      },
      {
       "output_type": "stream",
       "stream": "stdout",
       "text": [
        "\n",
        " 32/603 [>.............................] - ETA: 9:31 - loss: 0.0809 - mean_iou: 0.7636"
       ]
      },
      {
       "output_type": "stream",
       "stream": "stdout",
       "text": [
        "\n",
        " 48/603 [=>............................] - ETA: 9:24 - loss: 0.1092 - mean_iou: 0.7636"
       ]
      },
      {
       "output_type": "stream",
       "stream": "stdout",
       "text": [
        "\n",
        " 64/603 [==>...........................] - ETA: 9:16 - loss: 0.1035 - mean_iou: 0.7636"
       ]
      },
      {
       "output_type": "stream",
       "stream": "stdout",
       "text": [
        "\n",
        " 80/603 [==>...........................] - ETA: 9:16 - loss: 0.1048 - mean_iou: 0.7637"
       ]
      },
      {
       "output_type": "stream",
       "stream": "stdout",
       "text": [
        "\n",
        " 96/603 [===>..........................] - ETA: 9:06 - loss: 0.1042 - mean_iou: 0.7637"
       ]
      },
      {
       "output_type": "stream",
       "stream": "stdout",
       "text": [
        "\n",
        "112/603 [====>.........................] - ETA: 8:42 - loss: 0.0986 - mean_iou: 0.7638"
       ]
      },
      {
       "output_type": "stream",
       "stream": "stdout",
       "text": [
        "\n",
        "128/603 [=====>........................] - ETA: 8:24 - loss: 0.0969 - mean_iou: 0.7639"
       ]
      },
      {
       "output_type": "stream",
       "stream": "stdout",
       "text": [
        "\n",
        "144/603 [======>.......................] - ETA: 8:06 - loss: 0.0962 - mean_iou: 0.7639"
       ]
      },
      {
       "output_type": "stream",
       "stream": "stdout",
       "text": [
        "\n",
        "160/603 [======>.......................] - ETA: 7:46 - loss: 0.0944 - mean_iou: 0.7640"
       ]
      },
      {
       "output_type": "stream",
       "stream": "stdout",
       "text": [
        "\n",
        "176/603 [=======>......................] - ETA: 7:30 - loss: 0.0960 - mean_iou: 0.7641"
       ]
      },
      {
       "output_type": "stream",
       "stream": "stdout",
       "text": [
        "\n",
        "192/603 [========>.....................] - ETA: 7:11 - loss: 0.0945 - mean_iou: 0.7641"
       ]
      },
      {
       "output_type": "stream",
       "stream": "stdout",
       "text": [
        "\n",
        "208/603 [=========>....................] - ETA: 6:54 - loss: 0.0968 - mean_iou: 0.7642"
       ]
      },
      {
       "output_type": "stream",
       "stream": "stdout",
       "text": [
        "\n",
        "224/603 [==========>...................] - ETA: 6:36 - loss: 0.0991 - mean_iou: 0.7643"
       ]
      },
      {
       "output_type": "stream",
       "stream": "stdout",
       "text": [
        "\n",
        "240/603 [==========>...................] - ETA: 6:18 - loss: 0.0961 - mean_iou: 0.7644"
       ]
      },
      {
       "output_type": "stream",
       "stream": "stdout",
       "text": [
        "\n",
        "256/603 [===========>..................] - ETA: 5:59 - loss: 0.0938 - mean_iou: 0.7644"
       ]
      },
      {
       "output_type": "stream",
       "stream": "stdout",
       "text": [
        "\n",
        "272/603 [============>.................] - ETA: 5:41 - loss: 0.0938 - mean_iou: 0.7645"
       ]
      },
      {
       "output_type": "stream",
       "stream": "stdout",
       "text": [
        "\n",
        "288/603 [=============>................] - ETA: 5:23 - loss: 0.0938 - mean_iou: 0.7646"
       ]
      },
      {
       "output_type": "stream",
       "stream": "stdout",
       "text": [
        "\n",
        "304/603 [==============>...............] - ETA: 5:05 - loss: 0.0924 - mean_iou: 0.7646"
       ]
      },
      {
       "output_type": "stream",
       "stream": "stdout",
       "text": [
        "\n",
        "320/603 [==============>...............] - ETA: 4:48 - loss: 0.0914 - mean_iou: 0.7647"
       ]
      },
      {
       "output_type": "stream",
       "stream": "stdout",
       "text": [
        "\n",
        "336/603 [===============>..............] - ETA: 4:31 - loss: 0.0908 - mean_iou: 0.7648"
       ]
      },
      {
       "output_type": "stream",
       "stream": "stdout",
       "text": [
        "\n",
        "352/603 [================>.............] - ETA: 4:16 - loss: 0.0899 - mean_iou: 0.7649"
       ]
      },
      {
       "output_type": "stream",
       "stream": "stdout",
       "text": [
        "\n",
        "368/603 [=================>............] - ETA: 4:00 - loss: 0.0892 - mean_iou: 0.7649"
       ]
      },
      {
       "output_type": "stream",
       "stream": "stdout",
       "text": [
        "\n",
        "384/603 [==================>...........] - ETA: 3:45 - loss: 0.0895 - mean_iou: 0.7650"
       ]
      },
      {
       "output_type": "stream",
       "stream": "stdout",
       "text": [
        "\n",
        "400/603 [==================>...........] - ETA: 3:29 - loss: 0.0893 - mean_iou: 0.7651"
       ]
      },
      {
       "output_type": "stream",
       "stream": "stdout",
       "text": [
        "\n",
        "416/603 [===================>..........] - ETA: 3:12 - loss: 0.0893 - mean_iou: 0.7651"
       ]
      },
      {
       "output_type": "stream",
       "stream": "stdout",
       "text": [
        "\n",
        "432/603 [====================>.........] - ETA: 2:56 - loss: 0.0885 - mean_iou: 0.7652"
       ]
      },
      {
       "output_type": "stream",
       "stream": "stdout",
       "text": [
        "\n",
        "448/603 [=====================>........] - ETA: 2:39 - loss: 0.0892 - mean_iou: 0.7653"
       ]
      },
      {
       "output_type": "stream",
       "stream": "stdout",
       "text": [
        "\n",
        "464/603 [======================>.......] - ETA: 2:23 - loss: 0.0884 - mean_iou: 0.7654"
       ]
      },
      {
       "output_type": "stream",
       "stream": "stdout",
       "text": [
        "\n",
        "480/603 [======================>.......] - ETA: 2:06 - loss: 0.0882 - mean_iou: 0.7654"
       ]
      },
      {
       "output_type": "stream",
       "stream": "stdout",
       "text": [
        "\n",
        "496/603 [=======================>......] - ETA: 1:50 - loss: 0.0890 - mean_iou: 0.7655"
       ]
      },
      {
       "output_type": "stream",
       "stream": "stdout",
       "text": [
        "\n",
        "512/603 [========================>.....] - ETA: 1:33 - loss: 0.0890 - mean_iou: 0.7656"
       ]
      },
      {
       "output_type": "stream",
       "stream": "stdout",
       "text": [
        "\n",
        "528/603 [=========================>....] - ETA: 1:17 - loss: 0.0880 - mean_iou: 0.7657"
       ]
      },
      {
       "output_type": "stream",
       "stream": "stdout",
       "text": [
        "\n",
        "544/603 [==========================>...] - ETA: 1:00 - loss: 0.0900 - mean_iou: 0.7657"
       ]
      },
      {
       "output_type": "stream",
       "stream": "stdout",
       "text": [
        "\n",
        "560/603 [==========================>...] - ETA: 44s - loss: 0.0898 - mean_iou: 0.7658 "
       ]
      },
      {
       "output_type": "stream",
       "stream": "stdout",
       "text": [
        "\n",
        "576/603 [===========================>..] - ETA: 27s - loss: 0.0892 - mean_iou: 0.7659"
       ]
      },
      {
       "output_type": "stream",
       "stream": "stdout",
       "text": [
        "\n",
        "592/603 [============================>.] - ETA: 11s - loss: 0.0892 - mean_iou: 0.7659"
       ]
      },
      {
       "output_type": "stream",
       "stream": "stdout",
       "text": [
        "Epoch 00014: val_loss did not improve\n",
        "\n",
        "603/603 [==============================] - 640s 1s/step - loss: 0.0899 - mean_iou: 0.7660 - val_loss: 0.0890 - val_mean_iou: 0.7684\n"
       ]
      },
      {
       "output_type": "stream",
       "stream": "stdout",
       "text": [
        "Epoch 15/20\n",
        "\n"
       ]
      },
      {
       "output_type": "stream",
       "stream": "stdout",
       "text": [
        " 16/603 [..............................] - ETA: 9:48 - loss: 0.1242 - mean_iou: 0.7687"
       ]
      },
      {
       "output_type": "stream",
       "stream": "stdout",
       "text": [
        "\n",
        " 32/603 [>.............................] - ETA: 9:47 - loss: 0.1045 - mean_iou: 0.7687"
       ]
      },
      {
       "output_type": "stream",
       "stream": "stdout",
       "text": [
        "\n",
        " 48/603 [=>............................] - ETA: 9:49 - loss: 0.1069 - mean_iou: 0.7688"
       ]
      },
      {
       "output_type": "stream",
       "stream": "stdout",
       "text": [
        "\n",
        " 64/603 [==>...........................] - ETA: 9:41 - loss: 0.1033 - mean_iou: 0.7688"
       ]
      },
      {
       "output_type": "stream",
       "stream": "stdout",
       "text": [
        "\n",
        " 80/603 [==>...........................] - ETA: 9:16 - loss: 0.1003 - mean_iou: 0.7689"
       ]
      },
      {
       "output_type": "stream",
       "stream": "stdout",
       "text": [
        "\n",
        " 96/603 [===>..........................] - ETA: 8:55 - loss: 0.0986 - mean_iou: 0.7690"
       ]
      },
      {
       "output_type": "stream",
       "stream": "stdout",
       "text": [
        "\n",
        "112/603 [====>.........................] - ETA: 8:31 - loss: 0.0952 - mean_iou: 0.7690"
       ]
      },
      {
       "output_type": "stream",
       "stream": "stdout",
       "text": [
        "\n",
        "128/603 [=====>........................] - ETA: 8:11 - loss: 0.0980 - mean_iou: 0.7691"
       ]
      },
      {
       "output_type": "stream",
       "stream": "stdout",
       "text": [
        "\n",
        "144/603 [======>.......................] - ETA: 7:53 - loss: 0.0952 - mean_iou: 0.7692"
       ]
      },
      {
       "output_type": "stream",
       "stream": "stdout",
       "text": [
        "\n",
        "160/603 [======>.......................] - ETA: 7:37 - loss: 0.0947 - mean_iou: 0.7692"
       ]
      },
      {
       "output_type": "stream",
       "stream": "stdout",
       "text": [
        "\n",
        "176/603 [=======>......................] - ETA: 7:20 - loss: 0.0954 - mean_iou: 0.7693"
       ]
      },
      {
       "output_type": "stream",
       "stream": "stdout",
       "text": [
        "\n",
        "192/603 [========>.....................] - ETA: 7:05 - loss: 0.0976 - mean_iou: 0.7694"
       ]
      },
      {
       "output_type": "stream",
       "stream": "stdout",
       "text": [
        "\n",
        "208/603 [=========>....................] - ETA: 6:49 - loss: 0.0978 - mean_iou: 0.7694"
       ]
      },
      {
       "output_type": "stream",
       "stream": "stdout",
       "text": [
        "\n",
        "224/603 [==========>...................] - ETA: 6:31 - loss: 0.0954 - mean_iou: 0.7695"
       ]
      },
      {
       "output_type": "stream",
       "stream": "stdout",
       "text": [
        "\n",
        "240/603 [==========>...................] - ETA: 6:15 - loss: 0.0955 - mean_iou: 0.7696"
       ]
      },
      {
       "output_type": "stream",
       "stream": "stdout",
       "text": [
        "\n",
        "256/603 [===========>..................] - ETA: 5:58 - loss: 0.0937 - mean_iou: 0.7696"
       ]
      },
      {
       "output_type": "stream",
       "stream": "stdout",
       "text": [
        "\n",
        "272/603 [============>.................] - ETA: 5:43 - loss: 0.0933 - mean_iou: 0.7697"
       ]
      },
      {
       "output_type": "stream",
       "stream": "stdout",
       "text": [
        "\n",
        "288/603 [=============>................] - ETA: 5:27 - loss: 0.0922 - mean_iou: 0.7698"
       ]
      },
      {
       "output_type": "stream",
       "stream": "stdout",
       "text": [
        "\n",
        "304/603 [==============>...............] - ETA: 5:10 - loss: 0.0910 - mean_iou: 0.7698"
       ]
      },
      {
       "output_type": "stream",
       "stream": "stdout",
       "text": [
        "\n",
        "320/603 [==============>...............] - ETA: 4:53 - loss: 0.0891 - mean_iou: 0.7699"
       ]
      },
      {
       "output_type": "stream",
       "stream": "stdout",
       "text": [
        "\n",
        "336/603 [===============>..............] - ETA: 4:37 - loss: 0.0895 - mean_iou: 0.7699"
       ]
      },
      {
       "output_type": "stream",
       "stream": "stdout",
       "text": [
        "\n",
        "352/603 [================>.............] - ETA: 4:20 - loss: 0.0897 - mean_iou: 0.7700"
       ]
      },
      {
       "output_type": "stream",
       "stream": "stdout",
       "text": [
        "\n",
        "368/603 [=================>............] - ETA: 4:04 - loss: 0.0893 - mean_iou: 0.7701"
       ]
      },
      {
       "output_type": "stream",
       "stream": "stdout",
       "text": [
        "\n",
        "384/603 [==================>...........] - ETA: 3:47 - loss: 0.0890 - mean_iou: 0.7701"
       ]
      },
      {
       "output_type": "stream",
       "stream": "stdout",
       "text": [
        "\n",
        "400/603 [==================>...........] - ETA: 3:30 - loss: 0.0882 - mean_iou: 0.7702"
       ]
      },
      {
       "output_type": "stream",
       "stream": "stdout",
       "text": [
        "\n",
        "416/603 [===================>..........] - ETA: 3:13 - loss: 0.0871 - mean_iou: 0.7702"
       ]
      },
      {
       "output_type": "stream",
       "stream": "stdout",
       "text": [
        "\n",
        "432/603 [====================>.........] - ETA: 2:57 - loss: 0.0881 - mean_iou: 0.7703"
       ]
      },
      {
       "output_type": "stream",
       "stream": "stdout",
       "text": [
        "\n",
        "448/603 [=====================>........] - ETA: 2:40 - loss: 0.0884 - mean_iou: 0.7704"
       ]
      },
      {
       "output_type": "stream",
       "stream": "stdout",
       "text": [
        "\n",
        "464/603 [======================>.......] - ETA: 2:24 - loss: 0.0883 - mean_iou: 0.7704"
       ]
      },
      {
       "output_type": "stream",
       "stream": "stdout",
       "text": [
        "\n",
        "480/603 [======================>.......] - ETA: 2:07 - loss: 0.0882 - mean_iou: 0.7705"
       ]
      },
      {
       "output_type": "stream",
       "stream": "stdout",
       "text": [
        "\n",
        "496/603 [=======================>......] - ETA: 1:50 - loss: 0.0880 - mean_iou: 0.7705"
       ]
      },
      {
       "output_type": "stream",
       "stream": "stdout",
       "text": [
        "\n",
        "512/603 [========================>.....] - ETA: 1:34 - loss: 0.0885 - mean_iou: 0.7706"
       ]
      },
      {
       "output_type": "stream",
       "stream": "stdout",
       "text": [
        "\n",
        "528/603 [=========================>....] - ETA: 1:17 - loss: 0.0889 - mean_iou: 0.7706"
       ]
      },
      {
       "output_type": "stream",
       "stream": "stdout",
       "text": [
        "\n",
        "544/603 [==========================>...] - ETA: 1:01 - loss: 0.0882 - mean_iou: 0.7707"
       ]
      },
      {
       "output_type": "stream",
       "stream": "stdout",
       "text": [
        "\n",
        "560/603 [==========================>...] - ETA: 44s - loss: 0.0902 - mean_iou: 0.7707 "
       ]
      },
      {
       "output_type": "stream",
       "stream": "stdout",
       "text": [
        "\n",
        "576/603 [===========================>..] - ETA: 28s - loss: 0.0899 - mean_iou: 0.7708"
       ]
      },
      {
       "output_type": "stream",
       "stream": "stdout",
       "text": [
        "\n",
        "592/603 [============================>.] - ETA: 11s - loss: 0.0898 - mean_iou: 0.7708"
       ]
      },
      {
       "output_type": "stream",
       "stream": "stdout",
       "text": [
        "Epoch 00015: val_loss did not improve\n",
        "\n",
        "603/603 [==============================] - 649s 1s/step - loss: 0.0890 - mean_iou: 0.7709 - val_loss: 0.0949 - val_mean_iou: 0.7731\n"
       ]
      },
      {
       "output_type": "stream",
       "stream": "stdout",
       "text": [
        "Epoch 16/20\n",
        "\n"
       ]
      },
      {
       "output_type": "stream",
       "stream": "stdout",
       "text": [
        " 16/603 [..............................] - ETA: 12:10 - loss: 0.0830 - mean_iou: 0.7735"
       ]
      },
      {
       "output_type": "stream",
       "stream": "stdout",
       "text": [
        "\n",
        " 32/603 [>.............................] - ETA: 11:11 - loss: 0.0898 - mean_iou: 0.7736"
       ]
      },
      {
       "output_type": "stream",
       "stream": "stdout",
       "text": [
        "\n",
        " 48/603 [=>............................] - ETA: 10:37 - loss: 0.0908 - mean_iou: 0.7736"
       ]
      },
      {
       "output_type": "stream",
       "stream": "stdout",
       "text": [
        "\n",
        " 64/603 [==>...........................] - ETA: 10:17 - loss: 0.1137 - mean_iou: 0.7736"
       ]
      },
      {
       "output_type": "stream",
       "stream": "stdout",
       "text": [
        "\n",
        " 80/603 [==>...........................] - ETA: 9:57 - loss: 0.1062 - mean_iou: 0.7736 "
       ]
      },
      {
       "output_type": "stream",
       "stream": "stdout",
       "text": [
        "\n",
        " 96/603 [===>..........................] - ETA: 9:38 - loss: 0.1009 - mean_iou: 0.7737"
       ]
      },
      {
       "ename": "KeyboardInterrupt",
       "evalue": "",
       "output_type": "pyerr",
       "traceback": [
        "\u001b[0;31m---------------------------------------------------------------------------\u001b[0m\n\u001b[0;31mKeyboardInterrupt\u001b[0m                         Traceback (most recent call last)",
        "\u001b[0;32m<ipython-input-7-95507cddd89c>\u001b[0m in \u001b[0;36m<module>\u001b[0;34m()\u001b[0m\n\u001b[1;32m      7\u001b[0m results = model.fit(X_train, Y_train, validation_split=0.1, batch_size=16, epochs=20, \n\u001b[1;32m      8\u001b[0m                     \u001b[0mcallbacks\u001b[0m\u001b[0;34m=\u001b[0m\u001b[0;34m[\u001b[0m\u001b[0mearlystopper\u001b[0m\u001b[0;34m,\u001b[0m \u001b[0mcheckpointer\u001b[0m\u001b[0;34m]\u001b[0m\u001b[0;34m,\u001b[0m\u001b[0;34m\u001b[0m\u001b[0m\n\u001b[0;32m----> 9\u001b[0;31m                     shuffle=True)\n\u001b[0m",
        "\u001b[0;32m/home/peter/.local/lib/python2.7/site-packages/keras/engine/training.pyc\u001b[0m in \u001b[0;36mfit\u001b[0;34m(self, x, y, batch_size, epochs, verbose, callbacks, validation_split, validation_data, shuffle, class_weight, sample_weight, initial_epoch, steps_per_epoch, validation_steps, **kwargs)\u001b[0m\n\u001b[1;32m   1655\u001b[0m                               \u001b[0minitial_epoch\u001b[0m\u001b[0;34m=\u001b[0m\u001b[0minitial_epoch\u001b[0m\u001b[0;34m,\u001b[0m\u001b[0;34m\u001b[0m\u001b[0m\n\u001b[1;32m   1656\u001b[0m                               \u001b[0msteps_per_epoch\u001b[0m\u001b[0;34m=\u001b[0m\u001b[0msteps_per_epoch\u001b[0m\u001b[0;34m,\u001b[0m\u001b[0;34m\u001b[0m\u001b[0m\n\u001b[0;32m-> 1657\u001b[0;31m                               validation_steps=validation_steps)\n\u001b[0m\u001b[1;32m   1658\u001b[0m \u001b[0;34m\u001b[0m\u001b[0m\n\u001b[1;32m   1659\u001b[0m     def evaluate(self, x=None, y=None,\n",
        "\u001b[0;32m/home/peter/.local/lib/python2.7/site-packages/keras/engine/training.pyc\u001b[0m in \u001b[0;36m_fit_loop\u001b[0;34m(self, f, ins, out_labels, batch_size, epochs, verbose, callbacks, val_f, val_ins, shuffle, callback_metrics, initial_epoch, steps_per_epoch, validation_steps)\u001b[0m\n\u001b[1;32m   1211\u001b[0m                     \u001b[0mbatch_logs\u001b[0m\u001b[0;34m[\u001b[0m\u001b[0;34m'size'\u001b[0m\u001b[0;34m]\u001b[0m \u001b[0;34m=\u001b[0m \u001b[0mlen\u001b[0m\u001b[0;34m(\u001b[0m\u001b[0mbatch_ids\u001b[0m\u001b[0;34m)\u001b[0m\u001b[0;34m\u001b[0m\u001b[0m\n\u001b[1;32m   1212\u001b[0m                     \u001b[0mcallbacks\u001b[0m\u001b[0;34m.\u001b[0m\u001b[0mon_batch_begin\u001b[0m\u001b[0;34m(\u001b[0m\u001b[0mbatch_index\u001b[0m\u001b[0;34m,\u001b[0m \u001b[0mbatch_logs\u001b[0m\u001b[0;34m)\u001b[0m\u001b[0;34m\u001b[0m\u001b[0m\n\u001b[0;32m-> 1213\u001b[0;31m                     \u001b[0mouts\u001b[0m \u001b[0;34m=\u001b[0m \u001b[0mf\u001b[0m\u001b[0;34m(\u001b[0m\u001b[0mins_batch\u001b[0m\u001b[0;34m)\u001b[0m\u001b[0;34m\u001b[0m\u001b[0m\n\u001b[0m\u001b[1;32m   1214\u001b[0m                     \u001b[0;32mif\u001b[0m \u001b[0;32mnot\u001b[0m \u001b[0misinstance\u001b[0m\u001b[0;34m(\u001b[0m\u001b[0mouts\u001b[0m\u001b[0;34m,\u001b[0m \u001b[0mlist\u001b[0m\u001b[0;34m)\u001b[0m\u001b[0;34m:\u001b[0m\u001b[0;34m\u001b[0m\u001b[0m\n\u001b[1;32m   1215\u001b[0m                         \u001b[0mouts\u001b[0m \u001b[0;34m=\u001b[0m \u001b[0;34m[\u001b[0m\u001b[0mouts\u001b[0m\u001b[0;34m]\u001b[0m\u001b[0;34m\u001b[0m\u001b[0m\n",
        "\u001b[0;32m/home/peter/.local/lib/python2.7/site-packages/keras/backend/tensorflow_backend.pyc\u001b[0m in \u001b[0;36m__call__\u001b[0;34m(self, inputs)\u001b[0m\n\u001b[1;32m   2355\u001b[0m         \u001b[0msession\u001b[0m \u001b[0;34m=\u001b[0m \u001b[0mget_session\u001b[0m\u001b[0;34m(\u001b[0m\u001b[0;34m)\u001b[0m\u001b[0;34m\u001b[0m\u001b[0m\n\u001b[1;32m   2356\u001b[0m         updated = session.run(fetches=fetches, feed_dict=feed_dict,\n\u001b[0;32m-> 2357\u001b[0;31m                               **self.session_kwargs)\n\u001b[0m\u001b[1;32m   2358\u001b[0m         \u001b[0;32mreturn\u001b[0m \u001b[0mupdated\u001b[0m\u001b[0;34m[\u001b[0m\u001b[0;34m:\u001b[0m\u001b[0mlen\u001b[0m\u001b[0;34m(\u001b[0m\u001b[0mself\u001b[0m\u001b[0;34m.\u001b[0m\u001b[0moutputs\u001b[0m\u001b[0;34m)\u001b[0m\u001b[0;34m]\u001b[0m\u001b[0;34m\u001b[0m\u001b[0m\n\u001b[1;32m   2359\u001b[0m \u001b[0;34m\u001b[0m\u001b[0m\n",
        "\u001b[0;32m/home/peter/.local/lib/python2.7/site-packages/tensorflow/python/client/session.pyc\u001b[0m in \u001b[0;36mrun\u001b[0;34m(self, fetches, feed_dict, options, run_metadata)\u001b[0m\n\u001b[1;32m    887\u001b[0m     \u001b[0;32mtry\u001b[0m\u001b[0;34m:\u001b[0m\u001b[0;34m\u001b[0m\u001b[0m\n\u001b[1;32m    888\u001b[0m       result = self._run(None, fetches, feed_dict, options_ptr,\n\u001b[0;32m--> 889\u001b[0;31m                          run_metadata_ptr)\n\u001b[0m\u001b[1;32m    890\u001b[0m       \u001b[0;32mif\u001b[0m \u001b[0mrun_metadata\u001b[0m\u001b[0;34m:\u001b[0m\u001b[0;34m\u001b[0m\u001b[0m\n\u001b[1;32m    891\u001b[0m         \u001b[0mproto_data\u001b[0m \u001b[0;34m=\u001b[0m \u001b[0mtf_session\u001b[0m\u001b[0;34m.\u001b[0m\u001b[0mTF_GetBuffer\u001b[0m\u001b[0;34m(\u001b[0m\u001b[0mrun_metadata_ptr\u001b[0m\u001b[0;34m)\u001b[0m\u001b[0;34m\u001b[0m\u001b[0m\n",
        "\u001b[0;32m/home/peter/.local/lib/python2.7/site-packages/tensorflow/python/client/session.pyc\u001b[0m in \u001b[0;36m_run\u001b[0;34m(self, handle, fetches, feed_dict, options, run_metadata)\u001b[0m\n\u001b[1;32m   1118\u001b[0m     \u001b[0;32mif\u001b[0m \u001b[0mfinal_fetches\u001b[0m \u001b[0;32mor\u001b[0m \u001b[0mfinal_targets\u001b[0m \u001b[0;32mor\u001b[0m \u001b[0;34m(\u001b[0m\u001b[0mhandle\u001b[0m \u001b[0;32mand\u001b[0m \u001b[0mfeed_dict_tensor\u001b[0m\u001b[0;34m)\u001b[0m\u001b[0;34m:\u001b[0m\u001b[0;34m\u001b[0m\u001b[0m\n\u001b[1;32m   1119\u001b[0m       results = self._do_run(handle, final_targets, final_fetches,\n\u001b[0;32m-> 1120\u001b[0;31m                              feed_dict_tensor, options, run_metadata)\n\u001b[0m\u001b[1;32m   1121\u001b[0m     \u001b[0;32melse\u001b[0m\u001b[0;34m:\u001b[0m\u001b[0;34m\u001b[0m\u001b[0m\n\u001b[1;32m   1122\u001b[0m       \u001b[0mresults\u001b[0m \u001b[0;34m=\u001b[0m \u001b[0;34m[\u001b[0m\u001b[0;34m]\u001b[0m\u001b[0;34m\u001b[0m\u001b[0m\n",
        "\u001b[0;32m/home/peter/.local/lib/python2.7/site-packages/tensorflow/python/client/session.pyc\u001b[0m in \u001b[0;36m_do_run\u001b[0;34m(self, handle, target_list, fetch_list, feed_dict, options, run_metadata)\u001b[0m\n\u001b[1;32m   1315\u001b[0m     \u001b[0;32mif\u001b[0m \u001b[0mhandle\u001b[0m \u001b[0;32mis\u001b[0m \u001b[0mNone\u001b[0m\u001b[0;34m:\u001b[0m\u001b[0;34m\u001b[0m\u001b[0m\n\u001b[1;32m   1316\u001b[0m       return self._do_call(_run_fn, self._session, feeds, fetches, targets,\n\u001b[0;32m-> 1317\u001b[0;31m                            options, run_metadata)\n\u001b[0m\u001b[1;32m   1318\u001b[0m     \u001b[0;32melse\u001b[0m\u001b[0;34m:\u001b[0m\u001b[0;34m\u001b[0m\u001b[0m\n\u001b[1;32m   1319\u001b[0m       \u001b[0;32mreturn\u001b[0m \u001b[0mself\u001b[0m\u001b[0;34m.\u001b[0m\u001b[0m_do_call\u001b[0m\u001b[0;34m(\u001b[0m\u001b[0m_prun_fn\u001b[0m\u001b[0;34m,\u001b[0m \u001b[0mself\u001b[0m\u001b[0;34m.\u001b[0m\u001b[0m_session\u001b[0m\u001b[0;34m,\u001b[0m \u001b[0mhandle\u001b[0m\u001b[0;34m,\u001b[0m \u001b[0mfeeds\u001b[0m\u001b[0;34m,\u001b[0m \u001b[0mfetches\u001b[0m\u001b[0;34m)\u001b[0m\u001b[0;34m\u001b[0m\u001b[0m\n",
        "\u001b[0;32m/home/peter/.local/lib/python2.7/site-packages/tensorflow/python/client/session.pyc\u001b[0m in \u001b[0;36m_do_call\u001b[0;34m(self, fn, *args)\u001b[0m\n\u001b[1;32m   1321\u001b[0m   \u001b[0;32mdef\u001b[0m \u001b[0m_do_call\u001b[0m\u001b[0;34m(\u001b[0m\u001b[0mself\u001b[0m\u001b[0;34m,\u001b[0m \u001b[0mfn\u001b[0m\u001b[0;34m,\u001b[0m \u001b[0;34m*\u001b[0m\u001b[0margs\u001b[0m\u001b[0;34m)\u001b[0m\u001b[0;34m:\u001b[0m\u001b[0;34m\u001b[0m\u001b[0m\n\u001b[1;32m   1322\u001b[0m     \u001b[0;32mtry\u001b[0m\u001b[0;34m:\u001b[0m\u001b[0;34m\u001b[0m\u001b[0m\n\u001b[0;32m-> 1323\u001b[0;31m       \u001b[0;32mreturn\u001b[0m \u001b[0mfn\u001b[0m\u001b[0;34m(\u001b[0m\u001b[0;34m*\u001b[0m\u001b[0margs\u001b[0m\u001b[0;34m)\u001b[0m\u001b[0;34m\u001b[0m\u001b[0m\n\u001b[0m\u001b[1;32m   1324\u001b[0m     \u001b[0;32mexcept\u001b[0m \u001b[0merrors\u001b[0m\u001b[0;34m.\u001b[0m\u001b[0mOpError\u001b[0m \u001b[0;32mas\u001b[0m \u001b[0me\u001b[0m\u001b[0;34m:\u001b[0m\u001b[0;34m\u001b[0m\u001b[0m\n\u001b[1;32m   1325\u001b[0m       \u001b[0mmessage\u001b[0m \u001b[0;34m=\u001b[0m \u001b[0mcompat\u001b[0m\u001b[0;34m.\u001b[0m\u001b[0mas_text\u001b[0m\u001b[0;34m(\u001b[0m\u001b[0me\u001b[0m\u001b[0;34m.\u001b[0m\u001b[0mmessage\u001b[0m\u001b[0;34m)\u001b[0m\u001b[0;34m\u001b[0m\u001b[0m\n",
        "\u001b[0;32m/home/peter/.local/lib/python2.7/site-packages/tensorflow/python/client/session.pyc\u001b[0m in \u001b[0;36m_run_fn\u001b[0;34m(session, feed_dict, fetch_list, target_list, options, run_metadata)\u001b[0m\n\u001b[1;32m   1300\u001b[0m           return tf_session.TF_Run(session, options,\n\u001b[1;32m   1301\u001b[0m                                    \u001b[0mfeed_dict\u001b[0m\u001b[0;34m,\u001b[0m \u001b[0mfetch_list\u001b[0m\u001b[0;34m,\u001b[0m \u001b[0mtarget_list\u001b[0m\u001b[0;34m,\u001b[0m\u001b[0;34m\u001b[0m\u001b[0m\n\u001b[0;32m-> 1302\u001b[0;31m                                    status, run_metadata)\n\u001b[0m\u001b[1;32m   1303\u001b[0m \u001b[0;34m\u001b[0m\u001b[0m\n\u001b[1;32m   1304\u001b[0m     \u001b[0;32mdef\u001b[0m \u001b[0m_prun_fn\u001b[0m\u001b[0;34m(\u001b[0m\u001b[0msession\u001b[0m\u001b[0;34m,\u001b[0m \u001b[0mhandle\u001b[0m\u001b[0;34m,\u001b[0m \u001b[0mfeed_dict\u001b[0m\u001b[0;34m,\u001b[0m \u001b[0mfetch_list\u001b[0m\u001b[0;34m)\u001b[0m\u001b[0;34m:\u001b[0m\u001b[0;34m\u001b[0m\u001b[0m\n",
        "\u001b[0;31mKeyboardInterrupt\u001b[0m: "
       ]
      }
     ],
     "prompt_number": 7
    },
    {
     "cell_type": "code",
     "collapsed": false,
     "input": [
      "# Predict on train, val and test\n",
      "model = load_model('model-dsbowl2018-1.h5', custom_objects={'mean_iou': mean_iou})\n",
      "preds_train = model.predict(X_train[:int(X_train.shape[0]*0.9)], verbose=1)\n",
      "preds_val = model.predict(X_train[int(X_train.shape[0]*0.9):], verbose=1)\n",
      "preds_test = model.predict(X_test, verbose=1)\n",
      "\n",
      "# Threshold predictions\n",
      "preds_train_t = (preds_train > 0.5).astype(np.uint8)\n",
      "preds_val_t = (preds_val > 0.5).astype(np.uint8)\n",
      "preds_test_t = (preds_test > 0.5).astype(np.uint8)\n",
      "\n",
      "# Create list of upsampled test masks\n",
      "preds_test_upsampled = []\n",
      "for i in range(len(preds_test)):\n",
      "    preds_test_upsampled.append(resize(np.squeeze(preds_test[i]), \n",
      "                                       (sizes_test[i][0], sizes_test[i][1]), \n",
      "                                       mode='constant', preserve_range=True))"
     ],
     "language": "python",
     "metadata": {},
     "outputs": [
      {
       "output_type": "stream",
       "stream": "stdout",
       "text": [
        "\n",
        " 32/603 [>.............................] - ETA: 3:20"
       ]
      },
      {
       "output_type": "stream",
       "stream": "stdout",
       "text": [
        "\n",
        " 64/603 [==>...........................] - ETA: 3:02"
       ]
      },
      {
       "output_type": "stream",
       "stream": "stdout",
       "text": [
        "\n",
        " 96/603 [===>..........................] - ETA: 2:49"
       ]
      },
      {
       "output_type": "stream",
       "stream": "stdout",
       "text": [
        "\n",
        "128/603 [=====>........................] - ETA: 2:38"
       ]
      },
      {
       "output_type": "stream",
       "stream": "stdout",
       "text": [
        "\n",
        "160/603 [======>.......................] - ETA: 2:25"
       ]
      },
      {
       "output_type": "stream",
       "stream": "stdout",
       "text": [
        "\n",
        "192/603 [========>.....................] - ETA: 2:13"
       ]
      },
      {
       "output_type": "stream",
       "stream": "stdout",
       "text": [
        "\n",
        "224/603 [==========>...................] - ETA: 2:01"
       ]
      },
      {
       "output_type": "stream",
       "stream": "stdout",
       "text": [
        "\n",
        "256/603 [===========>..................] - ETA: 1:50"
       ]
      },
      {
       "output_type": "stream",
       "stream": "stdout",
       "text": [
        "\n",
        "288/603 [=============>................] - ETA: 1:40"
       ]
      },
      {
       "output_type": "stream",
       "stream": "stdout",
       "text": [
        "\n",
        "320/603 [==============>...............] - ETA: 1:30"
       ]
      },
      {
       "output_type": "stream",
       "stream": "stdout",
       "text": [
        "\n",
        "352/603 [================>.............] - ETA: 1:19"
       ]
      },
      {
       "output_type": "stream",
       "stream": "stdout",
       "text": [
        "\n",
        "384/603 [==================>...........] - ETA: 1:09"
       ]
      },
      {
       "output_type": "stream",
       "stream": "stdout",
       "text": [
        "\n",
        "416/603 [===================>..........] - ETA: 59s "
       ]
      },
      {
       "output_type": "stream",
       "stream": "stdout",
       "text": [
        "\n",
        "448/603 [=====================>........] - ETA: 49s"
       ]
      },
      {
       "output_type": "stream",
       "stream": "stdout",
       "text": [
        "\n",
        "480/603 [======================>.......] - ETA: 38s"
       ]
      },
      {
       "output_type": "stream",
       "stream": "stdout",
       "text": [
        "\n",
        "512/603 [========================>.....] - ETA: 28s"
       ]
      },
      {
       "output_type": "stream",
       "stream": "stdout",
       "text": [
        "\n",
        "544/603 [==========================>...] - ETA: 18s"
       ]
      },
      {
       "output_type": "stream",
       "stream": "stdout",
       "text": [
        "\n",
        "576/603 [===========================>..] - ETA: 8s "
       ]
      },
      {
       "output_type": "stream",
       "stream": "stdout",
       "text": [
        "\n",
        "603/603 [==============================] - 189s 314ms/step\n"
       ]
      },
      {
       "output_type": "stream",
       "stream": "stdout",
       "text": [
        "\n",
        "32/67 [=============>................] - ETA: 11s"
       ]
      },
      {
       "output_type": "stream",
       "stream": "stdout",
       "text": [
        "\n",
        "64/67 [===========================>..] - ETA: 0s "
       ]
      },
      {
       "output_type": "stream",
       "stream": "stdout",
       "text": [
        "\n",
        "67/67 [==============================] - 21s 314ms/step\n"
       ]
      },
      {
       "output_type": "stream",
       "stream": "stdout",
       "text": [
        "\n",
        "32/65 [=============>................] - ETA: 9s"
       ]
      },
      {
       "output_type": "stream",
       "stream": "stdout",
       "text": [
        "\n",
        "64/65 [============================>.] - ETA: 0s"
       ]
      },
      {
       "output_type": "stream",
       "stream": "stdout",
       "text": [
        "\n",
        "65/65 [==============================] - 19s 296ms/step\n"
       ]
      }
     ],
     "prompt_number": 8
    },
    {
     "cell_type": "code",
     "collapsed": false,
     "input": [
      "# Perform a sanity check on some random training samples\n",
      "# ix = random.randint(0, len(preds_train_t))\n",
      "\n",
      "model = load_model('model-dsbowl2018-1.h5', custom_objects={'mean_iou': mean_iou})\n",
      "preds_train = model.predict(X_train[:2], verbose=1)\n",
      "preds_train_t = (preds_train > 0.5).astype(np.uint8)\n",
      "\n"
     ],
     "language": "python",
     "metadata": {},
     "outputs": [
      {
       "output_type": "stream",
       "stream": "stdout",
       "text": [
        "\n",
        "2/2 [==============================] - 2s 786ms/step\n"
       ]
      },
      {
       "metadata": {},
       "output_type": "display_data",
       "png": "[encoded data removed]",
       "text": [
        "<matplotlib.figure.Figure at 0x7f2dd22aa450>"
       ]
      }
     ],
     "prompt_number": 25
    },
    {
     "cell_type": "code",
     "collapsed": false,
     "input": [
      "from scipy import ndimage\n",
      "import cv2\n",
      "\n",
      "def find_connected_and_separate(mask, iteration):\n",
      "    labels, nlabels = ndimage.label(mask)\n",
      "    print \"old mask labels: \", nlabels\n",
      "    new_mask = np.zeros_like(mask, dtype='float64')\n",
      "    label_stat = [i.flatten().sum() for i in labels]\n",
      "#     plt.hist(label_stat)\n",
      "    threshold1 = np.percentile(label_stat,90)\n",
      "    threshold2 = np.percentile(label_stat,95)\n",
      "    print threshold1, threshold2\n",
      "    \n",
      "    for label_num in range(1, nlabels+1):\n",
      "        label_mask = np.where(labels == label_num, 1, 0)\n",
      "        if label_mask.flatten().sum() > threshold1:\n",
      "            label_mask = ndimage.binary_opening(label_mask,iterations=iteration)*1.0\n",
      "        elif label_mask.flatten().sum() > threshold2:\n",
      "            label_mask = ndimage.binary_opening(label_mask,iterations=iteration+2)*1.0\n",
      "        new_mask += label_mask\n",
      "    labels, nlabels = ndimage.label(new_mask)\n",
      "    \n",
      "    print \"new mask labels: \", nlabels, new_mask.shape\n",
      "    \n",
      "    return new_mask\n",
      "\n",
      "\n",
      "def apply_morphology(mask,size):\n",
      "#     mask = cv2.dilate(mask, cv2.getStructuringElement(cv2.MORPH_ELLIPSE, (size,size)))\n",
      "    mask = cv2.erode(mask, cv2.getStructuringElement(cv2.MORPH_ELLIPSE, (size,size)))\n",
      "    return mask"
     ],
     "language": "python",
     "metadata": {},
     "outputs": [],
     "prompt_number": 48
    },
    {
     "cell_type": "code",
     "collapsed": false,
     "input": [
      "ix = 560\n",
      "fig=plt.figure(figsize=(18, 16), dpi= 80, facecolor='w', edgecolor='k')\n",
      "plt.subplot(1,3,1)\n",
      "imshow(X_train[ix])\n",
      "plt.subplot(1,3,2)\n",
      "imshow(np.squeeze(Y_train[ix]))\n",
      "plt.subplot(1,3,3)\n",
      "imshow(np.squeeze(preds_train_t[ix]))\n",
      "plt.show()\n"
     ],
     "language": "python",
     "metadata": {},
     "outputs": [
      {
       "metadata": {},
       "output_type": "display_data",
       "png": "[encoded data removed]",
       "text": [
        "<matplotlib.figure.Figure at 0x7fee0c9fa0d0>"
       ]
      }
     ],
     "prompt_number": 53
    }
   ],
   "metadata": {}
  }
 ]
}