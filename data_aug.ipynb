{
 "cells": [
  {
   "cell_type": "code",
   "execution_count": 1,
   "metadata": {
    "collapsed": false
   },
   "outputs": [],
   "source": [
    "import os\n",
    "import sys\n",
    "import random\n",
    "import warnings\n",
    "\n",
    "import numpy as np\n",
    "import pandas as pd\n",
    "\n",
    "import matplotlib.pyplot as plt\n",
    "\n",
    "from tqdm import tqdm\n",
    "from itertools import chain\n",
    "from skimage.io import imread, imshow, imread_collection, concatenate_images\n",
    "from skimage.transform import *\n",
    "from skimage.morphology import label\n",
    "\n",
    "\n",
    "IMG_WIDTH = 128\n",
    "IMG_HEIGHT = 128\n",
    "IMG_CHANNELS = 3\n",
    "TRAIN_PATH = 'data/stage1_train/'\n",
    "TEST_PATH = 'data/stage1_test/'\n",
    "\n",
    "warnings.filterwarnings('ignore', category=UserWarning, module='skimage')\n",
    "seed = 42\n",
    "random.seed = seed\n",
    "np.random.seed = seed"
   ]
  },
  {
   "cell_type": "code",
   "execution_count": 2,
   "metadata": {
    "collapsed": true
   },
   "outputs": [],
   "source": [
    "train_ids = next(os.walk(TRAIN_PATH))[1]\n",
    "test_ids = next(os.walk(TEST_PATH))[1]"
   ]
  },
  {
   "cell_type": "code",
   "execution_count": 3,
   "metadata": {
    "collapsed": false
   },
   "outputs": [
    {
     "name": "stdout",
     "output_type": "stream",
     "text": [
      "Getting and resizing train images and masks ... \n"
     ]
    },
    {
     "name": "stderr",
     "output_type": "stream",
     "text": [
      "100%|██████████| 670/670 [02:15<00:00,  4.94it/s]"
     ]
    },
    {
     "name": "stdout",
     "output_type": "stream",
     "text": [
      "Getting and resizing test images ... \n"
     ]
    },
    {
     "name": "stderr",
     "output_type": "stream",
     "text": [
      "\n",
      "100%|██████████| 65/65 [00:01<00:00, 54.34it/s]"
     ]
    },
    {
     "name": "stdout",
     "output_type": "stream",
     "text": [
      "Done!\n"
     ]
    },
    {
     "name": "stderr",
     "output_type": "stream",
     "text": [
      "\n"
     ]
    }
   ],
   "source": [
    "# Get and resize train images and masks\n",
    "X_train = np.zeros((len(train_ids), IMG_HEIGHT, IMG_WIDTH, IMG_CHANNELS), dtype=np.uint8)\n",
    "Y_train = np.zeros((len(train_ids), IMG_HEIGHT, IMG_WIDTH, 1), dtype=np.bool)\n",
    "print('Getting and resizing train images and masks ... ')\n",
    "sys.stdout.flush()\n",
    "for n, id_ in tqdm(enumerate(train_ids), total=len(train_ids)):\n",
    "    path = TRAIN_PATH + id_\n",
    "    img = imread(path + '/images/' + id_ + '.png')[:,:,:IMG_CHANNELS]\n",
    "    img = resize(img, (IMG_HEIGHT, IMG_WIDTH), mode='constant', preserve_range=True)\n",
    "    X_train[n] = img\n",
    "    mask = np.zeros((IMG_HEIGHT, IMG_WIDTH, 1), dtype=np.bool)\n",
    "    for mask_file in next(os.walk(path + '/masks/'))[2]:\n",
    "        mask_ = imread(path + '/masks/' + mask_file)\n",
    "        mask_ = np.expand_dims(resize(mask_, (IMG_HEIGHT, IMG_WIDTH), mode='constant', \n",
    "                                      preserve_range=True), axis=-1)\n",
    "        mask = np.maximum(mask, mask_)\n",
    "    Y_train[n] = mask\n",
    "\n",
    "# Get and resize test images\n",
    "X_test = np.zeros((len(test_ids), IMG_HEIGHT, IMG_WIDTH, IMG_CHANNELS), dtype=np.uint8)\n",
    "sizes_test = []\n",
    "print('Getting and resizing test images ... ')\n",
    "sys.stdout.flush()\n",
    "for n, id_ in tqdm(enumerate(test_ids), total=len(test_ids)):\n",
    "    path = TEST_PATH + id_\n",
    "    img = imread(path + '/images/' + id_ + '.png')[:,:,:IMG_CHANNELS]\n",
    "    sizes_test.append([img.shape[0], img.shape[1]])\n",
    "    img = resize(img, (IMG_HEIGHT, IMG_WIDTH), mode='constant', preserve_range=True)\n",
    "    X_test[n] = img\n",
    "\n",
    "print('Done!')"
   ]
  },
  {
   "cell_type": "code",
   "execution_count": 3,
   "metadata": {
    "collapsed": false
   },
   "outputs": [
    {
     "name": "stdout",
     "output_type": "stream",
     "text": [
      "Getting train images and masks ... \n"
     ]
    },
    {
     "name": "stderr",
     "output_type": "stream",
     "text": [
      "100%|██████████| 670/670 [01:25<00:00,  7.86it/s]\n"
     ]
    }
   ],
   "source": [
    "X_train_no_resize = [0]*len(train_ids)\n",
    "Y_train_no_resize = [0]*len(train_ids)\n",
    "print('Getting train images and masks ... ')\n",
    "sys.stdout.flush()\n",
    "for n, id_ in tqdm(enumerate(train_ids), total=len(train_ids)):\n",
    "    path = TRAIN_PATH + id_\n",
    "    img = imread(path + '/images/' + id_ + '.png')[:,:,:IMG_CHANNELS]\n",
    "    X_train_no_resize[n] = img\n",
    "    mask_bool = 0\n",
    "    for mask_file in next(os.walk(path + '/masks/'))[2]:\n",
    "        mask_ = imread(path + '/masks/' + mask_file)\n",
    "        mask_ = np.expand_dims(mask_, axis=-1)\n",
    "        if mask_bool == 0:\n",
    "            mask = np.zeros((mask_.shape[0], mask_.shape[1], 1), dtype=np.bool)\n",
    "            mask_bool = 1\n",
    "        mask = np.maximum(mask, mask_)\n",
    "    Y_train_no_resize[n] = mask"
   ]
  },
  {
   "cell_type": "code",
   "execution_count": 4,
   "metadata": {
    "collapsed": true
   },
   "outputs": [],
   "source": [
    "def data_aug(image,label,angel=30,resize_rate=0.9):\n",
    "    flip = random.randint(0, 1)\n",
    "    size = image.shape[0]\n",
    "    rsize = random.randint(np.floor(resize_rate*size),size)\n",
    "    w_s = random.randint(0,size - rsize)\n",
    "    h_s = random.randint(0,size - rsize)\n",
    "    sh = random.random()/2-0.25\n",
    "    rotate_angel = random.random()/180*np.pi*angel\n",
    "    # Create Afine transform\n",
    "    afine_tf = AffineTransform(shear=sh,rotation=rotate_angel)\n",
    "    # Apply transform to image data\n",
    "    image = warp(image, inverse_map=afine_tf,mode='reflect')\n",
    "    label = warp(label, inverse_map=afine_tf,mode='reflect')\n",
    "    # Randomly corpping image frame\n",
    "    image = image[w_s:w_s+size,h_s:h_s+size,:]\n",
    "    label = label[w_s:w_s+size,h_s:h_s+size]\n",
    "    # Ramdomly flip frame\n",
    "    if flip:\n",
    "        image = image[:,::-1,:]\n",
    "        label = label[:,::-1]\n",
    "    return image, label"
   ]
  },
  {
   "cell_type": "code",
   "execution_count": 5,
   "metadata": {
    "collapsed": false
   },
   "outputs": [
    {
     "ename": "NameError",
     "evalue": "name 'X_train' is not defined",
     "output_type": "error",
     "traceback": [
      "\u001b[0;31m---------------------------------------------------------------------------\u001b[0m",
      "\u001b[0;31mNameError\u001b[0m                                 Traceback (most recent call last)",
      "\u001b[0;32m<ipython-input-5-d7d41c946a1e>\u001b[0m in \u001b[0;36m<module>\u001b[0;34m()\u001b[0m\n\u001b[1;32m      1\u001b[0m \u001b[0mix\u001b[0m \u001b[0;34m=\u001b[0m \u001b[0mrandom\u001b[0m\u001b[0;34m.\u001b[0m\u001b[0mrandint\u001b[0m\u001b[0;34m(\u001b[0m\u001b[0;36m0\u001b[0m\u001b[0;34m,\u001b[0m \u001b[0mlen\u001b[0m\u001b[0;34m(\u001b[0m\u001b[0mtrain_ids\u001b[0m\u001b[0;34m)\u001b[0m\u001b[0;34m)\u001b[0m\u001b[0;34m\u001b[0m\u001b[0m\n\u001b[0;32m----> 2\u001b[0;31m \u001b[0maug_image\u001b[0m\u001b[0;34m,\u001b[0m \u001b[0maug_mask\u001b[0m \u001b[0;34m=\u001b[0m \u001b[0mdata_aug\u001b[0m\u001b[0;34m(\u001b[0m\u001b[0mX_train\u001b[0m\u001b[0;34m[\u001b[0m\u001b[0mix\u001b[0m\u001b[0;34m]\u001b[0m\u001b[0;34m,\u001b[0m \u001b[0mY_train\u001b[0m\u001b[0;34m[\u001b[0m\u001b[0mix\u001b[0m\u001b[0;34m]\u001b[0m\u001b[0;34m)\u001b[0m\u001b[0;34m\u001b[0m\u001b[0m\n\u001b[0m\u001b[1;32m      3\u001b[0m \u001b[0;34m\u001b[0m\u001b[0m\n\u001b[1;32m      4\u001b[0m \u001b[0;32mprint\u001b[0m\u001b[0;34m(\u001b[0m\u001b[0mnp\u001b[0m\u001b[0;34m.\u001b[0m\u001b[0mshape\u001b[0m\u001b[0;34m(\u001b[0m\u001b[0mX_train\u001b[0m\u001b[0;34m[\u001b[0m\u001b[0mix\u001b[0m\u001b[0;34m]\u001b[0m\u001b[0;34m)\u001b[0m\u001b[0;34m)\u001b[0m\u001b[0;34m\u001b[0m\u001b[0m\n\u001b[1;32m      5\u001b[0m \u001b[0;32mprint\u001b[0m\u001b[0;34m(\u001b[0m\u001b[0mnp\u001b[0m\u001b[0;34m.\u001b[0m\u001b[0mshape\u001b[0m\u001b[0;34m(\u001b[0m\u001b[0maug_image\u001b[0m\u001b[0;34m)\u001b[0m\u001b[0;34m)\u001b[0m\u001b[0;34m\u001b[0m\u001b[0m\n",
      "\u001b[0;31mNameError\u001b[0m: name 'X_train' is not defined"
     ]
    }
   ],
   "source": [
    "ix = random.randint(0, len(train_ids))\n",
    "aug_image, aug_mask = data_aug(X_train[ix], Y_train[ix])\n",
    "\n",
    "print(np.shape(X_train[ix]))\n",
    "print(np.shape(aug_image))\n",
    "\n",
    "plt.figure(figsize=(10, 10))\n",
    "\n",
    "plt.subplot(221)\n",
    "plt.imshow(X_train[ix])\n",
    "\n",
    "plt.subplot(222)\n",
    "plt.imshow(np.squeeze(Y_train[ix]))\n",
    "\n",
    "plt.subplot(223)\n",
    "plt.imshow(aug_image)\n",
    "\n",
    "plt.subplot(224)\n",
    "plt.imshow(np.squeeze(aug_mask))\n",
    "\n",
    "\n",
    "plt.show()"
   ]
  },
  {
   "cell_type": "code",
   "execution_count": 6,
   "metadata": {
    "collapsed": false
   },
   "outputs": [
    {
     "name": "stdout",
     "output_type": "stream",
     "text": [
      "2407\n"
     ]
    }
   ],
   "source": [
    "def resize_image(image):\n",
    "    pad_width = 256 - np.shape(image)[1] % 256 if np.shape(image)[1] != 256 else 0\n",
    "    pad_height = 256 - np.shape(image)[0] % 256 if np.shape(image)[0] != 256 else 0\n",
    "    return np.pad(image, ((0,pad_height), (0,pad_width), (0,0)), mode='reflect')\n",
    "\n",
    "def break_image(image):\n",
    "    images = []\n",
    "    num_col = np.shape(image)[0] / 256\n",
    "    num_row = np.shape(image)[1] / 256\n",
    "    for i in range(num_col):\n",
    "        for j in range(num_row):\n",
    "            images.append(image[i*256:(i+1)*256,j*256:(j+1)*256,:])\n",
    "    return images\n",
    "\n",
    "def make_images(images, shape):\n",
    "    num_col = shape[0] / 256 + 1 if shape[0] != 256 else 0 \n",
    "    num_row = shape[1] / 256 + 1 if shape[1] != 256 else 0 \n",
    "    new_image = np.zeros((num_col*256, num_row*256, shape[2]))\n",
    "    for i in range(num_col):\n",
    "        for j in range(num_row):\n",
    "            new_image[i*256:(i+1)*256,j*256:(j+1)*256,:] = images[i*num_row+j]\n",
    "    return new_image[:shape[0], :shape[1],:]\n",
    "    \n",
    "\n",
    "# (256, 512, 3)\n",
    "#print(np.shape(Y_train_no_resize[i]))\n",
    "#big_image = resize_image(Y_train_no_resize[i])\n",
    "#print(np.shape(big_image))\n",
    "\n",
    "\n",
    "#plt.figure()\n",
    "#plt.imshow(np.squeeze(Y_train_no_resize[i]))\n",
    "#plt.show()\n",
    "\n",
    "#plt.figure()\n",
    "#plt.imshow(np.squeeze(big_image))\n",
    "#plt.show()\n",
    "\n",
    "#images = break_image(big_image)\n",
    "#num_col = np.shape(big_image)[0] / 256\n",
    "#num_row = np.shape(big_image)[1] / 256\n",
    "#plt.figure()\n",
    "#for j in range(len(images)):\n",
    "#    plt.subplot(num_col, num_row, j+1)\n",
    "#    plt.imshow(np.squeeze(images[j]))\n",
    "#plt.show()\n",
    "\n",
    "#new_big_image = make_images(images, np.shape(Y_train_no_resize[i]))\n",
    "#plt.figure()\n",
    "#plt.imshow(np.squeeze(new_big_image))\n",
    "#plt.show()\n",
    "images = []\n",
    "for i in range(len(Y_train_no_resize)):\n",
    "    images.extend(break_image(resize_image(Y_train_no_resize[i])))\n",
    "print(len(images))"
   ]
  },
  {
   "cell_type": "code",
   "execution_count": null,
   "metadata": {
    "collapsed": true
   },
   "outputs": [],
   "source": []
  }
 ],
 "metadata": {
  "kernelspec": {
   "display_name": "Python 2",
   "language": "python",
   "name": "python2"
  },
  "language_info": {
   "codemirror_mode": {
    "name": "ipython",
    "version": 2
   },
   "file_extension": ".py",
   "mimetype": "text/x-python",
   "name": "python",
   "nbconvert_exporter": "python",
   "pygments_lexer": "ipython2",
   "version": "2.7.13"
  }
 },
 "nbformat": 4,
 "nbformat_minor": 2
}
