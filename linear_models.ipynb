{
 "metadata": {
  "name": "",
  "signature": "sha256:ae429367d45ce6aee8530a911b7290e8b483b28bcebd1485f8adb34edca5dfbd"
 },
 "nbformat": 3,
 "nbformat_minor": 0,
 "worksheets": [
  {
   "cells": [
    {
     "cell_type": "code",
     "collapsed": false,
     "input": [
      "import os\n",
      "import sys\n",
      "import random\n",
      "import warnings\n",
      "\n",
      "import numpy as np\n",
      "import pandas as pd\n",
      "\n",
      "import matplotlib.pyplot as plt\n",
      "\n",
      "from tqdm import tqdm\n",
      "from itertools import chain\n",
      "from skimage.io import imread, imshow, imread_collection, concatenate_images\n",
      "from skimage.transform import resize\n",
      "from skimage.morphology import label\n",
      "\n",
      "import tensorflow as tf\n",
      "import cv2\n",
      "\n",
      "# Set some parameters\n",
      "IMG_WIDTH = 128\n",
      "IMG_HEIGHT = 128\n",
      "IMG_CHANNELS = 3\n",
      "TRAIN_PATH = 'data/stage1_train/'\n",
      "TEST_PATH = 'data/stage1_test/'\n",
      "\n",
      "warnings.filterwarnings('ignore', category=UserWarning, module='skimage')\n",
      "seed = 42\n",
      "random.seed = seed\n",
      "np.random.seed = seed\n",
      "\n",
      "%matplotlib inline\n",
      "plt.rcParams['figure.figsize'] = (10.0, 8.0) # set default size of plots\n",
      "plt.rcParams['image.interpolation'] = 'nearest'\n",
      "plt.rcParams['image.cmap'] = 'gray'\n",
      "\n",
      "train_ids = next(os.walk(TRAIN_PATH))[1]\n",
      "test_ids = next(os.walk(TEST_PATH))[1]"
     ],
     "language": "python",
     "metadata": {},
     "outputs": [
      {
       "output_type": "stream",
       "stream": "stderr",
       "text": [
        "/home/peter/.local/lib/python2.7/site-packages/h5py/__init__.py:36: FutureWarning: Conversion of the second argument of issubdtype from `float` to `np.floating` is deprecated. In future, it will be treated as `np.float64 == np.dtype(float).type`.\n",
        "  from ._conv import register_converters as _register_converters\n"
       ]
      }
     ],
     "prompt_number": 1
    },
    {
     "cell_type": "code",
     "collapsed": false,
     "input": [
      "# Get and resize train images and masks\n",
      "X_train_no_resize = [0]*len(train_ids)\n",
      "Y_train_no_resize = [0]*len(train_ids)\n",
      "print('Getting train images and masks ... ')\n",
      "sys.stdout.flush()\n",
      "for n, id_ in tqdm(enumerate(train_ids), total=len(train_ids)):\n",
      "    path = TRAIN_PATH + id_\n",
      "    img = imread(path + '/images/' + id_ + '.png')[:,:,:IMG_CHANNELS]\n",
      "    X_train_no_resize[n] = img\n",
      "    mask_bool = 0\n",
      "    for mask_file in next(os.walk(path + '/masks/'))[2]:\n",
      "        mask_ = imread(path + '/masks/' + mask_file)\n",
      "        mask_ = np.expand_dims(mask_, axis=-1)\n",
      "        if mask_bool == 0:\n",
      "            mask = np.zeros((mask_.shape[0], mask_.shape[1], 1), dtype=np.bool)\n",
      "            mask_bool = 1\n",
      "        mask = np.maximum(mask, mask_)\n",
      "    Y_train_no_resize[n] = mask"
     ],
     "language": "python",
     "metadata": {},
     "outputs": [
      {
       "output_type": "stream",
       "stream": "stdout",
       "text": [
        "Getting train images and masks ... \n"
       ]
      },
      {
       "output_type": "stream",
       "stream": "stderr",
       "text": [
        "\r",
        "  0%|          | 0/670 [00:00<?, ?it/s]"
       ]
      },
      {
       "output_type": "stream",
       "stream": "stderr",
       "text": [
        "\r",
        "  0%|          | 3/670 [00:00<00:31, 21.25it/s]"
       ]
      },
      {
       "output_type": "stream",
       "stream": "stderr",
       "text": [
        "\r",
        "  1%|          | 6/670 [00:00<00:27, 24.44it/s]"
       ]
      },
      {
       "output_type": "stream",
       "stream": "stderr",
       "text": [
        "\r",
        "  1%|\u258f         | 10/670 [00:00<00:24, 27.43it/s]"
       ]
      },
      {
       "output_type": "stream",
       "stream": "stderr",
       "text": [
        "\r",
        "  2%|\u258f         | 12/670 [00:00<00:29, 22.08it/s]"
       ]
      },
      {
       "output_type": "stream",
       "stream": "stderr",
       "text": [
        "\r",
        "  3%|\u258e         | 17/670 [00:00<00:25, 25.14it/s]"
       ]
      },
      {
       "output_type": "stream",
       "stream": "stderr",
       "text": [
        "\r",
        "  3%|\u258e         | 20/670 [00:01<00:45, 14.25it/s]"
       ]
      },
      {
       "output_type": "stream",
       "stream": "stderr",
       "text": [
        "\r",
        "  3%|\u258e         | 22/670 [00:02<00:59, 10.89it/s]"
       ]
      },
      {
       "output_type": "stream",
       "stream": "stderr",
       "text": [
        "\r",
        "  4%|\u258e         | 24/670 [00:02<01:02, 10.38it/s]"
       ]
      },
      {
       "output_type": "stream",
       "stream": "stderr",
       "text": [
        "\r",
        "  4%|\u258d         | 29/670 [00:02<00:53, 11.91it/s]"
       ]
      },
      {
       "output_type": "stream",
       "stream": "stderr",
       "text": [
        "\r",
        "  5%|\u258d         | 32/670 [00:02<00:51, 12.47it/s]"
       ]
      },
      {
       "output_type": "stream",
       "stream": "stderr",
       "text": [
        "\r",
        "  6%|\u258c         | 37/670 [00:02<00:46, 13.59it/s]"
       ]
      },
      {
       "output_type": "stream",
       "stream": "stderr",
       "text": [
        "\r",
        "  6%|\u258c         | 40/670 [00:03<00:57, 11.02it/s]"
       ]
      },
      {
       "output_type": "stream",
       "stream": "stderr",
       "text": [
        "\r",
        "  6%|\u258b         | 42/670 [00:03<00:57, 10.98it/s]"
       ]
      },
      {
       "output_type": "stream",
       "stream": "stderr",
       "text": [
        "\r",
        "  7%|\u258b         | 44/670 [00:04<00:58, 10.69it/s]"
       ]
      },
      {
       "output_type": "stream",
       "stream": "stderr",
       "text": [
        "\r",
        "  7%|\u258b         | 48/670 [00:04<00:54, 11.35it/s]"
       ]
      },
      {
       "output_type": "stream",
       "stream": "stderr",
       "text": [
        "\r",
        "  8%|\u258a         | 52/670 [00:04<00:57, 10.67it/s]"
       ]
      },
      {
       "output_type": "stream",
       "stream": "stderr",
       "text": [
        "\r",
        "  9%|\u258a         | 57/670 [00:04<00:53, 11.40it/s]"
       ]
      },
      {
       "output_type": "stream",
       "stream": "stderr",
       "text": [
        "\r",
        "  9%|\u2589         | 60/670 [00:05<00:56, 10.86it/s]"
       ]
      },
      {
       "output_type": "stream",
       "stream": "stderr",
       "text": [
        "\r",
        " 10%|\u2589         | 64/670 [00:06<00:56, 10.65it/s]"
       ]
      },
      {
       "output_type": "stream",
       "stream": "stderr",
       "text": [
        "\r",
        " 10%|\u2589         | 66/670 [00:06<00:58, 10.31it/s]"
       ]
      },
      {
       "output_type": "stream",
       "stream": "stderr",
       "text": [
        "\r",
        " 10%|\u2588         | 68/670 [00:06<00:59, 10.08it/s]"
       ]
      },
      {
       "output_type": "stream",
       "stream": "stderr",
       "text": [
        "\r",
        " 11%|\u2588         | 72/670 [00:06<00:57, 10.31it/s]"
       ]
      },
      {
       "output_type": "stream",
       "stream": "stderr",
       "text": [
        "\r",
        " 11%|\u2588\u258f        | 76/670 [00:07<00:55, 10.70it/s]"
       ]
      },
      {
       "output_type": "stream",
       "stream": "stderr",
       "text": [
        "\r",
        " 12%|\u2588\u258f        | 78/670 [00:07<00:56, 10.48it/s]"
       ]
      },
      {
       "output_type": "stream",
       "stream": "stderr",
       "text": [
        "\r",
        " 13%|\u2588\u258e        | 84/670 [00:07<00:52, 11.14it/s]"
       ]
      },
      {
       "output_type": "stream",
       "stream": "stderr",
       "text": [
        "\r",
        " 13%|\u2588\u258e        | 87/670 [00:07<00:53, 10.97it/s]"
       ]
      },
      {
       "output_type": "stream",
       "stream": "stderr",
       "text": [
        "\r",
        " 13%|\u2588\u258e        | 90/670 [00:08<00:51, 11.16it/s]"
       ]
      },
      {
       "output_type": "stream",
       "stream": "stderr",
       "text": [
        "\r",
        " 14%|\u2588\u258d        | 93/670 [00:08<00:52, 11.09it/s]"
       ]
      },
      {
       "output_type": "stream",
       "stream": "stderr",
       "text": [
        "\r",
        " 14%|\u2588\u258d        | 96/670 [00:08<00:50, 11.29it/s]"
       ]
      },
      {
       "output_type": "stream",
       "stream": "stderr",
       "text": [
        "\r",
        " 15%|\u2588\u258d        | 100/670 [00:08<00:49, 11.62it/s]"
       ]
      },
      {
       "output_type": "stream",
       "stream": "stderr",
       "text": [
        "\r",
        " 15%|\u2588\u258c        | 103/670 [00:08<00:47, 11.82it/s]"
       ]
      },
      {
       "output_type": "stream",
       "stream": "stderr",
       "text": [
        "\r",
        " 16%|\u2588\u258c        | 107/670 [00:08<00:46, 12.13it/s]"
       ]
      },
      {
       "output_type": "stream",
       "stream": "stderr",
       "text": [
        "\r",
        " 16%|\u2588\u258b        | 110/670 [00:09<00:47, 11.84it/s]"
       ]
      },
      {
       "output_type": "stream",
       "stream": "stderr",
       "text": [
        "\r",
        " 17%|\u2588\u258b        | 113/670 [00:09<00:46, 12.01it/s]"
       ]
      },
      {
       "output_type": "stream",
       "stream": "stderr",
       "text": [
        "\r",
        " 17%|\u2588\u258b        | 117/670 [00:09<00:44, 12.30it/s]"
       ]
      },
      {
       "output_type": "stream",
       "stream": "stderr",
       "text": [
        "\r",
        " 18%|\u2588\u258a        | 120/670 [00:09<00:44, 12.23it/s]"
       ]
      },
      {
       "output_type": "stream",
       "stream": "stderr",
       "text": [
        "\r",
        " 18%|\u2588\u258a        | 123/670 [00:09<00:44, 12.36it/s]"
       ]
      },
      {
       "output_type": "stream",
       "stream": "stderr",
       "text": [
        "\r",
        " 19%|\u2588\u2589        | 126/670 [00:10<00:43, 12.48it/s]"
       ]
      },
      {
       "output_type": "stream",
       "stream": "stderr",
       "text": [
        "\r",
        " 19%|\u2588\u2589        | 129/670 [00:10<00:42, 12.65it/s]"
       ]
      },
      {
       "output_type": "stream",
       "stream": "stderr",
       "text": [
        "\r",
        " 20%|\u2588\u2589        | 133/670 [00:10<00:41, 12.90it/s]"
       ]
      },
      {
       "output_type": "stream",
       "stream": "stderr",
       "text": [
        "\r",
        " 20%|\u2588\u2588        | 137/670 [00:10<00:40, 13.16it/s]"
       ]
      },
      {
       "output_type": "stream",
       "stream": "stderr",
       "text": [
        "\r",
        " 21%|\u2588\u2588        | 141/670 [00:10<00:40, 13.06it/s]"
       ]
      },
      {
       "output_type": "stream",
       "stream": "stderr",
       "text": [
        "\r",
        " 21%|\u2588\u2588\u258f       | 144/670 [00:11<00:40, 12.84it/s]"
       ]
      },
      {
       "output_type": "stream",
       "stream": "stderr",
       "text": [
        "\r",
        " 22%|\u2588\u2588\u258f       | 148/670 [00:11<00:40, 13.05it/s]"
       ]
      },
      {
       "output_type": "stream",
       "stream": "stderr",
       "text": [
        "\r",
        " 23%|\u2588\u2588\u258e       | 151/670 [00:11<00:39, 13.19it/s]"
       ]
      },
      {
       "output_type": "stream",
       "stream": "stderr",
       "text": [
        "\r",
        " 23%|\u2588\u2588\u258e       | 155/670 [00:11<00:38, 13.40it/s]"
       ]
      },
      {
       "output_type": "stream",
       "stream": "stderr",
       "text": [
        "\r",
        " 24%|\u2588\u2588\u258e       | 159/670 [00:11<00:37, 13.55it/s]"
       ]
      },
      {
       "output_type": "stream",
       "stream": "stderr",
       "text": [
        "\r",
        " 24%|\u2588\u2588\u258d       | 162/670 [00:12<00:37, 13.39it/s]"
       ]
      },
      {
       "output_type": "stream",
       "stream": "stderr",
       "text": [
        "\r",
        " 25%|\u2588\u2588\u258d       | 165/670 [00:12<00:38, 13.15it/s]"
       ]
      },
      {
       "output_type": "stream",
       "stream": "stderr",
       "text": [
        "\r",
        " 25%|\u2588\u2588\u258c       | 169/670 [00:12<00:37, 13.36it/s]"
       ]
      },
      {
       "output_type": "stream",
       "stream": "stderr",
       "text": [
        "\r",
        " 26%|\u2588\u2588\u258c       | 172/670 [00:13<00:39, 12.75it/s]"
       ]
      },
      {
       "output_type": "stream",
       "stream": "stderr",
       "text": [
        "\r",
        " 26%|\u2588\u2588\u258c       | 174/670 [00:13<00:38, 12.75it/s]"
       ]
      },
      {
       "output_type": "stream",
       "stream": "stderr",
       "text": [
        "\r",
        " 26%|\u2588\u2588\u258b       | 176/670 [00:13<00:38, 12.78it/s]"
       ]
      },
      {
       "output_type": "stream",
       "stream": "stderr",
       "text": [
        "\r",
        " 27%|\u2588\u2588\u258b       | 179/670 [00:14<00:38, 12.64it/s]"
       ]
      },
      {
       "output_type": "stream",
       "stream": "stderr",
       "text": [
        "\r",
        " 27%|\u2588\u2588\u258b       | 184/670 [00:14<00:37, 12.86it/s]"
       ]
      },
      {
       "output_type": "stream",
       "stream": "stderr",
       "text": [
        "\r",
        " 28%|\u2588\u2588\u258a       | 189/670 [00:14<00:36, 13.12it/s]"
       ]
      },
      {
       "output_type": "stream",
       "stream": "stderr",
       "text": [
        "\r",
        " 29%|\u2588\u2588\u2589       | 193/670 [00:14<00:36, 13.20it/s]"
       ]
      },
      {
       "output_type": "stream",
       "stream": "stderr",
       "text": [
        "\r",
        " 29%|\u2588\u2588\u2589       | 197/670 [00:14<00:35, 13.37it/s]"
       ]
      },
      {
       "output_type": "stream",
       "stream": "stderr",
       "text": [
        "\r",
        " 30%|\u2588\u2588\u2589       | 200/670 [00:14<00:34, 13.48it/s]"
       ]
      },
      {
       "output_type": "stream",
       "stream": "stderr",
       "text": [
        "\r",
        " 30%|\u2588\u2588\u2588       | 203/670 [00:15<00:35, 13.29it/s]"
       ]
      },
      {
       "output_type": "stream",
       "stream": "stderr",
       "text": [
        "\r",
        " 31%|\u2588\u2588\u2588       | 206/670 [00:15<00:35, 13.09it/s]"
       ]
      },
      {
       "output_type": "stream",
       "stream": "stderr",
       "text": [
        "\r",
        " 31%|\u2588\u2588\u2588       | 208/670 [00:16<00:36, 12.52it/s]"
       ]
      },
      {
       "output_type": "stream",
       "stream": "stderr",
       "text": [
        "\r",
        " 31%|\u2588\u2588\u2588\u258f      | 211/670 [00:16<00:36, 12.56it/s]"
       ]
      },
      {
       "output_type": "stream",
       "stream": "stderr",
       "text": [
        "\r",
        " 32%|\u2588\u2588\u2588\u258f      | 217/670 [00:17<00:36, 12.26it/s]"
       ]
      },
      {
       "output_type": "stream",
       "stream": "stderr",
       "text": [
        "\r",
        " 33%|\u2588\u2588\u2588\u258e      | 219/670 [00:18<00:37, 12.17it/s]"
       ]
      },
      {
       "output_type": "stream",
       "stream": "stderr",
       "text": [
        "\r",
        " 33%|\u2588\u2588\u2588\u258e      | 221/670 [00:19<00:38, 11.63it/s]"
       ]
      },
      {
       "output_type": "stream",
       "stream": "stderr",
       "text": [
        "\r",
        " 33%|\u2588\u2588\u2588\u258e      | 224/670 [00:19<00:38, 11.72it/s]"
       ]
      },
      {
       "output_type": "stream",
       "stream": "stderr",
       "text": [
        "\r",
        " 34%|\u2588\u2588\u2588\u258d      | 228/670 [00:19<00:37, 11.86it/s]"
       ]
      },
      {
       "output_type": "stream",
       "stream": "stderr",
       "text": [
        "\r",
        " 35%|\u2588\u2588\u2588\u258d      | 233/670 [00:19<00:36, 12.05it/s]"
       ]
      },
      {
       "output_type": "stream",
       "stream": "stderr",
       "text": [
        "\r",
        " 35%|\u2588\u2588\u2588\u258c      | 237/670 [00:19<00:35, 12.19it/s]"
       ]
      },
      {
       "output_type": "stream",
       "stream": "stderr",
       "text": [
        "\r",
        " 36%|\u2588\u2588\u2588\u258c      | 241/670 [00:20<00:35, 12.00it/s]"
       ]
      },
      {
       "output_type": "stream",
       "stream": "stderr",
       "text": [
        "\r",
        " 36%|\u2588\u2588\u2588\u258b      | 244/670 [00:20<00:35, 12.04it/s]"
       ]
      },
      {
       "output_type": "stream",
       "stream": "stderr",
       "text": [
        "\r",
        " 37%|\u2588\u2588\u2588\u258b      | 247/670 [00:20<00:34, 12.12it/s]"
       ]
      },
      {
       "output_type": "stream",
       "stream": "stderr",
       "text": [
        "\r",
        " 37%|\u2588\u2588\u2588\u258b      | 250/670 [00:21<00:35, 11.90it/s]"
       ]
      },
      {
       "output_type": "stream",
       "stream": "stderr",
       "text": [
        "\r",
        " 38%|\u2588\u2588\u2588\u258a      | 252/670 [00:21<00:35, 11.72it/s]"
       ]
      },
      {
       "output_type": "stream",
       "stream": "stderr",
       "text": [
        "\r",
        " 38%|\u2588\u2588\u2588\u258a      | 254/670 [00:21<00:35, 11.61it/s]"
       ]
      },
      {
       "output_type": "stream",
       "stream": "stderr",
       "text": [
        "\r",
        " 39%|\u2588\u2588\u2588\u258a      | 258/670 [00:21<00:35, 11.73it/s]"
       ]
      },
      {
       "output_type": "stream",
       "stream": "stderr",
       "text": [
        "\r",
        " 39%|\u2588\u2588\u2588\u2589      | 261/670 [00:22<00:34, 11.81it/s]"
       ]
      },
      {
       "output_type": "stream",
       "stream": "stderr",
       "text": [
        "\r",
        " 39%|\u2588\u2588\u2588\u2589      | 264/670 [00:22<00:34, 11.68it/s]"
       ]
      },
      {
       "output_type": "stream",
       "stream": "stderr",
       "text": [
        "\r",
        " 40%|\u2588\u2588\u2588\u2589      | 267/670 [00:22<00:34, 11.75it/s]"
       ]
      },
      {
       "output_type": "stream",
       "stream": "stderr",
       "text": [
        "\r",
        " 40%|\u2588\u2588\u2588\u2588      | 269/670 [00:22<00:34, 11.79it/s]"
       ]
      },
      {
       "output_type": "stream",
       "stream": "stderr",
       "text": [
        "\r",
        " 41%|\u2588\u2588\u2588\u2588      | 274/670 [00:22<00:33, 11.95it/s]"
       ]
      },
      {
       "output_type": "stream",
       "stream": "stderr",
       "text": [
        "\r",
        " 41%|\u2588\u2588\u2588\u2588\u258f     | 277/670 [00:23<00:32, 12.00it/s]"
       ]
      },
      {
       "output_type": "stream",
       "stream": "stderr",
       "text": [
        "\r",
        " 42%|\u2588\u2588\u2588\u2588\u258f     | 282/670 [00:23<00:31, 12.14it/s]"
       ]
      },
      {
       "output_type": "stream",
       "stream": "stderr",
       "text": [
        "\r",
        " 43%|\u2588\u2588\u2588\u2588\u258e     | 286/670 [00:23<00:31, 12.09it/s]"
       ]
      },
      {
       "output_type": "stream",
       "stream": "stderr",
       "text": [
        "\r",
        " 43%|\u2588\u2588\u2588\u2588\u258e     | 289/670 [00:24<00:31, 11.91it/s]"
       ]
      },
      {
       "output_type": "stream",
       "stream": "stderr",
       "text": [
        "\r",
        " 44%|\u2588\u2588\u2588\u2588\u258e     | 292/670 [00:24<00:31, 11.96it/s]"
       ]
      },
      {
       "output_type": "stream",
       "stream": "stderr",
       "text": [
        "\r",
        " 44%|\u2588\u2588\u2588\u2588\u258d     | 297/670 [00:24<00:30, 12.10it/s]"
       ]
      },
      {
       "output_type": "stream",
       "stream": "stderr",
       "text": [
        "\r",
        " 45%|\u2588\u2588\u2588\u2588\u258d     | 300/670 [00:25<00:31, 11.83it/s]"
       ]
      },
      {
       "output_type": "stream",
       "stream": "stderr",
       "text": [
        "\r",
        " 45%|\u2588\u2588\u2588\u2588\u258c     | 302/670 [00:25<00:31, 11.87it/s]"
       ]
      },
      {
       "output_type": "stream",
       "stream": "stderr",
       "text": [
        "\r",
        " 46%|\u2588\u2588\u2588\u2588\u258c     | 306/670 [00:25<00:30, 11.97it/s]"
       ]
      },
      {
       "output_type": "stream",
       "stream": "stderr",
       "text": [
        "\r",
        " 46%|\u2588\u2588\u2588\u2588\u258c     | 309/670 [00:25<00:30, 11.89it/s]"
       ]
      },
      {
       "output_type": "stream",
       "stream": "stderr",
       "text": [
        "\r",
        " 47%|\u2588\u2588\u2588\u2588\u258b     | 312/670 [00:26<00:30, 11.86it/s]"
       ]
      },
      {
       "output_type": "stream",
       "stream": "stderr",
       "text": [
        "\r",
        " 47%|\u2588\u2588\u2588\u2588\u258b     | 315/670 [00:26<00:29, 11.93it/s]"
       ]
      },
      {
       "output_type": "stream",
       "stream": "stderr",
       "text": [
        "\r",
        " 48%|\u2588\u2588\u2588\u2588\u258a     | 319/670 [00:26<00:29, 12.03it/s]"
       ]
      },
      {
       "output_type": "stream",
       "stream": "stderr",
       "text": [
        "\r",
        " 48%|\u2588\u2588\u2588\u2588\u258a     | 322/670 [00:26<00:28, 12.09it/s]"
       ]
      },
      {
       "output_type": "stream",
       "stream": "stderr",
       "text": [
        "\r",
        " 49%|\u2588\u2588\u2588\u2588\u2589     | 328/670 [00:26<00:27, 12.26it/s]"
       ]
      },
      {
       "output_type": "stream",
       "stream": "stderr",
       "text": [
        "\r",
        " 50%|\u2588\u2588\u2588\u2588\u2589     | 332/670 [00:27<00:28, 12.04it/s]"
       ]
      },
      {
       "output_type": "stream",
       "stream": "stderr",
       "text": [
        "\r",
        " 50%|\u2588\u2588\u2588\u2588\u2588     | 335/670 [00:27<00:27, 12.06it/s]"
       ]
      },
      {
       "output_type": "stream",
       "stream": "stderr",
       "text": [
        "\r",
        " 51%|\u2588\u2588\u2588\u2588\u2588     | 342/670 [00:27<00:26, 12.27it/s]"
       ]
      },
      {
       "output_type": "stream",
       "stream": "stderr",
       "text": [
        "\r",
        " 52%|\u2588\u2588\u2588\u2588\u2588\u258f    | 346/670 [00:28<00:26, 12.26it/s]"
       ]
      },
      {
       "output_type": "stream",
       "stream": "stderr",
       "text": [
        "\r",
        " 53%|\u2588\u2588\u2588\u2588\u2588\u258e    | 354/670 [00:28<00:25, 12.50it/s]"
       ]
      },
      {
       "output_type": "stream",
       "stream": "stderr",
       "text": [
        "\r",
        " 54%|\u2588\u2588\u2588\u2588\u2588\u258e    | 359/670 [00:29<00:25, 12.26it/s]"
       ]
      },
      {
       "output_type": "stream",
       "stream": "stderr",
       "text": [
        "\r",
        " 54%|\u2588\u2588\u2588\u2588\u2588\u258d    | 363/670 [00:29<00:24, 12.33it/s]"
       ]
      },
      {
       "output_type": "stream",
       "stream": "stderr",
       "text": [
        "\r",
        " 55%|\u2588\u2588\u2588\u2588\u2588\u258d    | 366/670 [00:29<00:24, 12.39it/s]"
       ]
      },
      {
       "output_type": "stream",
       "stream": "stderr",
       "text": [
        "\r",
        " 55%|\u2588\u2588\u2588\u2588\u2588\u258c    | 371/670 [00:30<00:24, 12.32it/s]"
       ]
      },
      {
       "output_type": "stream",
       "stream": "stderr",
       "text": [
        "\r",
        " 56%|\u2588\u2588\u2588\u2588\u2588\u258c    | 375/670 [00:30<00:23, 12.41it/s]"
       ]
      },
      {
       "output_type": "stream",
       "stream": "stderr",
       "text": [
        "\r",
        " 57%|\u2588\u2588\u2588\u2588\u2588\u258b    | 382/670 [00:30<00:22, 12.59it/s]"
       ]
      },
      {
       "output_type": "stream",
       "stream": "stderr",
       "text": [
        "\r",
        " 58%|\u2588\u2588\u2588\u2588\u2588\u258a    | 386/670 [00:30<00:22, 12.65it/s]"
       ]
      },
      {
       "output_type": "stream",
       "stream": "stderr",
       "text": [
        "\r",
        " 58%|\u2588\u2588\u2588\u2588\u2588\u258a    | 390/670 [00:31<00:22, 12.45it/s]"
       ]
      },
      {
       "output_type": "stream",
       "stream": "stderr",
       "text": [
        "\r",
        " 59%|\u2588\u2588\u2588\u2588\u2588\u2589    | 396/670 [00:31<00:21, 12.58it/s]"
       ]
      },
      {
       "output_type": "stream",
       "stream": "stderr",
       "text": [
        "\r",
        " 60%|\u2588\u2588\u2588\u2588\u2588\u2589    | 400/670 [00:31<00:21, 12.66it/s]"
       ]
      },
      {
       "output_type": "stream",
       "stream": "stderr",
       "text": [
        "\r",
        " 60%|\u2588\u2588\u2588\u2588\u2588\u2588    | 404/670 [00:31<00:20, 12.75it/s]"
       ]
      },
      {
       "output_type": "stream",
       "stream": "stderr",
       "text": [
        "\r",
        " 61%|\u2588\u2588\u2588\u2588\u2588\u2588    | 408/670 [00:31<00:20, 12.75it/s]"
       ]
      },
      {
       "output_type": "stream",
       "stream": "stderr",
       "text": [
        "\r",
        " 61%|\u2588\u2588\u2588\u2588\u2588\u2588\u258f   | 412/670 [00:33<00:21, 12.27it/s]"
       ]
      },
      {
       "output_type": "stream",
       "stream": "stderr",
       "text": [
        "\r",
        " 62%|\u2588\u2588\u2588\u2588\u2588\u2588\u258f   | 417/670 [00:33<00:20, 12.36it/s]"
       ]
      },
      {
       "output_type": "stream",
       "stream": "stderr",
       "text": [
        "\r",
        " 63%|\u2588\u2588\u2588\u2588\u2588\u2588\u258e   | 422/670 [00:33<00:19, 12.44it/s]"
       ]
      },
      {
       "output_type": "stream",
       "stream": "stderr",
       "text": [
        "\r",
        " 64%|\u2588\u2588\u2588\u2588\u2588\u2588\u258e   | 427/670 [00:34<00:19, 12.45it/s]"
       ]
      },
      {
       "output_type": "stream",
       "stream": "stderr",
       "text": [
        "\r",
        " 64%|\u2588\u2588\u2588\u2588\u2588\u2588\u258d   | 430/670 [00:34<00:19, 12.50it/s]"
       ]
      },
      {
       "output_type": "stream",
       "stream": "stderr",
       "text": [
        "\r",
        " 65%|\u2588\u2588\u2588\u2588\u2588\u2588\u258d   | 433/670 [00:34<00:19, 12.45it/s]"
       ]
      },
      {
       "output_type": "stream",
       "stream": "stderr",
       "text": [
        "\r",
        " 65%|\u2588\u2588\u2588\u2588\u2588\u2588\u258d   | 435/670 [00:35<00:18, 12.38it/s]"
       ]
      },
      {
       "output_type": "stream",
       "stream": "stderr",
       "text": [
        "\r",
        " 66%|\u2588\u2588\u2588\u2588\u2588\u2588\u258c   | 439/670 [00:35<00:18, 12.36it/s]"
       ]
      },
      {
       "output_type": "stream",
       "stream": "stderr",
       "text": [
        "\r",
        " 66%|\u2588\u2588\u2588\u2588\u2588\u2588\u258b   | 444/670 [00:35<00:18, 12.46it/s]"
       ]
      },
      {
       "output_type": "stream",
       "stream": "stderr",
       "text": [
        "\r",
        " 67%|\u2588\u2588\u2588\u2588\u2588\u2588\u258b   | 447/670 [00:35<00:17, 12.46it/s]"
       ]
      },
      {
       "output_type": "stream",
       "stream": "stderr",
       "text": [
        "\r",
        " 67%|\u2588\u2588\u2588\u2588\u2588\u2588\u258b   | 449/670 [00:36<00:17, 12.35it/s]"
       ]
      },
      {
       "output_type": "stream",
       "stream": "stderr",
       "text": [
        "\r",
        " 67%|\u2588\u2588\u2588\u2588\u2588\u2588\u258b   | 451/670 [00:36<00:17, 12.29it/s]"
       ]
      },
      {
       "output_type": "stream",
       "stream": "stderr",
       "text": [
        "\r",
        " 68%|\u2588\u2588\u2588\u2588\u2588\u2588\u258a   | 453/670 [00:36<00:17, 12.29it/s]"
       ]
      },
      {
       "output_type": "stream",
       "stream": "stderr",
       "text": [
        "\r",
        " 68%|\u2588\u2588\u2588\u2588\u2588\u2588\u258a   | 455/670 [00:38<00:18, 11.87it/s]"
       ]
      },
      {
       "output_type": "stream",
       "stream": "stderr",
       "text": [
        "\r",
        " 69%|\u2588\u2588\u2588\u2588\u2588\u2588\u258a   | 459/670 [00:38<00:17, 11.94it/s]"
       ]
      },
      {
       "output_type": "stream",
       "stream": "stderr",
       "text": [
        "\r",
        " 69%|\u2588\u2588\u2588\u2588\u2588\u2588\u2589   | 461/670 [00:38<00:17, 11.95it/s]"
       ]
      },
      {
       "output_type": "stream",
       "stream": "stderr",
       "text": [
        "\r",
        " 69%|\u2588\u2588\u2588\u2588\u2588\u2588\u2589   | 465/670 [00:38<00:17, 12.02it/s]"
       ]
      },
      {
       "output_type": "stream",
       "stream": "stderr",
       "text": [
        "\r",
        " 70%|\u2588\u2588\u2588\u2588\u2588\u2588\u2588   | 470/670 [00:38<00:16, 12.11it/s]"
       ]
      },
      {
       "output_type": "stream",
       "stream": "stderr",
       "text": [
        "\r",
        " 71%|\u2588\u2588\u2588\u2588\u2588\u2588\u2588   | 473/670 [00:39<00:16, 12.08it/s]"
       ]
      },
      {
       "output_type": "stream",
       "stream": "stderr",
       "text": [
        "\r",
        " 71%|\u2588\u2588\u2588\u2588\u2588\u2588\u2588   | 476/670 [00:39<00:16, 12.11it/s]"
       ]
      },
      {
       "output_type": "stream",
       "stream": "stderr",
       "text": [
        "\r",
        " 72%|\u2588\u2588\u2588\u2588\u2588\u2588\u2588\u258f  | 482/670 [00:39<00:15, 12.11it/s]"
       ]
      },
      {
       "output_type": "stream",
       "stream": "stderr",
       "text": [
        "\r",
        " 73%|\u2588\u2588\u2588\u2588\u2588\u2588\u2588\u258e  | 487/670 [00:40<00:15, 12.15it/s]"
       ]
      },
      {
       "output_type": "stream",
       "stream": "stderr",
       "text": [
        "\r",
        " 73%|\u2588\u2588\u2588\u2588\u2588\u2588\u2588\u258e  | 492/670 [00:40<00:14, 12.25it/s]"
       ]
      },
      {
       "output_type": "stream",
       "stream": "stderr",
       "text": [
        "\r",
        " 74%|\u2588\u2588\u2588\u2588\u2588\u2588\u2588\u258d  | 495/670 [00:40<00:14, 12.23it/s]"
       ]
      },
      {
       "output_type": "stream",
       "stream": "stderr",
       "text": [
        "\r",
        " 74%|\u2588\u2588\u2588\u2588\u2588\u2588\u2588\u258d  | 498/670 [00:40<00:14, 12.21it/s]"
       ]
      },
      {
       "output_type": "stream",
       "stream": "stderr",
       "text": [
        "\r",
        " 75%|\u2588\u2588\u2588\u2588\u2588\u2588\u2588\u258c  | 504/670 [00:40<00:13, 12.32it/s]"
       ]
      },
      {
       "output_type": "stream",
       "stream": "stderr",
       "text": [
        "\r",
        " 76%|\u2588\u2588\u2588\u2588\u2588\u2588\u2588\u258c  | 509/670 [00:41<00:12, 12.40it/s]"
       ]
      },
      {
       "output_type": "stream",
       "stream": "stderr",
       "text": [
        "\r",
        " 77%|\u2588\u2588\u2588\u2588\u2588\u2588\u2588\u258b  | 513/670 [00:41<00:12, 12.47it/s]"
       ]
      },
      {
       "output_type": "stream",
       "stream": "stderr",
       "text": [
        "\r",
        " 77%|\u2588\u2588\u2588\u2588\u2588\u2588\u2588\u258b  | 517/670 [00:41<00:12, 12.38it/s]"
       ]
      },
      {
       "output_type": "stream",
       "stream": "stderr",
       "text": [
        "\r",
        " 78%|\u2588\u2588\u2588\u2588\u2588\u2588\u2588\u258a  | 520/670 [00:42<00:12, 12.16it/s]"
       ]
      },
      {
       "output_type": "stream",
       "stream": "stderr",
       "text": [
        "\r",
        " 78%|\u2588\u2588\u2588\u2588\u2588\u2588\u2588\u258a  | 523/670 [00:42<00:12, 12.20it/s]"
       ]
      },
      {
       "output_type": "stream",
       "stream": "stderr",
       "text": [
        "\r",
        " 79%|\u2588\u2588\u2588\u2588\u2588\u2588\u2588\u258a  | 526/670 [00:42<00:11, 12.24it/s]"
       ]
      },
      {
       "output_type": "stream",
       "stream": "stderr",
       "text": [
        "\r",
        " 79%|\u2588\u2588\u2588\u2588\u2588\u2588\u2588\u2589  | 529/670 [00:43<00:11, 12.25it/s]"
       ]
      },
      {
       "output_type": "stream",
       "stream": "stderr",
       "text": [
        "\r",
        " 79%|\u2588\u2588\u2588\u2588\u2588\u2588\u2588\u2589  | 532/670 [00:44<00:11, 12.03it/s]"
       ]
      },
      {
       "output_type": "stream",
       "stream": "stderr",
       "text": [
        "\r",
        " 80%|\u2588\u2588\u2588\u2588\u2588\u2588\u2588\u2589  | 534/670 [00:44<00:11, 11.98it/s]"
       ]
      },
      {
       "output_type": "stream",
       "stream": "stderr",
       "text": [
        "\r",
        " 80%|\u2588\u2588\u2588\u2588\u2588\u2588\u2588\u2588  | 538/670 [00:44<00:10, 12.04it/s]"
       ]
      },
      {
       "output_type": "stream",
       "stream": "stderr",
       "text": [
        "\r",
        " 81%|\u2588\u2588\u2588\u2588\u2588\u2588\u2588\u2588  | 542/670 [00:44<00:10, 12.11it/s]"
       ]
      },
      {
       "output_type": "stream",
       "stream": "stderr",
       "text": [
        "\r",
        " 82%|\u2588\u2588\u2588\u2588\u2588\u2588\u2588\u2588\u258f | 548/670 [00:44<00:09, 12.20it/s]"
       ]
      },
      {
       "output_type": "stream",
       "stream": "stderr",
       "text": [
        "\r",
        " 83%|\u2588\u2588\u2588\u2588\u2588\u2588\u2588\u2588\u258e | 555/670 [00:45<00:09, 12.33it/s]"
       ]
      },
      {
       "output_type": "stream",
       "stream": "stderr",
       "text": [
        "\r",
        " 84%|\u2588\u2588\u2588\u2588\u2588\u2588\u2588\u2588\u258e | 560/670 [00:45<00:08, 12.33it/s]"
       ]
      },
      {
       "output_type": "stream",
       "stream": "stderr",
       "text": [
        "\r",
        " 84%|\u2588\u2588\u2588\u2588\u2588\u2588\u2588\u2588\u258d | 565/670 [00:45<00:08, 12.41it/s]"
       ]
      },
      {
       "output_type": "stream",
       "stream": "stderr",
       "text": [
        "\r",
        " 85%|\u2588\u2588\u2588\u2588\u2588\u2588\u2588\u2588\u258d | 569/670 [00:46<00:08, 12.36it/s]"
       ]
      },
      {
       "output_type": "stream",
       "stream": "stderr",
       "text": [
        "\r",
        " 86%|\u2588\u2588\u2588\u2588\u2588\u2588\u2588\u2588\u258c | 573/670 [00:46<00:07, 12.42it/s]"
       ]
      },
      {
       "output_type": "stream",
       "stream": "stderr",
       "text": [
        "\r",
        " 86%|\u2588\u2588\u2588\u2588\u2588\u2588\u2588\u2588\u258c | 577/670 [00:46<00:07, 12.40it/s]"
       ]
      },
      {
       "output_type": "stream",
       "stream": "stderr",
       "text": [
        "\r",
        " 87%|\u2588\u2588\u2588\u2588\u2588\u2588\u2588\u2588\u258b | 581/670 [00:46<00:07, 12.44it/s]"
       ]
      },
      {
       "output_type": "stream",
       "stream": "stderr",
       "text": [
        "\r",
        " 87%|\u2588\u2588\u2588\u2588\u2588\u2588\u2588\u2588\u258b | 586/670 [00:46<00:06, 12.52it/s]"
       ]
      },
      {
       "output_type": "stream",
       "stream": "stderr",
       "text": [
        "\r",
        " 88%|\u2588\u2588\u2588\u2588\u2588\u2588\u2588\u2588\u258a | 590/670 [00:46<00:06, 12.56it/s]"
       ]
      },
      {
       "output_type": "stream",
       "stream": "stderr",
       "text": [
        "\r",
        " 89%|\u2588\u2588\u2588\u2588\u2588\u2588\u2588\u2588\u258a | 594/670 [00:47<00:06, 12.55it/s]"
       ]
      },
      {
       "output_type": "stream",
       "stream": "stderr",
       "text": [
        "\r",
        " 89%|\u2588\u2588\u2588\u2588\u2588\u2588\u2588\u2588\u2589 | 598/670 [00:47<00:05, 12.60it/s]"
       ]
      },
      {
       "output_type": "stream",
       "stream": "stderr",
       "text": [
        "\r",
        " 90%|\u2588\u2588\u2588\u2588\u2588\u2588\u2588\u2588\u2589 | 601/670 [00:47<00:05, 12.57it/s]"
       ]
      },
      {
       "output_type": "stream",
       "stream": "stderr",
       "text": [
        "\r",
        " 90%|\u2588\u2588\u2588\u2588\u2588\u2588\u2588\u2588\u2588 | 605/670 [00:47<00:05, 12.62it/s]"
       ]
      },
      {
       "output_type": "stream",
       "stream": "stderr",
       "text": [
        "\r",
        " 91%|\u2588\u2588\u2588\u2588\u2588\u2588\u2588\u2588\u2588 | 611/670 [00:48<00:04, 12.72it/s]"
       ]
      },
      {
       "output_type": "stream",
       "stream": "stderr",
       "text": [
        "\r",
        " 92%|\u2588\u2588\u2588\u2588\u2588\u2588\u2588\u2588\u2588\u258f| 615/670 [00:48<00:04, 12.69it/s]"
       ]
      },
      {
       "output_type": "stream",
       "stream": "stderr",
       "text": [
        "\r",
        " 92%|\u2588\u2588\u2588\u2588\u2588\u2588\u2588\u2588\u2588\u258f| 618/670 [00:48<00:04, 12.72it/s]"
       ]
      },
      {
       "output_type": "stream",
       "stream": "stderr",
       "text": [
        "\r",
        " 93%|\u2588\u2588\u2588\u2588\u2588\u2588\u2588\u2588\u2588\u258e| 621/670 [00:48<00:03, 12.75it/s]"
       ]
      },
      {
       "output_type": "stream",
       "stream": "stderr",
       "text": [
        "\r",
        " 93%|\u2588\u2588\u2588\u2588\u2588\u2588\u2588\u2588\u2588\u258e| 625/670 [00:49<00:03, 12.59it/s]"
       ]
      },
      {
       "output_type": "stream",
       "stream": "stderr",
       "text": [
        "\r",
        " 94%|\u2588\u2588\u2588\u2588\u2588\u2588\u2588\u2588\u2588\u258d| 630/670 [00:50<00:03, 12.59it/s]"
       ]
      },
      {
       "output_type": "stream",
       "stream": "stderr",
       "text": [
        "\r",
        " 95%|\u2588\u2588\u2588\u2588\u2588\u2588\u2588\u2588\u2588\u258d| 635/670 [00:50<00:02, 12.56it/s]"
       ]
      },
      {
       "output_type": "stream",
       "stream": "stderr",
       "text": [
        "\r",
        " 95%|\u2588\u2588\u2588\u2588\u2588\u2588\u2588\u2588\u2588\u258c| 638/670 [00:50<00:02, 12.60it/s]"
       ]
      },
      {
       "output_type": "stream",
       "stream": "stderr",
       "text": [
        "\r",
        " 96%|\u2588\u2588\u2588\u2588\u2588\u2588\u2588\u2588\u2588\u258c| 642/670 [00:50<00:02, 12.65it/s]"
       ]
      },
      {
       "output_type": "stream",
       "stream": "stderr",
       "text": [
        "\r",
        " 96%|\u2588\u2588\u2588\u2588\u2588\u2588\u2588\u2588\u2588\u258b| 646/670 [00:50<00:01, 12.70it/s]"
       ]
      },
      {
       "output_type": "stream",
       "stream": "stderr",
       "text": [
        "\r",
        " 97%|\u2588\u2588\u2588\u2588\u2588\u2588\u2588\u2588\u2588\u258b| 649/670 [00:51<00:01, 12.72it/s]"
       ]
      },
      {
       "output_type": "stream",
       "stream": "stderr",
       "text": [
        "\r",
        " 97%|\u2588\u2588\u2588\u2588\u2588\u2588\u2588\u2588\u2588\u258b| 653/670 [00:51<00:01, 12.77it/s]"
       ]
      },
      {
       "output_type": "stream",
       "stream": "stderr",
       "text": [
        "\r",
        " 98%|\u2588\u2588\u2588\u2588\u2588\u2588\u2588\u2588\u2588\u258a| 656/670 [00:51<00:01, 12.79it/s]"
       ]
      },
      {
       "output_type": "stream",
       "stream": "stderr",
       "text": [
        "\r",
        " 99%|\u2588\u2588\u2588\u2588\u2588\u2588\u2588\u2588\u2588\u258a| 660/670 [00:51<00:00, 12.80it/s]"
       ]
      },
      {
       "output_type": "stream",
       "stream": "stderr",
       "text": [
        "\r",
        " 99%|\u2588\u2588\u2588\u2588\u2588\u2588\u2588\u2588\u2588\u2589| 665/670 [00:51<00:00, 12.86it/s]"
       ]
      },
      {
       "output_type": "stream",
       "stream": "stderr",
       "text": [
        "\r",
        "100%|\u2588\u2588\u2588\u2588\u2588\u2588\u2588\u2588\u2588\u2589| 668/670 [00:51<00:00, 12.90it/s]"
       ]
      },
      {
       "output_type": "stream",
       "stream": "stderr",
       "text": [
        "\r",
        "100%|\u2588\u2588\u2588\u2588\u2588\u2588\u2588\u2588\u2588\u2588| 670/670 [00:51<00:00, 12.93it/s]"
       ]
      },
      {
       "output_type": "stream",
       "stream": "stderr",
       "text": [
        "\n"
       ]
      }
     ],
     "prompt_number": 2
    },
    {
     "cell_type": "code",
     "collapsed": false,
     "input": [
      "from sklearn.model_selection import train_test_split\n",
      "from skimage import color\n",
      "\n",
      "def normalize_image(img):\n",
      "    img = np.array(img / np.mean(img))\n",
      "    img = color.rgb2gray(img)\n",
      "    return img\n",
      "\n",
      "print X_train_no_resize[1].shape\n",
      "X_train_no_resize_grey = [normalize_image(i).reshape([i.shape[0]*i.shape[1],1])\n",
      "                     for i in X_train_no_resize]\n",
      "Y_train_no_resize = [i.reshape([i.shape[0]*i.shape[1],1])\n",
      "                     for i in Y_train_no_resize]\n",
      "print X_train_no_resize_grey[1].shape\n",
      "print Y_train_no_resize[1].shape"
     ],
     "language": "python",
     "metadata": {},
     "outputs": [
      {
       "output_type": "stream",
       "stream": "stdout",
       "text": [
        "(256, 256, 3)\n",
        "(65536, 1)"
       ]
      },
      {
       "output_type": "stream",
       "stream": "stdout",
       "text": [
        "\n",
        "(65536, 1)\n"
       ]
      }
     ],
     "prompt_number": 88
    },
    {
     "cell_type": "code",
     "collapsed": false,
     "input": [
      "# runnning this tab will add 4 more feature to your feature set (up, down, left, right pixel value), making it 5 \n",
      "# features in total\n",
      "\n",
      "for i in range(len(X_train_no_resize)):\n",
      "    image = normalize_image(X_train_no_resize[i])\n",
      "\n",
      "    h, w = image.shape\n",
      "    top = np.vstack([np.zeros([1,w]),image])[0:h,].flatten().reshape(-1,1)\n",
      "    down = np.vstack([image,np.zeros([1,w])])[1:h+1,].flatten().reshape(-1,1)\n",
      "    left = np.hstack([np.zeros([h,1]),image])[:,0:w].flatten().reshape(-1,1)\n",
      "    right = np.hstack([image,np.zeros([h,1])])[:,1:w+1].flatten().reshape(-1,1)\n",
      "    \n",
      "#     print X_train_no_resize_grey[i].shape, top.shape, down.shape, left.shape, right.shape\n",
      "    X_train_no_resize_grey[i] = np.hstack([X_train_no_resize_grey[i], top, down, left, right])\n",
      "#     print \"after \",X_train_no_resize_grey[i].shape\n",
      "    "
     ],
     "language": "python",
     "metadata": {},
     "outputs": [],
     "prompt_number": 89
    },
    {
     "cell_type": "code",
     "collapsed": false,
     "input": [
      "X_stack = X_train_no_resize_grey[0]\n",
      "y_stack = Y_train_no_resize[0]\n",
      "\n",
      "SUBSET_IMAGES_SIZE=15\n",
      "\n",
      "for i in range(1,len(X_train_no_resize_grey[:SUBSET_IMAGES_SIZE])):\n",
      "    X_stack = np.vstack((X_stack, X_train_no_resize_grey[i]))\n",
      "    y_stack = np.vstack((y_stack, Y_train_no_resize[i]))\n",
      "\n",
      "for i in range(y_stack.shape[0]):\n",
      "    y_stack[i] = int(y_stack[i]==255)\n",
      "\n",
      "print X_stack.shape\n",
      "print y_stack.shape\n",
      "X_train, X_test, y_train, y_test = train_test_split(X_stack, y_stack, test_size=0.2, random_state=seed)\n",
      "print X_train.shape, X_test.shape, y_train.shape, y_test.shape\n",
      "# print max(X_train), max(X_test), max(y_train), max(y_test)\n",
      "# plt.hist(y_train)"
     ],
     "language": "python",
     "metadata": {},
     "outputs": [
      {
       "output_type": "stream",
       "stream": "stdout",
       "text": [
        "(1249068, 5)\n",
        "(1249068, 1)\n",
        "(999254, 5)"
       ]
      },
      {
       "output_type": "stream",
       "stream": "stdout",
       "text": [
        " (249814, 5) (999254, 1) (249814, 1)\n"
       ]
      }
     ],
     "prompt_number": 114
    },
    {
     "cell_type": "code",
     "collapsed": false,
     "input": [
      "from sklearn.linear_model import LogisticRegression\n",
      "\n",
      "y_test = np.squeeze(y_test)\n",
      "lin_model = LogisticRegression(C=1000.0, max_iter = 1000, fit_intercept=True,solver = 'saga')\n",
      "lin_model.fit(X_train, y_train)\n",
      "\n",
      "# i have retired this method of validating since only redicting the pixels not know what the image looks like has no \n",
      "# value to me\n",
      "\n",
      "# TESTING_IMAGE_SIZE = 1\n",
      "# RANDOM_INDEX = 256*256\n",
      "# y_predict = lin_model.predict(X_test[RANDOM_INDEX:TESTING_IMAGE_SIZE*256*256+RANDOM_INDEX])\n",
      "# print (y_predict)[:10], y_predict.shape, max(y_predict), max(y_test),y_predict[2]-y_test[2]\n",
      "# # this is really werid, when you subtract 0 by 1, result is 255, some kind of modular arithmic\n",
      "\n",
      "# accuracy = sum(((y_predict-y_test[RANDOM_INDEX:TESTING_IMAGE_SIZE*256*256+RANDOM_INDEX])==0)*1.0)\\\n",
      "#                 /(TESTING_IMAGE_SIZE*256*256)\n",
      "# print accuracy"
     ],
     "language": "python",
     "metadata": {},
     "outputs": [
      {
       "metadata": {},
       "output_type": "pyout",
       "prompt_number": 125,
       "text": [
        "LogisticRegression(C=1000.0, class_weight=None, dual=False,\n",
        "          fit_intercept=True, intercept_scaling=1, max_iter=1000,\n",
        "          multi_class='ovr', n_jobs=1, penalty='l2', random_state=None,\n",
        "          solver='saga', tol=0.0001, verbose=0, warm_start=False)"
       ]
      }
     ],
     "prompt_number": 125
    },
    {
     "cell_type": "code",
     "collapsed": false,
     "input": [
      "# credit to: https://www.kaggle.com/gaborvecsei/basic-pure-computer-vision-segmentation-lb-0-229\n",
      "def apply_morphology(mask):\n",
      "    mask = cv2.dilate(mask, cv2.getStructuringElement(cv2.MORPH_ELLIPSE, (5,5)))\n",
      "    mask = cv2.erode(mask, cv2.getStructuringElement(cv2.MORPH_ELLIPSE, (5,5)))\n",
      "    return mask\n",
      "\n",
      "def visualize_pixel_wise_prediction(model, image_index):\n",
      "#     image = normalize_image(X_train_no_resize[image_index])    % for only using pixel\n",
      "    h, w = normalize_image(X_train_no_resize[image_index]).shape\n",
      "    d = X_train_no_resize_grey[image_index].shape[1]\n",
      "    image = np.reshape(X_train_no_resize_grey[image_index],[h,w,d])\n",
      "    mask = np.reshape(Y_train_no_resize[image_index],[h,w])\n",
      "#     flatten_image = np.reshape(image,[image.shape[0]*image.shape[1],image.shape[1]])   % for only using pixel\n",
      "    flatten_image = X_train_no_resize_grey[image_index]\n",
      "    \n",
      "    print image.shape, flatten_image.shape, np.mean(flatten_image), np.max(flatten_image)\n",
      "    prediction = np.reshape(np.array(model.predict(flatten_image)),[h,w])\n",
      "    prediction = apply_morphology(prediction)\n",
      "    \n",
      "    accuracy = np.sum(((prediction-mask)==0)*1.0)/(h*w)\n",
      "    print \"accuracy for this image is: \", accuracy\n",
      "    print \"coefficient of model is: \", model.coef_\n",
      "    \n",
      "    #now visualize the image\n",
      "    plt.figure(figsize=(14,8))\n",
      "\n",
      "    plt.subplot(2,3,1)\n",
      "    plt.imshow(image[:,:,0], cmap='gray')\n",
      "    plt.axis('off')\n",
      "    plt.title('Original Image')\n",
      "\n",
      "    plt.subplot(2,3,2)\n",
      "    plt.imshow(prediction, cmap='gray')\n",
      "    plt.axis('off')\n",
      "    plt.title('Predict mask')\n",
      "\n",
      "    plt.subplot(2,3,3)\n",
      "    plt.imshow(mask, cmap='gray')\n",
      "    plt.axis('off')\n",
      "    plt.title('actual mask')\n",
      "    \n",
      "    plt.subplot(2,3,4)\n",
      "    plt.hist(image.flatten(),bins=50)\n",
      "    plt.title('pixel distribution')\n",
      "    \n",
      "    X0 = flatten_image[np.where(prediction.flatten()==0.0)]\n",
      "    X1 = flatten_image[np.where(prediction.flatten()==1.0)]\n",
      "    plt.subplot(2,3,5)\n",
      "#     plt.scatter(X0,np.ones([X0.shape[0],1]),c='red')             % for only pixel\n",
      "#     plt.scatter(X1,np.ones([X1.shape[0],1]),c='green')\n",
      "    plt.scatter(X0[:,0],X0[:,1],c='red')\n",
      "    plt.scatter(X1[:,0],X1[:,1],c='green')\n",
      "    plt.title('class distribution based on pixel')\n",
      "    \n",
      "    plt.tight_layout()\n",
      "    plt.show()\n",
      "\n",
      "# visualize_pixel_wise_prediction(lin_model, 1)      #this is a good example, 90.71 accuracy\n",
      "# good predicition images: 0, 1, 5\n",
      "# visualize_pixel_wise_prediction(lin_model, 2)      #this is a shitty example, completely wrong prediction\n",
      "# bad prediciton because of different types of images: 2, 3, 4, 500\n",
      "# bad prediction with same types of images: 6, 7, 9\n",
      "\n",
      "visualize_pixel_wise_prediction(lin_model, 9)"
     ],
     "language": "python",
     "metadata": {},
     "outputs": [
      {
       "output_type": "stream",
       "stream": "stdout",
       "text": [
        "(360, 360, 5) (129600, 5) 0.9979444734859169 3.647265008558831\n",
        "accuracy for this image is:  0.6022916666666667\n",
        "coefficient of model is:  [[ 2.66361131 -0.04171047 -0.16942008 -0.20921299 -0.15528758]]\n"
       ]
      },
      {
       "metadata": {},
       "output_type": "display_data",
       "png": "[encoded data removed]",
       "text": [
        "<matplotlib.figure.Figure at 0x7f5f2d964d50>"
       ]
      }
     ],
     "prompt_number": 154
    },
    {
     "cell_type": "code",
     "collapsed": false,
     "input": [
      "import random\n",
      "from sklearn.metrics import confusion_matrix\n",
      "\n",
      "def pixel_based_model_evaluation(model, num_test):\n",
      "    test_idx = random.sample(range(0, len(X_train_no_resize)), num_test)\n",
      "    print \"tested images are: \", test_idx\n",
      "    images = [normalize_image(X_train_no_resize[i]) for i in test_idx]\n",
      "    \n",
      "    Y_test = Y_train_no_resize[test_idx[0]]\n",
      "    for i in range(1,len(test_idx)):\n",
      "        Y_test = np.vstack([Y_test,Y_train_no_resize[test_idx[i]]])\n",
      "    Y_test[Y_test==255] = 1.0\n",
      "    \n",
      "    prediction_stack = np.array([])\n",
      "    for image in images:\n",
      "        flatten_image = image.flatten().reshape(-1, 1)\n",
      "        prediction = model.predict(flatten_image)\n",
      "        prediction_stack = np.vstack([prediction_stack.reshape(-1,1),prediction.reshape(-1,1)])\n",
      "    accuracy = np.sum(((prediction_stack-Y_test)==0)*1.0)/(Y_test.shape[0])\n",
      "    print confusion_matrix(Y_test, prediction_stack)\n",
      "    print \"accuracy for this image is: \", accuracy\n",
      "    \n",
      "pixel_based_model_evaluation(lin_model, 40)"
     ],
     "language": "python",
     "metadata": {},
     "outputs": [
      {
       "output_type": "stream",
       "stream": "stdout",
       "text": [
        "tested images are:  [185, 60, 488, 468, 615, 417, 451, 23, 439, 598, 649, 371, 94, 425, 101, 379, 217, 304, 213, 301, 463, 210, 406, 41, 321, 316, 131, 365, 132, 373, 609, 358, 239, 352, 653, 318, 296, 658, 265, 436]\n"
       ]
      },
      {
       "ename": "ValueError",
       "evalue": "X has 1 features per sample; expecting 5",
       "output_type": "pyerr",
       "traceback": [
        "\u001b[0;31m---------------------------------------------------------------------------\u001b[0m\n\u001b[0;31mValueError\u001b[0m                                Traceback (most recent call last)",
        "\u001b[0;32m<ipython-input-100-de6c074dfa20>\u001b[0m in \u001b[0;36m<module>\u001b[0;34m()\u001b[0m\n\u001b[1;32m     21\u001b[0m     \u001b[0;32mprint\u001b[0m \u001b[0;34m\"accuracy for this image is: \"\u001b[0m\u001b[0;34m,\u001b[0m \u001b[0maccuracy\u001b[0m\u001b[0;34m\u001b[0m\u001b[0m\n\u001b[1;32m     22\u001b[0m \u001b[0;34m\u001b[0m\u001b[0m\n\u001b[0;32m---> 23\u001b[0;31m \u001b[0mpixel_based_model_evaluation\u001b[0m\u001b[0;34m(\u001b[0m\u001b[0mlin_model\u001b[0m\u001b[0;34m,\u001b[0m \u001b[0;36m40\u001b[0m\u001b[0;34m)\u001b[0m\u001b[0;34m\u001b[0m\u001b[0m\n\u001b[0m",
        "\u001b[0;32m<ipython-input-100-de6c074dfa20>\u001b[0m in \u001b[0;36mpixel_based_model_evaluation\u001b[0;34m(model, num_test)\u001b[0m\n\u001b[1;32m     15\u001b[0m     \u001b[0;32mfor\u001b[0m \u001b[0mimage\u001b[0m \u001b[0;32min\u001b[0m \u001b[0mimages\u001b[0m\u001b[0;34m:\u001b[0m\u001b[0;34m\u001b[0m\u001b[0m\n\u001b[1;32m     16\u001b[0m         \u001b[0mflatten_image\u001b[0m \u001b[0;34m=\u001b[0m \u001b[0mimage\u001b[0m\u001b[0;34m.\u001b[0m\u001b[0mflatten\u001b[0m\u001b[0;34m(\u001b[0m\u001b[0;34m)\u001b[0m\u001b[0;34m.\u001b[0m\u001b[0mreshape\u001b[0m\u001b[0;34m(\u001b[0m\u001b[0;34m-\u001b[0m\u001b[0;36m1\u001b[0m\u001b[0;34m,\u001b[0m \u001b[0;36m1\u001b[0m\u001b[0;34m)\u001b[0m\u001b[0;34m\u001b[0m\u001b[0m\n\u001b[0;32m---> 17\u001b[0;31m         \u001b[0mprediction\u001b[0m \u001b[0;34m=\u001b[0m \u001b[0mmodel\u001b[0m\u001b[0;34m.\u001b[0m\u001b[0mpredict\u001b[0m\u001b[0;34m(\u001b[0m\u001b[0mflatten_image\u001b[0m\u001b[0;34m)\u001b[0m\u001b[0;34m\u001b[0m\u001b[0m\n\u001b[0m\u001b[1;32m     18\u001b[0m         \u001b[0mprediction_stack\u001b[0m \u001b[0;34m=\u001b[0m \u001b[0mnp\u001b[0m\u001b[0;34m.\u001b[0m\u001b[0mvstack\u001b[0m\u001b[0;34m(\u001b[0m\u001b[0;34m[\u001b[0m\u001b[0mprediction_stack\u001b[0m\u001b[0;34m.\u001b[0m\u001b[0mreshape\u001b[0m\u001b[0;34m(\u001b[0m\u001b[0;34m-\u001b[0m\u001b[0;36m1\u001b[0m\u001b[0;34m,\u001b[0m\u001b[0;36m1\u001b[0m\u001b[0;34m)\u001b[0m\u001b[0;34m,\u001b[0m\u001b[0mprediction\u001b[0m\u001b[0;34m.\u001b[0m\u001b[0mreshape\u001b[0m\u001b[0;34m(\u001b[0m\u001b[0;34m-\u001b[0m\u001b[0;36m1\u001b[0m\u001b[0;34m,\u001b[0m\u001b[0;36m1\u001b[0m\u001b[0;34m)\u001b[0m\u001b[0;34m]\u001b[0m\u001b[0;34m)\u001b[0m\u001b[0;34m\u001b[0m\u001b[0m\n\u001b[1;32m     19\u001b[0m     \u001b[0maccuracy\u001b[0m \u001b[0;34m=\u001b[0m \u001b[0mnp\u001b[0m\u001b[0;34m.\u001b[0m\u001b[0msum\u001b[0m\u001b[0;34m(\u001b[0m\u001b[0;34m(\u001b[0m\u001b[0;34m(\u001b[0m\u001b[0mprediction_stack\u001b[0m\u001b[0;34m-\u001b[0m\u001b[0mY_test\u001b[0m\u001b[0;34m)\u001b[0m\u001b[0;34m==\u001b[0m\u001b[0;36m0\u001b[0m\u001b[0;34m)\u001b[0m\u001b[0;34m*\u001b[0m\u001b[0;36m1.0\u001b[0m\u001b[0;34m)\u001b[0m\u001b[0;34m/\u001b[0m\u001b[0;34m(\u001b[0m\u001b[0mY_test\u001b[0m\u001b[0;34m.\u001b[0m\u001b[0mshape\u001b[0m\u001b[0;34m[\u001b[0m\u001b[0;36m0\u001b[0m\u001b[0;34m]\u001b[0m\u001b[0;34m)\u001b[0m\u001b[0;34m\u001b[0m\u001b[0m\n",
        "\u001b[0;32m/home/peter/.local/lib/python2.7/site-packages/sklearn/linear_model/base.pyc\u001b[0m in \u001b[0;36mpredict\u001b[0;34m(self, X)\u001b[0m\n\u001b[1;32m    322\u001b[0m             \u001b[0mPredicted\u001b[0m \u001b[0;32mclass\u001b[0m \u001b[0mlabel\u001b[0m \u001b[0mper\u001b[0m \u001b[0msample\u001b[0m\u001b[0;34m.\u001b[0m\u001b[0;34m\u001b[0m\u001b[0m\n\u001b[1;32m    323\u001b[0m         \"\"\"\n\u001b[0;32m--> 324\u001b[0;31m         \u001b[0mscores\u001b[0m \u001b[0;34m=\u001b[0m \u001b[0mself\u001b[0m\u001b[0;34m.\u001b[0m\u001b[0mdecision_function\u001b[0m\u001b[0;34m(\u001b[0m\u001b[0mX\u001b[0m\u001b[0;34m)\u001b[0m\u001b[0;34m\u001b[0m\u001b[0m\n\u001b[0m\u001b[1;32m    325\u001b[0m         \u001b[0;32mif\u001b[0m \u001b[0mlen\u001b[0m\u001b[0;34m(\u001b[0m\u001b[0mscores\u001b[0m\u001b[0;34m.\u001b[0m\u001b[0mshape\u001b[0m\u001b[0;34m)\u001b[0m \u001b[0;34m==\u001b[0m \u001b[0;36m1\u001b[0m\u001b[0;34m:\u001b[0m\u001b[0;34m\u001b[0m\u001b[0m\n\u001b[1;32m    326\u001b[0m             \u001b[0mindices\u001b[0m \u001b[0;34m=\u001b[0m \u001b[0;34m(\u001b[0m\u001b[0mscores\u001b[0m \u001b[0;34m>\u001b[0m \u001b[0;36m0\u001b[0m\u001b[0;34m)\u001b[0m\u001b[0;34m.\u001b[0m\u001b[0mastype\u001b[0m\u001b[0;34m(\u001b[0m\u001b[0mnp\u001b[0m\u001b[0;34m.\u001b[0m\u001b[0mint\u001b[0m\u001b[0;34m)\u001b[0m\u001b[0;34m\u001b[0m\u001b[0m\n",
        "\u001b[0;32m/home/peter/.local/lib/python2.7/site-packages/sklearn/linear_model/base.pyc\u001b[0m in \u001b[0;36mdecision_function\u001b[0;34m(self, X)\u001b[0m\n\u001b[1;32m    303\u001b[0m         \u001b[0;32mif\u001b[0m \u001b[0mX\u001b[0m\u001b[0;34m.\u001b[0m\u001b[0mshape\u001b[0m\u001b[0;34m[\u001b[0m\u001b[0;36m1\u001b[0m\u001b[0;34m]\u001b[0m \u001b[0;34m!=\u001b[0m \u001b[0mn_features\u001b[0m\u001b[0;34m:\u001b[0m\u001b[0;34m\u001b[0m\u001b[0m\n\u001b[1;32m    304\u001b[0m             raise ValueError(\"X has %d features per sample; expecting %d\"\n\u001b[0;32m--> 305\u001b[0;31m                              % (X.shape[1], n_features))\n\u001b[0m\u001b[1;32m    306\u001b[0m \u001b[0;34m\u001b[0m\u001b[0m\n\u001b[1;32m    307\u001b[0m         scores = safe_sparse_dot(X, self.coef_.T,\n",
        "\u001b[0;31mValueError\u001b[0m: X has 1 features per sample; expecting 5"
       ]
      }
     ],
     "prompt_number": 100
    },
    {
     "cell_type": "markdown",
     "metadata": {},
     "source": [
      "##Things to Try next:\n",
      "+ linear models:\n",
      "    - linear regression\n",
      "        - see above visualization on pixel based model, the model is only able to predict on very similar images, and even with similar images there are erros within, for instance it is not good at predicting small, less bright nucleus. Somethings we can conclude from this experiment:\n",
      "            - average accuracy is around 90-93%\n",
      "            - need to build something that can deal with different types of images (different color skeme, like white background black cells as opposed to black background white cells). But interesting thing with these images tho, is that there is no prediciton of cell what so ever, not even the pixels that have the same color as the cells in the background. example image 2,3,4\n",
      "                - so apparently there are three types of images: flourescence, histological, bright-field [link](https://www.kaggle.com/mpware/stage1-eda-microscope-image-types-clustering)\n",
      "            - need add feature that considers vincinity pixel, so pixels within cell that happened to have same color as background would not be mistaken, example image 7\n",
      "                + okay so this does not have so good of a result, the prediciton became too spotty. another reason it is a bad feature is because the coefficient of the model for these features varies drastically based on what training data it is from, so it is way overfitting, increasing regularization doesn't seem to do it. maybe increase the range of offeset we are collecting these surrounding pixels?\n",
      "                + after applying morphology, the decision boundary becomes non-linear, so i don't know what this could mean to me\n",
      "            - need to adjust color thresholding, because even within same type of image, not lit cells are usually considered background\n",
      "            - add some types of feature that take into consideration of the contour of the cells, because if cells are too close together, our model blend them in together as one, example image 8\n",
      "            - plot all the data points on a line based on pixel value and color them based on predicition (done)\n",
      "    - gaussian discrimitive analysis\n",
      "    - naive bayes\n",
      "    - GB models\n",
      "    - SVM\n",
      "+ kernel methods:\n",
      "    - gaussian kernal\n",
      "    - polynomial kernal\n",
      "+ features:\n",
      "    - pixel value\n",
      "    - percentile of the pixel value within image\n",
      "    - some FFT shit?\n",
      "    - neighbour pixel value\n",
      "    - neighbour prediction values\n",
      "    - location within picture\n",
      "+ other things to mess around with (computer vision techniques)\n",
      "    - Otsu thresholding or just thresholding the images\n",
      "    - finding image contours\n",
      "        - one way to deal with inversed image (bright-field) is to invert the pixel value if the largest value found were to be too big. [link](https://www.kaggle.com/gaborvecsei/basic-pure-computer-vision-segmentation-lb-0-229)\n",
      "    - dilation and erosion (basically adding contour and/or subtracting contour to the masks) [link](https://www.kaggle.com/gaborvecsei/basic-pure-computer-vision-segmentation-lb-0-229)\n",
      "        - so this can defnintely fix the problem where if pixels are too dark inside the cell there are \"holes\" in the mask (image 7), but for some reason the accuracy is still not higher than not applying morphology?\n",
      "    \n",
      "###road blocks\n",
      "- representing image in a 1D array is very not intuitive, once converted to pixel value, you can't really see how it's doing, need to predict on original image and visualize it to see how it is predicting, becuse I don't know whether these pixels are from the same image, by using random index, the accuracy of this model is bouncing between 0.34 - 0.92 accuracy"
     ]
    }
   ],
   "metadata": {}
  }
 ]
}